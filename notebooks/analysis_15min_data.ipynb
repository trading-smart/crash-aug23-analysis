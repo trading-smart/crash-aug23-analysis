{
 "cells": [
  {
   "cell_type": "markdown",
   "metadata": {},
   "source": [
    "# Aug 2023 BTC crash analysis - 15 minutes data"
   ]
  },
  {
   "cell_type": "markdown",
   "metadata": {},
   "source": [
    "***"
   ]
  },
  {
   "cell_type": "markdown",
   "metadata": {},
   "source": [
    "# Import libraries and set some intial paramenters"
   ]
  },
  {
   "cell_type": "markdown",
   "metadata": {},
   "source": [
    "## Import relevant libraries"
   ]
  },
  {
   "cell_type": "code",
   "execution_count": 1,
   "metadata": {},
   "outputs": [],
   "source": [
    "import pandas as pd\n",
    "import numpy as np\n",
    "from binance.client import Client\n",
    "from dotenv import load_dotenv\n",
    "\n",
    "import json\n",
    "from datetime import datetime, timedelta, date\n",
    "import plotly.graph_objects as go\n",
    "import plotly.express as px\n",
    "import os\n",
    "\n",
    "import sys\n",
    "sys.path.append('../src')\n",
    "\n",
    "import cryptonews as cn\n"
   ]
  },
  {
   "cell_type": "markdown",
   "metadata": {},
   "source": [
    "## Set some initial parameters"
   ]
  },
  {
   "cell_type": "code",
   "execution_count": null,
   "metadata": {},
   "outputs": [],
   "source": [
    "load_dotenv(dotenv_path='../config_files/.env')"
   ]
  },
  {
   "cell_type": "markdown",
   "metadata": {},
   "source": [
    "# Get Data"
   ]
  },
  {
   "cell_type": "markdown",
   "metadata": {},
   "source": [
    "## [OPTIONAL] Download the data from the API's\n",
    "Only if you have the API keys for `cryptonews-api` and `binance-api` and you want to download the data from the API's."
   ]
  },
  {
   "cell_type": "markdown",
   "metadata": {},
   "source": [
    "### Download Binance BTCUSDT data"
   ]
  },
  {
   "cell_type": "code",
   "execution_count": null,
   "metadata": {},
   "outputs": [],
   "source": [
    "asset_ticket = \"BTCUSDT\"\n",
    "timestamp = 'Client.KLINE_INTERVAL_15MINUTE'\n",
    "# start_date = \"01 Aug, 2023\"\n",
    "# end_date = \"20 Aug, 2023\"\n",
    "start_date = \"16 Aug, 2023\"\n",
    "end_date = \"18 Aug, 2023\""
   ]
  },
  {
   "cell_type": "code",
   "execution_count": null,
   "metadata": {},
   "outputs": [],
   "source": [
    "# Create the Binance API client\n",
    "client = Client(os.environ[\"BINANCE_API_KEY\"], os.environ[\"BINANCE_SECRET_KEY\"])"
   ]
  },
  {
   "cell_type": "code",
   "execution_count": null,
   "metadata": {},
   "outputs": [],
   "source": [
    "klines = client.get_historical_klines(asset_ticket, eval(timestamp), start_date, end_date)"
   ]
  },
  {
   "cell_type": "code",
   "execution_count": null,
   "metadata": {},
   "outputs": [],
   "source": [
    "df_klines = pd.DataFrame(klines, columns = ['open_time', 'open', 'high', 'low', 'close', 'volume', 'close_time', 'quote_asset_volume', 'number_of_trades', 'taker_buy_base_asset_volume', 'taker_buy_quote_asset_volume', 'ignore'])\n",
    "\n",
    "# Convert 'object' to float pandas\n",
    "df_klines['open'] = pd.to_numeric(df_klines['open'])\n",
    "df_klines['high'] = pd.to_numeric(df_klines['high'])\n",
    "df_klines['low'] = pd.to_numeric(df_klines['low'])\n",
    "df_klines['close'] = pd.to_numeric(df_klines['close'])\n",
    "df_klines['volume'] = pd.to_numeric(df_klines['volume'])\n",
    "\n",
    "# Convert the 'open_time' and 'close_time' to a Pandas DataTime format\n",
    "df_klines['formatted_open_time'] = pd.to_datetime(df_klines['open_time'], infer_datetime_format=True, unit=\"ms\")\n",
    "\n",
    "# Converting Date Column to DateTime Type\n",
    "df_klines['date'] = pd.to_datetime(df_klines['formatted_open_time'])\n",
    "df_klines['date'] = pd.to_datetime(df_klines['date']).dt.strftime('%Y-%m-%d %H:%M:%S')\n",
    "df_klines['date'] = pd.to_datetime(df_klines['date'])\n",
    "\n",
    "# Get the columns we need\n",
    "df_klines = df_klines[['date', 'open', 'high', 'low', 'close', 'volume']]\n",
    "\n",
    "# Export the data to a CSV file\n",
    "df_klines.to_csv(f\"../data/{asset_ticket}_15min_data_from_{datetime.strptime(start_date,'%d %b, %Y').strftime('%Y%m%d')}_to_{datetime.strptime(end_date,'%d %b, %Y').strftime('%Y%m%d')}.csv\", index=False)"
   ]
  },
  {
   "cell_type": "markdown",
   "metadata": {},
   "source": [
    "### Download Crypto News data"
   ]
  },
  {
   "cell_type": "code",
   "execution_count": null,
   "metadata": {},
   "outputs": [],
   "source": [
    "ticket = \"BTC\"\n",
    "sd = date(2023, 8, 1)\n",
    "ed = date(2023, 8, 20)"
   ]
  },
  {
   "cell_type": "code",
   "execution_count": null,
   "metadata": {},
   "outputs": [],
   "source": [
    "cn.get_cryptonews('BTC', sd, ed)"
   ]
  },
  {
   "cell_type": "markdown",
   "metadata": {},
   "source": [
    "## Import data from local files"
   ]
  },
  {
   "cell_type": "code",
   "execution_count": 2,
   "metadata": {},
   "outputs": [],
   "source": [
    "btc = pd.read_csv('../data/BTCUSDT_15min_data_from_20230816_to_20230818.csv')\n",
    "btc['date'] = pd.to_datetime(btc['date'])"
   ]
  },
  {
   "cell_type": "code",
   "execution_count": 3,
   "metadata": {},
   "outputs": [
    {
     "data": {
      "text/html": [
       "<div>\n",
       "<style scoped>\n",
       "    .dataframe tbody tr th:only-of-type {\n",
       "        vertical-align: middle;\n",
       "    }\n",
       "\n",
       "    .dataframe tbody tr th {\n",
       "        vertical-align: top;\n",
       "    }\n",
       "\n",
       "    .dataframe thead th {\n",
       "        text-align: right;\n",
       "    }\n",
       "</style>\n",
       "<table border=\"1\" class=\"dataframe\">\n",
       "  <thead>\n",
       "    <tr style=\"text-align: right;\">\n",
       "      <th></th>\n",
       "      <th>date</th>\n",
       "      <th>open</th>\n",
       "      <th>high</th>\n",
       "      <th>low</th>\n",
       "      <th>close</th>\n",
       "      <th>volume</th>\n",
       "    </tr>\n",
       "  </thead>\n",
       "  <tbody>\n",
       "    <tr>\n",
       "      <th>0</th>\n",
       "      <td>2023-08-16 00:00:00</td>\n",
       "      <td>29200.01</td>\n",
       "      <td>29227.56</td>\n",
       "      <td>29196.21</td>\n",
       "      <td>29227.55</td>\n",
       "      <td>105.95848</td>\n",
       "    </tr>\n",
       "    <tr>\n",
       "      <th>1</th>\n",
       "      <td>2023-08-16 00:15:00</td>\n",
       "      <td>29227.55</td>\n",
       "      <td>29237.27</td>\n",
       "      <td>29216.18</td>\n",
       "      <td>29216.18</td>\n",
       "      <td>91.71733</td>\n",
       "    </tr>\n",
       "    <tr>\n",
       "      <th>2</th>\n",
       "      <td>2023-08-16 00:30:00</td>\n",
       "      <td>29216.19</td>\n",
       "      <td>29216.19</td>\n",
       "      <td>29200.48</td>\n",
       "      <td>29203.00</td>\n",
       "      <td>174.88783</td>\n",
       "    </tr>\n",
       "    <tr>\n",
       "      <th>3</th>\n",
       "      <td>2023-08-16 00:45:00</td>\n",
       "      <td>29203.00</td>\n",
       "      <td>29259.85</td>\n",
       "      <td>29199.99</td>\n",
       "      <td>29224.37</td>\n",
       "      <td>266.36770</td>\n",
       "    </tr>\n",
       "    <tr>\n",
       "      <th>4</th>\n",
       "      <td>2023-08-16 01:00:00</td>\n",
       "      <td>29224.37</td>\n",
       "      <td>29229.75</td>\n",
       "      <td>29209.96</td>\n",
       "      <td>29226.13</td>\n",
       "      <td>210.20481</td>\n",
       "    </tr>\n",
       "  </tbody>\n",
       "</table>\n",
       "</div>"
      ],
      "text/plain": [
       "                 date      open      high       low     close     volume\n",
       "0 2023-08-16 00:00:00  29200.01  29227.56  29196.21  29227.55  105.95848\n",
       "1 2023-08-16 00:15:00  29227.55  29237.27  29216.18  29216.18   91.71733\n",
       "2 2023-08-16 00:30:00  29216.19  29216.19  29200.48  29203.00  174.88783\n",
       "3 2023-08-16 00:45:00  29203.00  29259.85  29199.99  29224.37  266.36770\n",
       "4 2023-08-16 01:00:00  29224.37  29229.75  29209.96  29226.13  210.20481"
      ]
     },
     "execution_count": 3,
     "metadata": {},
     "output_type": "execute_result"
    }
   ],
   "source": [
    "btc.head()"
   ]
  },
  {
   "cell_type": "code",
   "execution_count": 18,
   "metadata": {},
   "outputs": [],
   "source": [
    "news = pd.read_csv('../data/formatted_cryptonews_BTC_from_20230801_to_20230820.csv')\n",
    "news['utc_datetime'] = pd.to_datetime(news['utc_datetime'])\n",
    "news = news[(news['utc_datetime'] >= '2023-08-16 00:00:00') & (news['utc_datetime'] <= '2023-08-18 00:00:00')]\n",
    "news = news.sort_values(by='utc_datetime', ascending=True)"
   ]
  },
  {
   "cell_type": "code",
   "execution_count": 19,
   "metadata": {},
   "outputs": [
    {
     "data": {
      "text/html": [
       "<div>\n",
       "<style scoped>\n",
       "    .dataframe tbody tr th:only-of-type {\n",
       "        vertical-align: middle;\n",
       "    }\n",
       "\n",
       "    .dataframe tbody tr th {\n",
       "        vertical-align: top;\n",
       "    }\n",
       "\n",
       "    .dataframe thead th {\n",
       "        text-align: right;\n",
       "    }\n",
       "</style>\n",
       "<table border=\"1\" class=\"dataframe\">\n",
       "  <thead>\n",
       "    <tr style=\"text-align: right;\">\n",
       "      <th></th>\n",
       "      <th>news_url</th>\n",
       "      <th>image_url</th>\n",
       "      <th>title</th>\n",
       "      <th>text</th>\n",
       "      <th>source_name</th>\n",
       "      <th>date</th>\n",
       "      <th>topics</th>\n",
       "      <th>sentiment</th>\n",
       "      <th>type</th>\n",
       "      <th>tickers</th>\n",
       "      <th>news_id</th>\n",
       "      <th>rank_score</th>\n",
       "      <th>eventid</th>\n",
       "      <th>datetime</th>\n",
       "      <th>utc_zone</th>\n",
       "      <th>utc_datetime</th>\n",
       "    </tr>\n",
       "  </thead>\n",
       "  <tbody>\n",
       "    <tr>\n",
       "      <th>1247</th>\n",
       "      <td>https://www.newsbtc.com/bitcoin-news/this-drea...</td>\n",
       "      <td>https://crypto.snapi.dev/images/v1/i/h/bitcoin...</td>\n",
       "      <td>This Dreaded Candlestick Formation Just Printe...</td>\n",
       "      <td>Bitcoin, the most valuable crypto asset, is at...</td>\n",
       "      <td>NewsBTC</td>\n",
       "      <td>Tue, 15 Aug 2023 20:00:53 -0400</td>\n",
       "      <td>['pricemovement']</td>\n",
       "      <td>Negative</td>\n",
       "      <td>Article</td>\n",
       "      <td>['BTC']</td>\n",
       "      <td>348587</td>\n",
       "      <td>4.96</td>\n",
       "      <td>NaN</td>\n",
       "      <td>2023-08-15 20:00:53</td>\n",
       "      <td>-400</td>\n",
       "      <td>2023-08-16 00:00:53</td>\n",
       "    </tr>\n",
       "    <tr>\n",
       "      <th>1270</th>\n",
       "      <td>https://investorplace.com/2023/08/7-cryptos-on...</td>\n",
       "      <td>https://crypto.snapi.dev/images/v1/5/y/5yh2-34...</td>\n",
       "      <td>7 Cryptos on Watch as Blockchain Miners Lose T...</td>\n",
       "      <td>Once again, cryptos have entered into a frustr...</td>\n",
       "      <td>Investorplace</td>\n",
       "      <td>Tue, 15 Aug 2023 21:28:15 -0400</td>\n",
       "      <td>['mining']</td>\n",
       "      <td>Negative</td>\n",
       "      <td>Article</td>\n",
       "      <td>['BTC', 'ETH', 'USDT', 'ADA', 'DOGE', 'SOL', '...</td>\n",
       "      <td>348603</td>\n",
       "      <td>4.37</td>\n",
       "      <td>NaN</td>\n",
       "      <td>2023-08-15 21:28:15</td>\n",
       "      <td>-400</td>\n",
       "      <td>2023-08-16 01:28:15</td>\n",
       "    </tr>\n",
       "    <tr>\n",
       "      <th>1203</th>\n",
       "      <td>https://ambcrypto.com/assessing-bitcoin-ordina...</td>\n",
       "      <td>https://crypto.snapi.dev/images/v1/z/i/bitcoin...</td>\n",
       "      <td>Assessing Bitcoin Ordinals' crest and trough s...</td>\n",
       "      <td>Here's how Bitcoin Ordinals fared over the las...</td>\n",
       "      <td>AMBCrypto</td>\n",
       "      <td>Tue, 15 Aug 2023 21:30:53 -0400</td>\n",
       "      <td>[]</td>\n",
       "      <td>Neutral</td>\n",
       "      <td>Article</td>\n",
       "      <td>['BTC']</td>\n",
       "      <td>348602</td>\n",
       "      <td>6.18</td>\n",
       "      <td>NaN</td>\n",
       "      <td>2023-08-15 21:30:53</td>\n",
       "      <td>-400</td>\n",
       "      <td>2023-08-16 01:30:53</td>\n",
       "    </tr>\n",
       "    <tr>\n",
       "      <th>1244</th>\n",
       "      <td>https://thecurrencyanalytics.com/bitcoin/polit...</td>\n",
       "      <td>https://crypto.snapi.dev/images/v1/l/j/bitcoin...</td>\n",
       "      <td>Political Winds and Bitcoin ETFs: A Former SEC...</td>\n",
       "      <td>In a twist that has caught many by surprise, a...</td>\n",
       "      <td>The Currency Analytics</td>\n",
       "      <td>Tue, 15 Aug 2023 21:45:55 -0400</td>\n",
       "      <td>['regulations', 'priceforecast']</td>\n",
       "      <td>Positive</td>\n",
       "      <td>Article</td>\n",
       "      <td>['BTC']</td>\n",
       "      <td>348606</td>\n",
       "      <td>5.10</td>\n",
       "      <td>NaN</td>\n",
       "      <td>2023-08-15 21:45:55</td>\n",
       "      <td>-400</td>\n",
       "      <td>2023-08-16 01:45:55</td>\n",
       "    </tr>\n",
       "    <tr>\n",
       "      <th>1236</th>\n",
       "      <td>https://www.crowdfundinsider.com/2023/08/21143...</td>\n",
       "      <td>https://crypto.snapi.dev/images/v1/p/a/cryptoc...</td>\n",
       "      <td>Bitcoin (BTC) Mining Firm Riot Platforms Relea...</td>\n",
       "      <td>Riot Platforms, Inc. (NASDAQ: RIOT), which cla...</td>\n",
       "      <td>CrowdFundInsider</td>\n",
       "      <td>Tue, 15 Aug 2023 21:56:11 -0400</td>\n",
       "      <td>['mining']</td>\n",
       "      <td>Positive</td>\n",
       "      <td>Article</td>\n",
       "      <td>['BTC']</td>\n",
       "      <td>348610</td>\n",
       "      <td>5.46</td>\n",
       "      <td>NaN</td>\n",
       "      <td>2023-08-15 21:56:11</td>\n",
       "      <td>-400</td>\n",
       "      <td>2023-08-16 01:56:11</td>\n",
       "    </tr>\n",
       "  </tbody>\n",
       "</table>\n",
       "</div>"
      ],
      "text/plain": [
       "                                               news_url  \\\n",
       "1247  https://www.newsbtc.com/bitcoin-news/this-drea...   \n",
       "1270  https://investorplace.com/2023/08/7-cryptos-on...   \n",
       "1203  https://ambcrypto.com/assessing-bitcoin-ordina...   \n",
       "1244  https://thecurrencyanalytics.com/bitcoin/polit...   \n",
       "1236  https://www.crowdfundinsider.com/2023/08/21143...   \n",
       "\n",
       "                                              image_url  \\\n",
       "1247  https://crypto.snapi.dev/images/v1/i/h/bitcoin...   \n",
       "1270  https://crypto.snapi.dev/images/v1/5/y/5yh2-34...   \n",
       "1203  https://crypto.snapi.dev/images/v1/z/i/bitcoin...   \n",
       "1244  https://crypto.snapi.dev/images/v1/l/j/bitcoin...   \n",
       "1236  https://crypto.snapi.dev/images/v1/p/a/cryptoc...   \n",
       "\n",
       "                                                  title  \\\n",
       "1247  This Dreaded Candlestick Formation Just Printe...   \n",
       "1270  7 Cryptos on Watch as Blockchain Miners Lose T...   \n",
       "1203  Assessing Bitcoin Ordinals' crest and trough s...   \n",
       "1244  Political Winds and Bitcoin ETFs: A Former SEC...   \n",
       "1236  Bitcoin (BTC) Mining Firm Riot Platforms Relea...   \n",
       "\n",
       "                                                   text  \\\n",
       "1247  Bitcoin, the most valuable crypto asset, is at...   \n",
       "1270  Once again, cryptos have entered into a frustr...   \n",
       "1203  Here's how Bitcoin Ordinals fared over the las...   \n",
       "1244  In a twist that has caught many by surprise, a...   \n",
       "1236  Riot Platforms, Inc. (NASDAQ: RIOT), which cla...   \n",
       "\n",
       "                 source_name                             date  \\\n",
       "1247                 NewsBTC  Tue, 15 Aug 2023 20:00:53 -0400   \n",
       "1270           Investorplace  Tue, 15 Aug 2023 21:28:15 -0400   \n",
       "1203               AMBCrypto  Tue, 15 Aug 2023 21:30:53 -0400   \n",
       "1244  The Currency Analytics  Tue, 15 Aug 2023 21:45:55 -0400   \n",
       "1236        CrowdFundInsider  Tue, 15 Aug 2023 21:56:11 -0400   \n",
       "\n",
       "                                topics sentiment     type  \\\n",
       "1247                 ['pricemovement']  Negative  Article   \n",
       "1270                        ['mining']  Negative  Article   \n",
       "1203                                []   Neutral  Article   \n",
       "1244  ['regulations', 'priceforecast']  Positive  Article   \n",
       "1236                        ['mining']  Positive  Article   \n",
       "\n",
       "                                                tickers  news_id  rank_score  \\\n",
       "1247                                            ['BTC']   348587        4.96   \n",
       "1270  ['BTC', 'ETH', 'USDT', 'ADA', 'DOGE', 'SOL', '...   348603        4.37   \n",
       "1203                                            ['BTC']   348602        6.18   \n",
       "1244                                            ['BTC']   348606        5.10   \n",
       "1236                                            ['BTC']   348610        5.46   \n",
       "\n",
       "     eventid             datetime  utc_zone        utc_datetime  \n",
       "1247     NaN  2023-08-15 20:00:53      -400 2023-08-16 00:00:53  \n",
       "1270     NaN  2023-08-15 21:28:15      -400 2023-08-16 01:28:15  \n",
       "1203     NaN  2023-08-15 21:30:53      -400 2023-08-16 01:30:53  \n",
       "1244     NaN  2023-08-15 21:45:55      -400 2023-08-16 01:45:55  \n",
       "1236     NaN  2023-08-15 21:56:11      -400 2023-08-16 01:56:11  "
      ]
     },
     "execution_count": 19,
     "metadata": {},
     "output_type": "execute_result"
    }
   ],
   "source": [
    "news.head()"
   ]
  },
  {
   "cell_type": "markdown",
   "metadata": {},
   "source": [
    "***\n",
    "# Analytics\n",
    "\n",
    "* _Context_: during the third week of August 2023, BTC's price plummeted.\n",
    "\n",
    "* _Hypothesis_: could we have foreseen such drastic downward trend with news sentiment data?"
   ]
  },
  {
   "cell_type": "code",
   "execution_count": 20,
   "metadata": {},
   "outputs": [
    {
     "data": {
      "application/vnd.plotly.v1+json": {
       "config": {
        "plotlyServerURL": "https://plot.ly"
       },
       "data": [
        {
         "close": [
          29227.55,
          29216.18,
          29203,
          29224.37,
          29226.13,
          29221,
          29226.02,
          29245.47,
          29251.51,
          29228.8,
          29238.68,
          29255.14,
          29235.99,
          29223.16,
          29243.97,
          29228.51,
          29232.27,
          29218.95,
          29221.97,
          29208.37,
          29209.23,
          29192.86,
          29152.15,
          29142.23,
          29142,
          29159.7,
          29182.15,
          29193.23,
          29197.85,
          29190.59,
          29210.82,
          29197.67,
          29187.24,
          29173.45,
          29210.02,
          29179.96,
          29168.58,
          29150.01,
          29158.79,
          29167.59,
          29173.99,
          29185.24,
          29196,
          29197.33,
          29170.15,
          29182.09,
          29154.01,
          29164.67,
          29140.41,
          29096.95,
          29170.01,
          29160,
          29141.98,
          29123.76,
          29122,
          29088.62,
          29105.99,
          29130.08,
          29150.86,
          29159.91,
          29177.3,
          29159.61,
          29144.44,
          29106.55,
          29023.9,
          28972.01,
          29025.96,
          29086.52,
          29085.06,
          29143.2,
          29144,
          29168,
          29130,
          29220,
          29216,
          29172,
          29140.74,
          29146.52,
          29140.67,
          29111.7,
          29136.45,
          28981.99,
          28920,
          28974.01,
          28898,
          28918.01,
          28906.07,
          28929.63,
          28976.01,
          28962,
          28934.56,
          28910,
          28870.58,
          28850.11,
          28753.19,
          28730.51,
          28779.99,
          28754,
          28448,
          28580.85,
          28595.83,
          28634.25,
          28580.01,
          28632.69,
          28597.58,
          28622.78,
          28594.01,
          28584.35,
          28592.01,
          28638.81,
          28678.39,
          28657.31,
          28650.56,
          28641.45,
          28612.54,
          28649.99,
          28649.99,
          28652.51,
          28639.04,
          28679.64,
          28658.24,
          28679.19,
          28696.01,
          28690.22,
          28645.02,
          28629.04,
          28610.45,
          28621.99,
          28610.97,
          28583.99,
          28603.38,
          28554.01,
          28555.16,
          28571.99,
          28590.53,
          28593.12,
          28595.99,
          28602.18,
          28550.99,
          28540,
          28507.77,
          28502.78,
          28554.63,
          28545.11,
          28476,
          28523.54,
          28536.15,
          28496.41,
          28491.59,
          28521.99,
          28426,
          28400,
          28367.98,
          28383.99,
          28379.59,
          28394.34,
          28457.51,
          28401.43,
          28053.79,
          27934.02,
          27814.01,
          27888.98,
          28044,
          27937.35,
          27980.02,
          28005.99,
          27983.62,
          27974,
          27971.75,
          27957.68,
          27900.01,
          27879.97,
          27937.99,
          27955.26,
          27928.2,
          27894.01,
          27875.77,
          27817.56,
          27734.52,
          27679.57,
          27598,
          27672.95,
          25188.01,
          26253.92,
          26186.01,
          26472.01,
          26340.06,
          26801.29,
          26850.07,
          26638.01,
          26667.99,
          26623.41,
          26782.12
         ],
         "high": [
          29227.56,
          29237.27,
          29216.19,
          29259.85,
          29229.75,
          29240,
          29226.02,
          29249.02,
          29255.99,
          29257.46,
          29238.69,
          29255.14,
          29255.14,
          29241.4,
          29243.98,
          29243.98,
          29235.54,
          29232.28,
          29222.01,
          29221.98,
          29209.24,
          29209.24,
          29192.87,
          29167.66,
          29151.95,
          29180,
          29193.61,
          29195.87,
          29198.92,
          29212.6,
          29210.83,
          29213.12,
          29200.43,
          29187.24,
          29216.46,
          29210.02,
          29179.96,
          29176.65,
          29160,
          29177.46,
          29175,
          29204.35,
          29206.61,
          29206,
          29198,
          29184.5,
          29182.09,
          29165.84,
          29164.67,
          29140.5,
          29180.85,
          29211.34,
          29177.69,
          29158,
          29134.53,
          29148,
          29130.13,
          29135.61,
          29165,
          29159.92,
          29177.31,
          29184.31,
          29163.07,
          29148,
          29107.75,
          29046.01,
          29030,
          29086.53,
          29095,
          29155.8,
          29165.77,
          29169.35,
          29188.55,
          29234.01,
          29235,
          29224,
          29172,
          29146.52,
          29157.6,
          29158.9,
          29139.99,
          29136.46,
          29040,
          28975.44,
          28974.01,
          28930,
          28949,
          28933.18,
          28977.77,
          28976.02,
          28962.01,
          28937.89,
          28910.01,
          28890,
          28862.1,
          28775.74,
          28780,
          28783.48,
          28754,
          28589.99,
          28617.93,
          28634.25,
          28635.93,
          28632.7,
          28647.7,
          28624,
          28627.56,
          28596,
          28600,
          28642,
          28680,
          28698.01,
          28665.28,
          28706.31,
          28643.09,
          28653.18,
          28667.66,
          28660,
          28657.32,
          28679.65,
          28691.83,
          28693.41,
          28697.6,
          28696.01,
          28690.22,
          28645.02,
          28632.04,
          28623.8,
          28635.3,
          28610.97,
          28609.16,
          28603.39,
          28579.72,
          28599.05,
          28603.14,
          28620,
          28600,
          28603.6,
          28610.07,
          28561.07,
          28547.46,
          28537.56,
          28554.63,
          28567.08,
          28546,
          28535.3,
          28573.55,
          28550,
          28510,
          28545,
          28524,
          28447.8,
          28460.01,
          28435.68,
          28418.42,
          28431.08,
          28500.6,
          28494.72,
          28422,
          28123.04,
          27980.32,
          27890.73,
          28089.78,
          28058,
          28040,
          28040,
          28031.3,
          27987.82,
          28025.08,
          28003.9,
          27958.42,
          27913.74,
          27938.24,
          27971.17,
          27975.59,
          27954,
          27920.23,
          27878.58,
          27850,
          27759.59,
          27737.83,
          27717.24,
          27716.08,
          26481.9,
          26500,
          26496.71,
          26482.82,
          27150,
          27000,
          26886.01,
          26726,
          26698,
          26832.6
         ],
         "low": [
          29196.21,
          29216.18,
          29200.48,
          29199.99,
          29209.96,
          29221,
          29184.96,
          29224.2,
          29244,
          29228.8,
          29223.39,
          29238.68,
          29234,
          29223.16,
          29223.16,
          29228.51,
          29227.26,
          29218.94,
          29208,
          29204.67,
          29201.57,
          29179.87,
          29152.15,
          29138.16,
          29111,
          29141.99,
          29159.7,
          29170,
          29186,
          29190.58,
          29177.18,
          29197.66,
          29187.23,
          29161.69,
          29173.45,
          29179.95,
          29150,
          29128.74,
          29100,
          29140.85,
          29164.65,
          29173.98,
          29185.23,
          29191.95,
          29170.14,
          29169.94,
          29154,
          29147.94,
          29137.69,
          29087.15,
          29047.09,
          29159.99,
          29134.58,
          29112.24,
          29081.55,
          29073.6,
          29050.47,
          29105.99,
          29130.08,
          29125.94,
          29150.36,
          29148.55,
          29144.44,
          29100.39,
          28971.83,
          28956,
          28970,
          29025.96,
          29051.09,
          29058.08,
          29124.6,
          29123.02,
          29108.74,
          29130,
          29198.01,
          29160,
          29122.53,
          29106.01,
          29133.12,
          29110,
          29102.02,
          28915,
          28840.9,
          28900,
          28866.76,
          28875,
          28894.68,
          28903.72,
          28929.62,
          28940.14,
          28918.53,
          28908,
          28814.38,
          28842,
          28735,
          28723.08,
          28670.52,
          28694.66,
          28400,
          28342,
          28540,
          28555.14,
          28566.41,
          28558.19,
          28594.89,
          28570.92,
          28590.01,
          28570.93,
          28578.01,
          28592,
          28632,
          28657.3,
          28644.65,
          28641.44,
          28612.54,
          28612.54,
          28633.77,
          28644,
          28639.03,
          28639.03,
          28658.23,
          28655.92,
          28664,
          28670.6,
          28645.01,
          28624.17,
          28601.87,
          28602.26,
          28610.96,
          28581.93,
          28568.12,
          28546.89,
          28517.45,
          28555.15,
          28571.99,
          28586.39,
          28564.15,
          28595.99,
          28545,
          28496.47,
          28496.97,
          28483.89,
          28499.6,
          28545.1,
          28472,
          28435.26,
          28507.29,
          28496.4,
          28452.44,
          28491.59,
          28413.79,
          28381,
          28357,
          28336,
          28320.11,
          28348.58,
          28276,
          28400,
          27981,
          27888,
          27700,
          27785.2,
          27875,
          27884.92,
          27936.65,
          27980.01,
          27969.7,
          27949,
          27962,
          27949.5,
          27878.9,
          27864.74,
          27858.07,
          27917.12,
          27928.2,
          27891.19,
          27874,
          27813.7,
          27720,
          27530,
          27574.68,
          27576.81,
          25188,
          25166,
          25950,
          26175.88,
          26287.74,
          26300.99,
          26682.32,
          26570.51,
          26458.67,
          26583.58,
          26593.86
         ],
         "open": [
          29200.01,
          29227.55,
          29216.19,
          29203,
          29224.37,
          29226.13,
          29221,
          29226.01,
          29245.46,
          29251.51,
          29228.8,
          29238.68,
          29255.14,
          29235.99,
          29223.17,
          29243.97,
          29228.51,
          29232.27,
          29218.94,
          29221.97,
          29208.36,
          29209.24,
          29192.87,
          29152.15,
          29142.24,
          29142,
          29159.7,
          29182.15,
          29193.22,
          29197.84,
          29190.58,
          29210.82,
          29197.67,
          29187.24,
          29173.45,
          29210.01,
          29179.95,
          29168.58,
          29150,
          29158.79,
          29167.6,
          29173.99,
          29185.24,
          29196.01,
          29197.34,
          29170.14,
          29182.08,
          29154,
          29164.67,
          29140.42,
          29096.95,
          29170,
          29159.99,
          29141.98,
          29123.75,
          29122,
          29088.62,
          29105.99,
          29130.09,
          29150.85,
          29159.92,
          29177.31,
          29159.61,
          29144.44,
          29106.55,
          29023.9,
          28972.01,
          29025.97,
          29086.53,
          29085.06,
          29143.19,
          29144,
          29168,
          29130,
          29220,
          29216,
          29171.99,
          29140.74,
          29146.51,
          29140.67,
          29111.69,
          29136.45,
          28982,
          28920.01,
          28974.01,
          28897.99,
          28918,
          28906.07,
          28929.63,
          28976.02,
          28962,
          28934.55,
          28910.01,
          28870.58,
          28850.11,
          28753.19,
          28730.51,
          28780,
          28754,
          28447.99,
          28580.84,
          28595.83,
          28634.25,
          28580.01,
          28632.7,
          28597.59,
          28622.79,
          28594.01,
          28584.35,
          28592.01,
          28638.8,
          28678.4,
          28657.3,
          28650.55,
          28641.45,
          28612.54,
          28649.99,
          28650,
          28652.51,
          28639.04,
          28679.65,
          28658.24,
          28679.18,
          28696,
          28690.21,
          28645.02,
          28629.05,
          28610.46,
          28622,
          28610.97,
          28584,
          28603.38,
          28554.01,
          28555.15,
          28572,
          28590.53,
          28593.12,
          28595.99,
          28602.18,
          28550.98,
          28540,
          28507.76,
          28502.77,
          28554.62,
          28545.1,
          28476,
          28523.53,
          28536.14,
          28496.4,
          28491.6,
          28521.98,
          28426,
          28400,
          28367.98,
          28383.98,
          28379.6,
          28394.34,
          28457.52,
          28401.43,
          28053.8,
          27934.02,
          27814.01,
          27888.97,
          28043.99,
          27937.36,
          27980.02,
          28006,
          27983.62,
          27973.99,
          27971.74,
          27957.67,
          27900.01,
          27879.98,
          27937.99,
          27955.26,
          27928.2,
          27894,
          27875.77,
          27817.56,
          27734.51,
          27679.56,
          27598.01,
          27672.94,
          25188,
          26253.93,
          26186.01,
          26472.01,
          26340.05,
          26801.3,
          26850.07,
          26638,
          26667.99,
          26623.41
         ],
         "type": "candlestick",
         "x": [
          "2023-08-16T00:00:00",
          "2023-08-16T00:15:00",
          "2023-08-16T00:30:00",
          "2023-08-16T00:45:00",
          "2023-08-16T01:00:00",
          "2023-08-16T01:15:00",
          "2023-08-16T01:30:00",
          "2023-08-16T01:45:00",
          "2023-08-16T02:00:00",
          "2023-08-16T02:15:00",
          "2023-08-16T02:30:00",
          "2023-08-16T02:45:00",
          "2023-08-16T03:00:00",
          "2023-08-16T03:15:00",
          "2023-08-16T03:30:00",
          "2023-08-16T03:45:00",
          "2023-08-16T04:00:00",
          "2023-08-16T04:15:00",
          "2023-08-16T04:30:00",
          "2023-08-16T04:45:00",
          "2023-08-16T05:00:00",
          "2023-08-16T05:15:00",
          "2023-08-16T05:30:00",
          "2023-08-16T05:45:00",
          "2023-08-16T06:00:00",
          "2023-08-16T06:15:00",
          "2023-08-16T06:30:00",
          "2023-08-16T06:45:00",
          "2023-08-16T07:00:00",
          "2023-08-16T07:15:00",
          "2023-08-16T07:30:00",
          "2023-08-16T07:45:00",
          "2023-08-16T08:00:00",
          "2023-08-16T08:15:00",
          "2023-08-16T08:30:00",
          "2023-08-16T08:45:00",
          "2023-08-16T09:00:00",
          "2023-08-16T09:15:00",
          "2023-08-16T09:30:00",
          "2023-08-16T09:45:00",
          "2023-08-16T10:00:00",
          "2023-08-16T10:15:00",
          "2023-08-16T10:30:00",
          "2023-08-16T10:45:00",
          "2023-08-16T11:00:00",
          "2023-08-16T11:15:00",
          "2023-08-16T11:30:00",
          "2023-08-16T11:45:00",
          "2023-08-16T12:00:00",
          "2023-08-16T12:15:00",
          "2023-08-16T12:30:00",
          "2023-08-16T12:45:00",
          "2023-08-16T13:00:00",
          "2023-08-16T13:15:00",
          "2023-08-16T13:30:00",
          "2023-08-16T13:45:00",
          "2023-08-16T14:00:00",
          "2023-08-16T14:15:00",
          "2023-08-16T14:30:00",
          "2023-08-16T14:45:00",
          "2023-08-16T15:00:00",
          "2023-08-16T15:15:00",
          "2023-08-16T15:30:00",
          "2023-08-16T15:45:00",
          "2023-08-16T16:00:00",
          "2023-08-16T16:15:00",
          "2023-08-16T16:30:00",
          "2023-08-16T16:45:00",
          "2023-08-16T17:00:00",
          "2023-08-16T17:15:00",
          "2023-08-16T17:30:00",
          "2023-08-16T17:45:00",
          "2023-08-16T18:00:00",
          "2023-08-16T18:15:00",
          "2023-08-16T18:30:00",
          "2023-08-16T18:45:00",
          "2023-08-16T19:00:00",
          "2023-08-16T19:15:00",
          "2023-08-16T19:30:00",
          "2023-08-16T19:45:00",
          "2023-08-16T20:00:00",
          "2023-08-16T20:15:00",
          "2023-08-16T20:30:00",
          "2023-08-16T20:45:00",
          "2023-08-16T21:00:00",
          "2023-08-16T21:15:00",
          "2023-08-16T21:30:00",
          "2023-08-16T21:45:00",
          "2023-08-16T22:00:00",
          "2023-08-16T22:15:00",
          "2023-08-16T22:30:00",
          "2023-08-16T22:45:00",
          "2023-08-16T23:00:00",
          "2023-08-16T23:15:00",
          "2023-08-16T23:30:00",
          "2023-08-16T23:45:00",
          "2023-08-17T00:00:00",
          "2023-08-17T00:15:00",
          "2023-08-17T00:30:00",
          "2023-08-17T00:45:00",
          "2023-08-17T01:00:00",
          "2023-08-17T01:15:00",
          "2023-08-17T01:30:00",
          "2023-08-17T01:45:00",
          "2023-08-17T02:00:00",
          "2023-08-17T02:15:00",
          "2023-08-17T02:30:00",
          "2023-08-17T02:45:00",
          "2023-08-17T03:00:00",
          "2023-08-17T03:15:00",
          "2023-08-17T03:30:00",
          "2023-08-17T03:45:00",
          "2023-08-17T04:00:00",
          "2023-08-17T04:15:00",
          "2023-08-17T04:30:00",
          "2023-08-17T04:45:00",
          "2023-08-17T05:00:00",
          "2023-08-17T05:15:00",
          "2023-08-17T05:30:00",
          "2023-08-17T05:45:00",
          "2023-08-17T06:00:00",
          "2023-08-17T06:15:00",
          "2023-08-17T06:30:00",
          "2023-08-17T06:45:00",
          "2023-08-17T07:00:00",
          "2023-08-17T07:15:00",
          "2023-08-17T07:30:00",
          "2023-08-17T07:45:00",
          "2023-08-17T08:00:00",
          "2023-08-17T08:15:00",
          "2023-08-17T08:30:00",
          "2023-08-17T08:45:00",
          "2023-08-17T09:00:00",
          "2023-08-17T09:15:00",
          "2023-08-17T09:30:00",
          "2023-08-17T09:45:00",
          "2023-08-17T10:00:00",
          "2023-08-17T10:15:00",
          "2023-08-17T10:30:00",
          "2023-08-17T10:45:00",
          "2023-08-17T11:00:00",
          "2023-08-17T11:15:00",
          "2023-08-17T11:30:00",
          "2023-08-17T11:45:00",
          "2023-08-17T12:00:00",
          "2023-08-17T12:15:00",
          "2023-08-17T12:30:00",
          "2023-08-17T12:45:00",
          "2023-08-17T13:00:00",
          "2023-08-17T13:15:00",
          "2023-08-17T13:30:00",
          "2023-08-17T13:45:00",
          "2023-08-17T14:00:00",
          "2023-08-17T14:15:00",
          "2023-08-17T14:30:00",
          "2023-08-17T14:45:00",
          "2023-08-17T15:00:00",
          "2023-08-17T15:15:00",
          "2023-08-17T15:30:00",
          "2023-08-17T15:45:00",
          "2023-08-17T16:00:00",
          "2023-08-17T16:15:00",
          "2023-08-17T16:30:00",
          "2023-08-17T16:45:00",
          "2023-08-17T17:00:00",
          "2023-08-17T17:15:00",
          "2023-08-17T17:30:00",
          "2023-08-17T17:45:00",
          "2023-08-17T18:00:00",
          "2023-08-17T18:15:00",
          "2023-08-17T18:30:00",
          "2023-08-17T18:45:00",
          "2023-08-17T19:00:00",
          "2023-08-17T19:15:00",
          "2023-08-17T19:30:00",
          "2023-08-17T19:45:00",
          "2023-08-17T20:00:00",
          "2023-08-17T20:15:00",
          "2023-08-17T20:30:00",
          "2023-08-17T20:45:00",
          "2023-08-17T21:00:00",
          "2023-08-17T21:15:00",
          "2023-08-17T21:30:00",
          "2023-08-17T21:45:00",
          "2023-08-17T22:00:00",
          "2023-08-17T22:15:00",
          "2023-08-17T22:30:00",
          "2023-08-17T22:45:00",
          "2023-08-17T23:00:00",
          "2023-08-17T23:15:00",
          "2023-08-17T23:30:00",
          "2023-08-17T23:45:00",
          "2023-08-18T00:00:00"
         ]
        }
       ],
       "layout": {
        "template": {
         "data": {
          "bar": [
           {
            "error_x": {
             "color": "rgb(51,51,51)"
            },
            "error_y": {
             "color": "rgb(51,51,51)"
            },
            "marker": {
             "line": {
              "color": "rgb(237,237,237)",
              "width": 0.5
             },
             "pattern": {
              "fillmode": "overlay",
              "size": 10,
              "solidity": 0.2
             }
            },
            "type": "bar"
           }
          ],
          "barpolar": [
           {
            "marker": {
             "line": {
              "color": "rgb(237,237,237)",
              "width": 0.5
             },
             "pattern": {
              "fillmode": "overlay",
              "size": 10,
              "solidity": 0.2
             }
            },
            "type": "barpolar"
           }
          ],
          "carpet": [
           {
            "aaxis": {
             "endlinecolor": "rgb(51,51,51)",
             "gridcolor": "white",
             "linecolor": "white",
             "minorgridcolor": "white",
             "startlinecolor": "rgb(51,51,51)"
            },
            "baxis": {
             "endlinecolor": "rgb(51,51,51)",
             "gridcolor": "white",
             "linecolor": "white",
             "minorgridcolor": "white",
             "startlinecolor": "rgb(51,51,51)"
            },
            "type": "carpet"
           }
          ],
          "choropleth": [
           {
            "colorbar": {
             "outlinewidth": 0,
             "tickcolor": "rgb(237,237,237)",
             "ticklen": 6,
             "ticks": "inside"
            },
            "type": "choropleth"
           }
          ],
          "contour": [
           {
            "colorbar": {
             "outlinewidth": 0,
             "tickcolor": "rgb(237,237,237)",
             "ticklen": 6,
             "ticks": "inside"
            },
            "colorscale": [
             [
              0,
              "rgb(20,44,66)"
             ],
             [
              1,
              "rgb(90,179,244)"
             ]
            ],
            "type": "contour"
           }
          ],
          "contourcarpet": [
           {
            "colorbar": {
             "outlinewidth": 0,
             "tickcolor": "rgb(237,237,237)",
             "ticklen": 6,
             "ticks": "inside"
            },
            "type": "contourcarpet"
           }
          ],
          "heatmap": [
           {
            "colorbar": {
             "outlinewidth": 0,
             "tickcolor": "rgb(237,237,237)",
             "ticklen": 6,
             "ticks": "inside"
            },
            "colorscale": [
             [
              0,
              "rgb(20,44,66)"
             ],
             [
              1,
              "rgb(90,179,244)"
             ]
            ],
            "type": "heatmap"
           }
          ],
          "heatmapgl": [
           {
            "colorbar": {
             "outlinewidth": 0,
             "tickcolor": "rgb(237,237,237)",
             "ticklen": 6,
             "ticks": "inside"
            },
            "colorscale": [
             [
              0,
              "rgb(20,44,66)"
             ],
             [
              1,
              "rgb(90,179,244)"
             ]
            ],
            "type": "heatmapgl"
           }
          ],
          "histogram": [
           {
            "marker": {
             "pattern": {
              "fillmode": "overlay",
              "size": 10,
              "solidity": 0.2
             }
            },
            "type": "histogram"
           }
          ],
          "histogram2d": [
           {
            "colorbar": {
             "outlinewidth": 0,
             "tickcolor": "rgb(237,237,237)",
             "ticklen": 6,
             "ticks": "inside"
            },
            "colorscale": [
             [
              0,
              "rgb(20,44,66)"
             ],
             [
              1,
              "rgb(90,179,244)"
             ]
            ],
            "type": "histogram2d"
           }
          ],
          "histogram2dcontour": [
           {
            "colorbar": {
             "outlinewidth": 0,
             "tickcolor": "rgb(237,237,237)",
             "ticklen": 6,
             "ticks": "inside"
            },
            "colorscale": [
             [
              0,
              "rgb(20,44,66)"
             ],
             [
              1,
              "rgb(90,179,244)"
             ]
            ],
            "type": "histogram2dcontour"
           }
          ],
          "mesh3d": [
           {
            "colorbar": {
             "outlinewidth": 0,
             "tickcolor": "rgb(237,237,237)",
             "ticklen": 6,
             "ticks": "inside"
            },
            "type": "mesh3d"
           }
          ],
          "parcoords": [
           {
            "line": {
             "colorbar": {
              "outlinewidth": 0,
              "tickcolor": "rgb(237,237,237)",
              "ticklen": 6,
              "ticks": "inside"
             }
            },
            "type": "parcoords"
           }
          ],
          "pie": [
           {
            "automargin": true,
            "type": "pie"
           }
          ],
          "scatter": [
           {
            "fillpattern": {
             "fillmode": "overlay",
             "size": 10,
             "solidity": 0.2
            },
            "type": "scatter"
           }
          ],
          "scatter3d": [
           {
            "line": {
             "colorbar": {
              "outlinewidth": 0,
              "tickcolor": "rgb(237,237,237)",
              "ticklen": 6,
              "ticks": "inside"
             }
            },
            "marker": {
             "colorbar": {
              "outlinewidth": 0,
              "tickcolor": "rgb(237,237,237)",
              "ticklen": 6,
              "ticks": "inside"
             }
            },
            "type": "scatter3d"
           }
          ],
          "scattercarpet": [
           {
            "marker": {
             "colorbar": {
              "outlinewidth": 0,
              "tickcolor": "rgb(237,237,237)",
              "ticklen": 6,
              "ticks": "inside"
             }
            },
            "type": "scattercarpet"
           }
          ],
          "scattergeo": [
           {
            "marker": {
             "colorbar": {
              "outlinewidth": 0,
              "tickcolor": "rgb(237,237,237)",
              "ticklen": 6,
              "ticks": "inside"
             }
            },
            "type": "scattergeo"
           }
          ],
          "scattergl": [
           {
            "marker": {
             "colorbar": {
              "outlinewidth": 0,
              "tickcolor": "rgb(237,237,237)",
              "ticklen": 6,
              "ticks": "inside"
             }
            },
            "type": "scattergl"
           }
          ],
          "scattermapbox": [
           {
            "marker": {
             "colorbar": {
              "outlinewidth": 0,
              "tickcolor": "rgb(237,237,237)",
              "ticklen": 6,
              "ticks": "inside"
             }
            },
            "type": "scattermapbox"
           }
          ],
          "scatterpolar": [
           {
            "marker": {
             "colorbar": {
              "outlinewidth": 0,
              "tickcolor": "rgb(237,237,237)",
              "ticklen": 6,
              "ticks": "inside"
             }
            },
            "type": "scatterpolar"
           }
          ],
          "scatterpolargl": [
           {
            "marker": {
             "colorbar": {
              "outlinewidth": 0,
              "tickcolor": "rgb(237,237,237)",
              "ticklen": 6,
              "ticks": "inside"
             }
            },
            "type": "scatterpolargl"
           }
          ],
          "scatterternary": [
           {
            "marker": {
             "colorbar": {
              "outlinewidth": 0,
              "tickcolor": "rgb(237,237,237)",
              "ticklen": 6,
              "ticks": "inside"
             }
            },
            "type": "scatterternary"
           }
          ],
          "surface": [
           {
            "colorbar": {
             "outlinewidth": 0,
             "tickcolor": "rgb(237,237,237)",
             "ticklen": 6,
             "ticks": "inside"
            },
            "colorscale": [
             [
              0,
              "rgb(20,44,66)"
             ],
             [
              1,
              "rgb(90,179,244)"
             ]
            ],
            "type": "surface"
           }
          ],
          "table": [
           {
            "cells": {
             "fill": {
              "color": "rgb(237,237,237)"
             },
             "line": {
              "color": "white"
             }
            },
            "header": {
             "fill": {
              "color": "rgb(217,217,217)"
             },
             "line": {
              "color": "white"
             }
            },
            "type": "table"
           }
          ]
         },
         "layout": {
          "annotationdefaults": {
           "arrowhead": 0,
           "arrowwidth": 1
          },
          "autotypenumbers": "strict",
          "coloraxis": {
           "colorbar": {
            "outlinewidth": 0,
            "tickcolor": "rgb(237,237,237)",
            "ticklen": 6,
            "ticks": "inside"
           }
          },
          "colorscale": {
           "sequential": [
            [
             0,
             "rgb(20,44,66)"
            ],
            [
             1,
             "rgb(90,179,244)"
            ]
           ],
           "sequentialminus": [
            [
             0,
             "rgb(20,44,66)"
            ],
            [
             1,
             "rgb(90,179,244)"
            ]
           ]
          },
          "colorway": [
           "#F8766D",
           "#A3A500",
           "#00BF7D",
           "#00B0F6",
           "#E76BF3"
          ],
          "font": {
           "color": "rgb(51,51,51)"
          },
          "geo": {
           "bgcolor": "white",
           "lakecolor": "white",
           "landcolor": "rgb(237,237,237)",
           "showlakes": true,
           "showland": true,
           "subunitcolor": "white"
          },
          "hoverlabel": {
           "align": "left"
          },
          "hovermode": "closest",
          "paper_bgcolor": "white",
          "plot_bgcolor": "rgb(237,237,237)",
          "polar": {
           "angularaxis": {
            "gridcolor": "white",
            "linecolor": "white",
            "showgrid": true,
            "tickcolor": "rgb(51,51,51)",
            "ticks": "outside"
           },
           "bgcolor": "rgb(237,237,237)",
           "radialaxis": {
            "gridcolor": "white",
            "linecolor": "white",
            "showgrid": true,
            "tickcolor": "rgb(51,51,51)",
            "ticks": "outside"
           }
          },
          "scene": {
           "xaxis": {
            "backgroundcolor": "rgb(237,237,237)",
            "gridcolor": "white",
            "gridwidth": 2,
            "linecolor": "white",
            "showbackground": true,
            "showgrid": true,
            "tickcolor": "rgb(51,51,51)",
            "ticks": "outside",
            "zerolinecolor": "white"
           },
           "yaxis": {
            "backgroundcolor": "rgb(237,237,237)",
            "gridcolor": "white",
            "gridwidth": 2,
            "linecolor": "white",
            "showbackground": true,
            "showgrid": true,
            "tickcolor": "rgb(51,51,51)",
            "ticks": "outside",
            "zerolinecolor": "white"
           },
           "zaxis": {
            "backgroundcolor": "rgb(237,237,237)",
            "gridcolor": "white",
            "gridwidth": 2,
            "linecolor": "white",
            "showbackground": true,
            "showgrid": true,
            "tickcolor": "rgb(51,51,51)",
            "ticks": "outside",
            "zerolinecolor": "white"
           }
          },
          "shapedefaults": {
           "fillcolor": "black",
           "line": {
            "width": 0
           },
           "opacity": 0.3
          },
          "ternary": {
           "aaxis": {
            "gridcolor": "white",
            "linecolor": "white",
            "showgrid": true,
            "tickcolor": "rgb(51,51,51)",
            "ticks": "outside"
           },
           "baxis": {
            "gridcolor": "white",
            "linecolor": "white",
            "showgrid": true,
            "tickcolor": "rgb(51,51,51)",
            "ticks": "outside"
           },
           "bgcolor": "rgb(237,237,237)",
           "caxis": {
            "gridcolor": "white",
            "linecolor": "white",
            "showgrid": true,
            "tickcolor": "rgb(51,51,51)",
            "ticks": "outside"
           }
          },
          "xaxis": {
           "automargin": true,
           "gridcolor": "white",
           "linecolor": "white",
           "showgrid": true,
           "tickcolor": "rgb(51,51,51)",
           "ticks": "outside",
           "title": {
            "standoff": 15
           },
           "zerolinecolor": "white"
          },
          "yaxis": {
           "automargin": true,
           "gridcolor": "white",
           "linecolor": "white",
           "showgrid": true,
           "tickcolor": "rgb(51,51,51)",
           "ticks": "outside",
           "title": {
            "standoff": 15
           },
           "zerolinecolor": "white"
          }
         }
        },
        "title": {
         "text": "<b>Bitcoin USDT Price - August 2023</b>"
        },
        "xaxis": {
         "rangeslider": {
          "visible": false
         },
         "title": {
          "text": "Date"
         },
         "type": "category"
        },
        "yaxis": {
         "title": {
          "text": "Price in USDT"
         }
        }
       }
      }
     },
     "metadata": {},
     "output_type": "display_data"
    }
   ],
   "source": [
    "fig = go.Figure(data=[go.Candlestick(x=btc['date'],\n",
    "                open=btc['open'], high=btc['high'],\n",
    "                low=btc['low'], close=btc['close'])\n",
    "                     ])\n",
    "\n",
    "fig.update_layout(\n",
    "     title=\"<b>Bitcoin USDT Price - August 2023</b>\",\n",
    "     yaxis_title=\"Price in USDT\",\n",
    "     xaxis_title=\"Date\",\n",
    "     xaxis_rangeslider_visible=False,\n",
    "     template=\"ggplot2\"\n",
    "     )\n",
    "fig.update_xaxes(type='category')\n",
    "\n",
    "fig.show()"
   ]
  },
  {
   "cell_type": "code",
   "execution_count": 21,
   "metadata": {},
   "outputs": [],
   "source": [
    "# Function to round time to the next 15 minutes\n",
    "def round_time(dt):\n",
    "    minute = (dt.minute // 15 + 1) * 15 % 60\n",
    "    second = 0\n",
    "    hour = dt.hour\n",
    "    if minute == 0:\n",
    "        hour = (hour + 1) % 24\n",
    "    return pd.Timestamp(year=dt.year, month=dt.month, day=dt.day, hour=hour, minute=minute, second=second)"
   ]
  },
  {
   "cell_type": "code",
   "execution_count": 22,
   "metadata": {},
   "outputs": [],
   "source": [
    "news_ = news.copy()\n",
    "news_['utc_datetime'] = pd.to_datetime(news_['utc_datetime'])\n",
    "news_['round_15min_utc_time'] = news_['utc_datetime'].apply(round_time)"
   ]
  },
  {
   "cell_type": "code",
   "execution_count": 23,
   "metadata": {},
   "outputs": [
    {
     "data": {
      "text/plain": [
       "Index(['news_url', 'image_url', 'title', 'text', 'source_name', 'date',\n",
       "       'topics', 'sentiment', 'type', 'tickers', 'news_id', 'rank_score',\n",
       "       'eventid', 'datetime', 'utc_zone', 'utc_datetime',\n",
       "       'round_15min_utc_time'],\n",
       "      dtype='object')"
      ]
     },
     "execution_count": 23,
     "metadata": {},
     "output_type": "execute_result"
    }
   ],
   "source": [
    "news_.columns"
   ]
  },
  {
   "cell_type": "code",
   "execution_count": 24,
   "metadata": {},
   "outputs": [],
   "source": [
    "news_ = news_[['utc_datetime', 'round_15min_utc_time', 'title', 'text', 'sentiment', 'rank_score']]"
   ]
  },
  {
   "cell_type": "code",
   "execution_count": 25,
   "metadata": {},
   "outputs": [
    {
     "data": {
      "text/html": [
       "<div>\n",
       "<style scoped>\n",
       "    .dataframe tbody tr th:only-of-type {\n",
       "        vertical-align: middle;\n",
       "    }\n",
       "\n",
       "    .dataframe tbody tr th {\n",
       "        vertical-align: top;\n",
       "    }\n",
       "\n",
       "    .dataframe thead th {\n",
       "        text-align: right;\n",
       "    }\n",
       "</style>\n",
       "<table border=\"1\" class=\"dataframe\">\n",
       "  <thead>\n",
       "    <tr style=\"text-align: right;\">\n",
       "      <th></th>\n",
       "      <th>utc_datetime</th>\n",
       "      <th>round_15min_utc_time</th>\n",
       "      <th>title</th>\n",
       "      <th>text</th>\n",
       "      <th>sentiment</th>\n",
       "      <th>rank_score</th>\n",
       "    </tr>\n",
       "  </thead>\n",
       "  <tbody>\n",
       "    <tr>\n",
       "      <th>1247</th>\n",
       "      <td>2023-08-16 00:00:53</td>\n",
       "      <td>2023-08-16 00:15:00</td>\n",
       "      <td>This Dreaded Candlestick Formation Just Printe...</td>\n",
       "      <td>Bitcoin, the most valuable crypto asset, is at...</td>\n",
       "      <td>Negative</td>\n",
       "      <td>4.96</td>\n",
       "    </tr>\n",
       "    <tr>\n",
       "      <th>1270</th>\n",
       "      <td>2023-08-16 01:28:15</td>\n",
       "      <td>2023-08-16 01:30:00</td>\n",
       "      <td>7 Cryptos on Watch as Blockchain Miners Lose T...</td>\n",
       "      <td>Once again, cryptos have entered into a frustr...</td>\n",
       "      <td>Negative</td>\n",
       "      <td>4.37</td>\n",
       "    </tr>\n",
       "    <tr>\n",
       "      <th>1203</th>\n",
       "      <td>2023-08-16 01:30:53</td>\n",
       "      <td>2023-08-16 01:45:00</td>\n",
       "      <td>Assessing Bitcoin Ordinals' crest and trough s...</td>\n",
       "      <td>Here's how Bitcoin Ordinals fared over the las...</td>\n",
       "      <td>Neutral</td>\n",
       "      <td>6.18</td>\n",
       "    </tr>\n",
       "    <tr>\n",
       "      <th>1244</th>\n",
       "      <td>2023-08-16 01:45:55</td>\n",
       "      <td>2023-08-16 02:00:00</td>\n",
       "      <td>Political Winds and Bitcoin ETFs: A Former SEC...</td>\n",
       "      <td>In a twist that has caught many by surprise, a...</td>\n",
       "      <td>Positive</td>\n",
       "      <td>5.10</td>\n",
       "    </tr>\n",
       "    <tr>\n",
       "      <th>1236</th>\n",
       "      <td>2023-08-16 01:56:11</td>\n",
       "      <td>2023-08-16 02:00:00</td>\n",
       "      <td>Bitcoin (BTC) Mining Firm Riot Platforms Relea...</td>\n",
       "      <td>Riot Platforms, Inc. (NASDAQ: RIOT), which cla...</td>\n",
       "      <td>Positive</td>\n",
       "      <td>5.46</td>\n",
       "    </tr>\n",
       "  </tbody>\n",
       "</table>\n",
       "</div>"
      ],
      "text/plain": [
       "            utc_datetime round_15min_utc_time  \\\n",
       "1247 2023-08-16 00:00:53  2023-08-16 00:15:00   \n",
       "1270 2023-08-16 01:28:15  2023-08-16 01:30:00   \n",
       "1203 2023-08-16 01:30:53  2023-08-16 01:45:00   \n",
       "1244 2023-08-16 01:45:55  2023-08-16 02:00:00   \n",
       "1236 2023-08-16 01:56:11  2023-08-16 02:00:00   \n",
       "\n",
       "                                                  title  \\\n",
       "1247  This Dreaded Candlestick Formation Just Printe...   \n",
       "1270  7 Cryptos on Watch as Blockchain Miners Lose T...   \n",
       "1203  Assessing Bitcoin Ordinals' crest and trough s...   \n",
       "1244  Political Winds and Bitcoin ETFs: A Former SEC...   \n",
       "1236  Bitcoin (BTC) Mining Firm Riot Platforms Relea...   \n",
       "\n",
       "                                                   text sentiment  rank_score  \n",
       "1247  Bitcoin, the most valuable crypto asset, is at...  Negative        4.96  \n",
       "1270  Once again, cryptos have entered into a frustr...  Negative        4.37  \n",
       "1203  Here's how Bitcoin Ordinals fared over the las...   Neutral        6.18  \n",
       "1244  In a twist that has caught many by surprise, a...  Positive        5.10  \n",
       "1236  Riot Platforms, Inc. (NASDAQ: RIOT), which cla...  Positive        5.46  "
      ]
     },
     "execution_count": 25,
     "metadata": {},
     "output_type": "execute_result"
    }
   ],
   "source": [
    "news_.head()"
   ]
  },
  {
   "cell_type": "code",
   "execution_count": 26,
   "metadata": {},
   "outputs": [],
   "source": [
    "all_utc_datetime = pd.date_range(start=btc['date'].min(), end=btc['date'].max(), freq='15T')"
   ]
  },
  {
   "cell_type": "code",
   "execution_count": 27,
   "metadata": {},
   "outputs": [
    {
     "data": {
      "text/plain": [
       "DatetimeIndex(['2023-08-16 00:00:00', '2023-08-16 00:15:00',\n",
       "               '2023-08-16 00:30:00', '2023-08-16 00:45:00',\n",
       "               '2023-08-16 01:00:00', '2023-08-16 01:15:00',\n",
       "               '2023-08-16 01:30:00', '2023-08-16 01:45:00',\n",
       "               '2023-08-16 02:00:00', '2023-08-16 02:15:00',\n",
       "               ...\n",
       "               '2023-08-17 21:45:00', '2023-08-17 22:00:00',\n",
       "               '2023-08-17 22:15:00', '2023-08-17 22:30:00',\n",
       "               '2023-08-17 22:45:00', '2023-08-17 23:00:00',\n",
       "               '2023-08-17 23:15:00', '2023-08-17 23:30:00',\n",
       "               '2023-08-17 23:45:00', '2023-08-18 00:00:00'],\n",
       "              dtype='datetime64[ns]', length=193, freq='15T')"
      ]
     },
     "execution_count": 27,
     "metadata": {},
     "output_type": "execute_result"
    }
   ],
   "source": [
    "all_utc_datetime"
   ]
  },
  {
   "cell_type": "code",
   "execution_count": 28,
   "metadata": {},
   "outputs": [
    {
     "data": {
      "text/html": [
       "<div>\n",
       "<style scoped>\n",
       "    .dataframe tbody tr th:only-of-type {\n",
       "        vertical-align: middle;\n",
       "    }\n",
       "\n",
       "    .dataframe tbody tr th {\n",
       "        vertical-align: top;\n",
       "    }\n",
       "\n",
       "    .dataframe thead th {\n",
       "        text-align: right;\n",
       "    }\n",
       "</style>\n",
       "<table border=\"1\" class=\"dataframe\">\n",
       "  <thead>\n",
       "    <tr style=\"text-align: right;\">\n",
       "      <th></th>\n",
       "      <th>all_utc_datetime</th>\n",
       "      <th>utc_datetime</th>\n",
       "      <th>round_15min_utc_time</th>\n",
       "      <th>title</th>\n",
       "      <th>text</th>\n",
       "      <th>sentiment</th>\n",
       "      <th>rank_score</th>\n",
       "    </tr>\n",
       "  </thead>\n",
       "  <tbody>\n",
       "    <tr>\n",
       "      <th>0</th>\n",
       "      <td>2023-08-16 00:00:00</td>\n",
       "      <td>2023-08-16 23:52:10</td>\n",
       "      <td>2023-08-16 00:00:00</td>\n",
       "      <td>Prominent Analyst Foresees Bitcoin Surging to ...</td>\n",
       "      <td>On a recent CNBC ‘Squawk Box' segment, Thomas ...</td>\n",
       "      <td>Positive</td>\n",
       "      <td>4.73</td>\n",
       "    </tr>\n",
       "    <tr>\n",
       "      <th>1</th>\n",
       "      <td>2023-08-16 00:15:00</td>\n",
       "      <td>2023-08-16 00:00:53</td>\n",
       "      <td>2023-08-16 00:15:00</td>\n",
       "      <td>This Dreaded Candlestick Formation Just Printe...</td>\n",
       "      <td>Bitcoin, the most valuable crypto asset, is at...</td>\n",
       "      <td>Negative</td>\n",
       "      <td>4.96</td>\n",
       "    </tr>\n",
       "    <tr>\n",
       "      <th>2</th>\n",
       "      <td>2023-08-16 00:30:00</td>\n",
       "      <td>2023-08-16 00:00:53</td>\n",
       "      <td>2023-08-16 00:15:00</td>\n",
       "      <td>This Dreaded Candlestick Formation Just Printe...</td>\n",
       "      <td>Bitcoin, the most valuable crypto asset, is at...</td>\n",
       "      <td>Negative</td>\n",
       "      <td>4.96</td>\n",
       "    </tr>\n",
       "    <tr>\n",
       "      <th>3</th>\n",
       "      <td>2023-08-16 00:45:00</td>\n",
       "      <td>2023-08-16 00:00:53</td>\n",
       "      <td>2023-08-16 00:15:00</td>\n",
       "      <td>This Dreaded Candlestick Formation Just Printe...</td>\n",
       "      <td>Bitcoin, the most valuable crypto asset, is at...</td>\n",
       "      <td>Negative</td>\n",
       "      <td>4.96</td>\n",
       "    </tr>\n",
       "    <tr>\n",
       "      <th>4</th>\n",
       "      <td>2023-08-16 01:00:00</td>\n",
       "      <td>2023-08-16 00:00:53</td>\n",
       "      <td>2023-08-16 00:15:00</td>\n",
       "      <td>This Dreaded Candlestick Formation Just Printe...</td>\n",
       "      <td>Bitcoin, the most valuable crypto asset, is at...</td>\n",
       "      <td>Negative</td>\n",
       "      <td>4.96</td>\n",
       "    </tr>\n",
       "    <tr>\n",
       "      <th>5</th>\n",
       "      <td>2023-08-16 01:15:00</td>\n",
       "      <td>2023-08-16 00:00:53</td>\n",
       "      <td>2023-08-16 00:15:00</td>\n",
       "      <td>This Dreaded Candlestick Formation Just Printe...</td>\n",
       "      <td>Bitcoin, the most valuable crypto asset, is at...</td>\n",
       "      <td>Negative</td>\n",
       "      <td>4.96</td>\n",
       "    </tr>\n",
       "    <tr>\n",
       "      <th>6</th>\n",
       "      <td>2023-08-16 01:30:00</td>\n",
       "      <td>2023-08-16 01:28:15</td>\n",
       "      <td>2023-08-16 01:30:00</td>\n",
       "      <td>7 Cryptos on Watch as Blockchain Miners Lose T...</td>\n",
       "      <td>Once again, cryptos have entered into a frustr...</td>\n",
       "      <td>Negative</td>\n",
       "      <td>4.37</td>\n",
       "    </tr>\n",
       "    <tr>\n",
       "      <th>7</th>\n",
       "      <td>2023-08-16 01:45:00</td>\n",
       "      <td>2023-08-16 01:30:53</td>\n",
       "      <td>2023-08-16 01:45:00</td>\n",
       "      <td>Assessing Bitcoin Ordinals' crest and trough s...</td>\n",
       "      <td>Here's how Bitcoin Ordinals fared over the las...</td>\n",
       "      <td>Neutral</td>\n",
       "      <td>6.18</td>\n",
       "    </tr>\n",
       "    <tr>\n",
       "      <th>8</th>\n",
       "      <td>2023-08-16 02:00:00</td>\n",
       "      <td>2023-08-16 01:45:55</td>\n",
       "      <td>2023-08-16 02:00:00</td>\n",
       "      <td>Political Winds and Bitcoin ETFs: A Former SEC...</td>\n",
       "      <td>In a twist that has caught many by surprise, a...</td>\n",
       "      <td>Positive</td>\n",
       "      <td>5.10</td>\n",
       "    </tr>\n",
       "    <tr>\n",
       "      <th>9</th>\n",
       "      <td>2023-08-16 02:00:00</td>\n",
       "      <td>2023-08-16 01:56:11</td>\n",
       "      <td>2023-08-16 02:00:00</td>\n",
       "      <td>Bitcoin (BTC) Mining Firm Riot Platforms Relea...</td>\n",
       "      <td>Riot Platforms, Inc. (NASDAQ: RIOT), which cla...</td>\n",
       "      <td>Positive</td>\n",
       "      <td>5.46</td>\n",
       "    </tr>\n",
       "    <tr>\n",
       "      <th>10</th>\n",
       "      <td>2023-08-16 02:15:00</td>\n",
       "      <td>2023-08-16 01:56:11</td>\n",
       "      <td>2023-08-16 02:00:00</td>\n",
       "      <td>Bitcoin (BTC) Mining Firm Riot Platforms Relea...</td>\n",
       "      <td>Riot Platforms, Inc. (NASDAQ: RIOT), which cla...</td>\n",
       "      <td>Positive</td>\n",
       "      <td>5.46</td>\n",
       "    </tr>\n",
       "    <tr>\n",
       "      <th>11</th>\n",
       "      <td>2023-08-16 02:30:00</td>\n",
       "      <td>2023-08-16 01:56:11</td>\n",
       "      <td>2023-08-16 02:00:00</td>\n",
       "      <td>Bitcoin (BTC) Mining Firm Riot Platforms Relea...</td>\n",
       "      <td>Riot Platforms, Inc. (NASDAQ: RIOT), which cla...</td>\n",
       "      <td>Positive</td>\n",
       "      <td>5.46</td>\n",
       "    </tr>\n",
       "    <tr>\n",
       "      <th>12</th>\n",
       "      <td>2023-08-16 02:45:00</td>\n",
       "      <td>2023-08-16 01:56:11</td>\n",
       "      <td>2023-08-16 02:00:00</td>\n",
       "      <td>Bitcoin (BTC) Mining Firm Riot Platforms Relea...</td>\n",
       "      <td>Riot Platforms, Inc. (NASDAQ: RIOT), which cla...</td>\n",
       "      <td>Positive</td>\n",
       "      <td>5.46</td>\n",
       "    </tr>\n",
       "    <tr>\n",
       "      <th>13</th>\n",
       "      <td>2023-08-16 03:00:00</td>\n",
       "      <td>2023-08-16 01:56:11</td>\n",
       "      <td>2023-08-16 02:00:00</td>\n",
       "      <td>Bitcoin (BTC) Mining Firm Riot Platforms Relea...</td>\n",
       "      <td>Riot Platforms, Inc. (NASDAQ: RIOT), which cla...</td>\n",
       "      <td>Positive</td>\n",
       "      <td>5.46</td>\n",
       "    </tr>\n",
       "    <tr>\n",
       "      <th>14</th>\n",
       "      <td>2023-08-16 03:15:00</td>\n",
       "      <td>2023-08-16 01:56:11</td>\n",
       "      <td>2023-08-16 02:00:00</td>\n",
       "      <td>Bitcoin (BTC) Mining Firm Riot Platforms Relea...</td>\n",
       "      <td>Riot Platforms, Inc. (NASDAQ: RIOT), which cla...</td>\n",
       "      <td>Positive</td>\n",
       "      <td>5.46</td>\n",
       "    </tr>\n",
       "    <tr>\n",
       "      <th>15</th>\n",
       "      <td>2023-08-16 03:30:00</td>\n",
       "      <td>2023-08-16 03:15:52</td>\n",
       "      <td>2023-08-16 03:30:00</td>\n",
       "      <td>Bitcoin, Ethereum, Dogecoin Drop Despite Launc...</td>\n",
       "      <td>Major cryptocurrencies experienced a significa...</td>\n",
       "      <td>Negative</td>\n",
       "      <td>4.79</td>\n",
       "    </tr>\n",
       "    <tr>\n",
       "      <th>16</th>\n",
       "      <td>2023-08-16 03:45:00</td>\n",
       "      <td>2023-08-16 03:15:52</td>\n",
       "      <td>2023-08-16 03:30:00</td>\n",
       "      <td>Bitcoin, Ethereum, Dogecoin Drop Despite Launc...</td>\n",
       "      <td>Major cryptocurrencies experienced a significa...</td>\n",
       "      <td>Negative</td>\n",
       "      <td>4.79</td>\n",
       "    </tr>\n",
       "    <tr>\n",
       "      <th>17</th>\n",
       "      <td>2023-08-16 04:00:00</td>\n",
       "      <td>2023-08-16 03:54:35</td>\n",
       "      <td>2023-08-16 04:00:00</td>\n",
       "      <td>Bitcoin Price Key Indicators Suggest A Strong ...</td>\n",
       "      <td>Bitcoin price moving lower below the $29,500 z...</td>\n",
       "      <td>Negative</td>\n",
       "      <td>5.90</td>\n",
       "    </tr>\n",
       "    <tr>\n",
       "      <th>18</th>\n",
       "      <td>2023-08-16 04:15:00</td>\n",
       "      <td>2023-08-16 04:08:55</td>\n",
       "      <td>2023-08-16 04:15:00</td>\n",
       "      <td>Bitcoin Price Analysis: BTC At Risk Below $30K</td>\n",
       "      <td>Bitcoin price started a fresh decline below th...</td>\n",
       "      <td>Negative</td>\n",
       "      <td>4.82</td>\n",
       "    </tr>\n",
       "    <tr>\n",
       "      <th>19</th>\n",
       "      <td>2023-08-16 04:30:00</td>\n",
       "      <td>2023-08-16 04:24:40</td>\n",
       "      <td>2023-08-16 04:30:00</td>\n",
       "      <td>Bitcoin Volatility Nears Historic Lows; A Larg...</td>\n",
       "      <td>The crypto markets are chopping around the pre...</td>\n",
       "      <td>Neutral</td>\n",
       "      <td>6.18</td>\n",
       "    </tr>\n",
       "  </tbody>\n",
       "</table>\n",
       "</div>"
      ],
      "text/plain": [
       "      all_utc_datetime        utc_datetime round_15min_utc_time  \\\n",
       "0  2023-08-16 00:00:00 2023-08-16 23:52:10  2023-08-16 00:00:00   \n",
       "1  2023-08-16 00:15:00 2023-08-16 00:00:53  2023-08-16 00:15:00   \n",
       "2  2023-08-16 00:30:00 2023-08-16 00:00:53  2023-08-16 00:15:00   \n",
       "3  2023-08-16 00:45:00 2023-08-16 00:00:53  2023-08-16 00:15:00   \n",
       "4  2023-08-16 01:00:00 2023-08-16 00:00:53  2023-08-16 00:15:00   \n",
       "5  2023-08-16 01:15:00 2023-08-16 00:00:53  2023-08-16 00:15:00   \n",
       "6  2023-08-16 01:30:00 2023-08-16 01:28:15  2023-08-16 01:30:00   \n",
       "7  2023-08-16 01:45:00 2023-08-16 01:30:53  2023-08-16 01:45:00   \n",
       "8  2023-08-16 02:00:00 2023-08-16 01:45:55  2023-08-16 02:00:00   \n",
       "9  2023-08-16 02:00:00 2023-08-16 01:56:11  2023-08-16 02:00:00   \n",
       "10 2023-08-16 02:15:00 2023-08-16 01:56:11  2023-08-16 02:00:00   \n",
       "11 2023-08-16 02:30:00 2023-08-16 01:56:11  2023-08-16 02:00:00   \n",
       "12 2023-08-16 02:45:00 2023-08-16 01:56:11  2023-08-16 02:00:00   \n",
       "13 2023-08-16 03:00:00 2023-08-16 01:56:11  2023-08-16 02:00:00   \n",
       "14 2023-08-16 03:15:00 2023-08-16 01:56:11  2023-08-16 02:00:00   \n",
       "15 2023-08-16 03:30:00 2023-08-16 03:15:52  2023-08-16 03:30:00   \n",
       "16 2023-08-16 03:45:00 2023-08-16 03:15:52  2023-08-16 03:30:00   \n",
       "17 2023-08-16 04:00:00 2023-08-16 03:54:35  2023-08-16 04:00:00   \n",
       "18 2023-08-16 04:15:00 2023-08-16 04:08:55  2023-08-16 04:15:00   \n",
       "19 2023-08-16 04:30:00 2023-08-16 04:24:40  2023-08-16 04:30:00   \n",
       "\n",
       "                                                title  \\\n",
       "0   Prominent Analyst Foresees Bitcoin Surging to ...   \n",
       "1   This Dreaded Candlestick Formation Just Printe...   \n",
       "2   This Dreaded Candlestick Formation Just Printe...   \n",
       "3   This Dreaded Candlestick Formation Just Printe...   \n",
       "4   This Dreaded Candlestick Formation Just Printe...   \n",
       "5   This Dreaded Candlestick Formation Just Printe...   \n",
       "6   7 Cryptos on Watch as Blockchain Miners Lose T...   \n",
       "7   Assessing Bitcoin Ordinals' crest and trough s...   \n",
       "8   Political Winds and Bitcoin ETFs: A Former SEC...   \n",
       "9   Bitcoin (BTC) Mining Firm Riot Platforms Relea...   \n",
       "10  Bitcoin (BTC) Mining Firm Riot Platforms Relea...   \n",
       "11  Bitcoin (BTC) Mining Firm Riot Platforms Relea...   \n",
       "12  Bitcoin (BTC) Mining Firm Riot Platforms Relea...   \n",
       "13  Bitcoin (BTC) Mining Firm Riot Platforms Relea...   \n",
       "14  Bitcoin (BTC) Mining Firm Riot Platforms Relea...   \n",
       "15  Bitcoin, Ethereum, Dogecoin Drop Despite Launc...   \n",
       "16  Bitcoin, Ethereum, Dogecoin Drop Despite Launc...   \n",
       "17  Bitcoin Price Key Indicators Suggest A Strong ...   \n",
       "18     Bitcoin Price Analysis: BTC At Risk Below $30K   \n",
       "19  Bitcoin Volatility Nears Historic Lows; A Larg...   \n",
       "\n",
       "                                                 text sentiment  rank_score  \n",
       "0   On a recent CNBC ‘Squawk Box' segment, Thomas ...  Positive        4.73  \n",
       "1   Bitcoin, the most valuable crypto asset, is at...  Negative        4.96  \n",
       "2   Bitcoin, the most valuable crypto asset, is at...  Negative        4.96  \n",
       "3   Bitcoin, the most valuable crypto asset, is at...  Negative        4.96  \n",
       "4   Bitcoin, the most valuable crypto asset, is at...  Negative        4.96  \n",
       "5   Bitcoin, the most valuable crypto asset, is at...  Negative        4.96  \n",
       "6   Once again, cryptos have entered into a frustr...  Negative        4.37  \n",
       "7   Here's how Bitcoin Ordinals fared over the las...   Neutral        6.18  \n",
       "8   In a twist that has caught many by surprise, a...  Positive        5.10  \n",
       "9   Riot Platforms, Inc. (NASDAQ: RIOT), which cla...  Positive        5.46  \n",
       "10  Riot Platforms, Inc. (NASDAQ: RIOT), which cla...  Positive        5.46  \n",
       "11  Riot Platforms, Inc. (NASDAQ: RIOT), which cla...  Positive        5.46  \n",
       "12  Riot Platforms, Inc. (NASDAQ: RIOT), which cla...  Positive        5.46  \n",
       "13  Riot Platforms, Inc. (NASDAQ: RIOT), which cla...  Positive        5.46  \n",
       "14  Riot Platforms, Inc. (NASDAQ: RIOT), which cla...  Positive        5.46  \n",
       "15  Major cryptocurrencies experienced a significa...  Negative        4.79  \n",
       "16  Major cryptocurrencies experienced a significa...  Negative        4.79  \n",
       "17  Bitcoin price moving lower below the $29,500 z...  Negative        5.90  \n",
       "18  Bitcoin price started a fresh decline below th...  Negative        4.82  \n",
       "19  The crypto markets are chopping around the pre...   Neutral        6.18  "
      ]
     },
     "execution_count": 28,
     "metadata": {},
     "output_type": "execute_result"
    }
   ],
   "source": [
    "all_date_news = pd.DataFrame()\n",
    "all_date_news['all_utc_datetime'] = all_utc_datetime\n",
    "all_date_news = all_date_news.merge(news_, how='left', left_on='all_utc_datetime', right_on='round_15min_utc_time')\n",
    "\n",
    "# full fille the NaN rows with previous values\n",
    "all_date_news = all_date_news.fillna(method='ffill')\n",
    "all_date_news.head(20)"
   ]
  },
  {
   "cell_type": "code",
   "execution_count": 29,
   "metadata": {},
   "outputs": [
    {
     "data": {
      "application/vnd.plotly.v1+json": {
       "config": {
        "plotlyServerURL": "https://plot.ly"
       },
       "data": [
        {
         "alignmentgroup": "True",
         "hovertemplate": "sentiment=Positive<br>all_utc_datetime=%{x}<br>count=%{y}<br>text=%{text}<extra></extra>",
         "legendgroup": "Positive",
         "marker": {
          "color": "#77dd77",
          "pattern": {
           "shape": ""
          }
         },
         "name": "Positive",
         "offsetgroup": "Positive",
         "orientation": "v",
         "showlegend": true,
         "text": [
          "100.0%",
          "100.0%",
          "100.0%",
          "100.0%",
          "100.0%",
          "100.0%",
          "100.0%",
          "100.0%",
          "100.0%",
          "100.0%",
          "100.0%",
          "100.0%",
          "100.0%",
          "100.0%",
          "100.0%",
          "50.0%",
          "100.0%",
          "100.0%",
          "100.0%",
          "100.0%",
          "50.0%",
          "100.0%",
          "100.0%",
          "100.0%",
          "100.0%",
          "100.0%",
          "75.0%",
          "100.0%",
          "100.0%",
          "100.0%",
          "100.0%",
          "33.0%",
          "100.0%",
          "100.0%",
          "33.0%",
          "67.0%",
          "100.0%",
          "100.0%",
          "100.0%",
          "100.0%",
          "67.0%",
          "100.0%",
          "100.0%",
          "100.0%",
          "100.0%",
          "100.0%",
          "100.0%",
          "100.0%",
          "50.0%",
          "100.0%",
          "100.0%",
          "67.0%",
          "100.0%",
          "100.0%",
          "100.0%",
          "33.0%",
          "100.0%",
          "100.0%",
          "100.0%",
          "100.0%",
          "50.0%",
          "100.0%",
          "50.0%",
          "100.0%",
          "50.0%",
          "33.0%",
          "50.0%",
          "100.0%",
          "67.0%",
          "50.0%",
          "100.0%",
          "100.0%",
          "50.0%",
          "100.0%",
          "50.0%",
          "100.0%",
          "100.0%",
          "33.0%",
          "50.0%",
          "50.0%",
          "50.0%",
          "33.0%",
          "40.0%",
          "100.0%",
          "100.0%",
          "33.0%",
          "67.0%",
          "100.0%",
          "50.0%",
          "20.0%",
          "50.0%",
          "100.0%"
         ],
         "textposition": "auto",
         "type": "bar",
         "x": [
          "2023-08-16T00:00:00",
          "2023-08-16T02:00:00",
          "2023-08-16T02:15:00",
          "2023-08-16T02:30:00",
          "2023-08-16T02:45:00",
          "2023-08-16T03:00:00",
          "2023-08-16T03:15:00",
          "2023-08-16T04:45:00",
          "2023-08-16T05:00:00",
          "2023-08-16T05:15:00",
          "2023-08-16T05:30:00",
          "2023-08-16T07:00:00",
          "2023-08-16T07:15:00",
          "2023-08-16T07:30:00",
          "2023-08-16T07:45:00",
          "2023-08-16T08:00:00",
          "2023-08-16T08:15:00",
          "2023-08-16T08:30:00",
          "2023-08-16T08:45:00",
          "2023-08-16T10:15:00",
          "2023-08-16T10:30:00",
          "2023-08-16T10:45:00",
          "2023-08-16T11:00:00",
          "2023-08-16T11:15:00",
          "2023-08-16T11:30:00",
          "2023-08-16T12:00:00",
          "2023-08-16T12:15:00",
          "2023-08-16T12:30:00",
          "2023-08-16T13:15:00",
          "2023-08-16T13:30:00",
          "2023-08-16T13:45:00",
          "2023-08-16T14:15:00",
          "2023-08-16T14:30:00",
          "2023-08-16T15:45:00",
          "2023-08-16T16:15:00",
          "2023-08-16T18:15:00",
          "2023-08-16T18:30:00",
          "2023-08-16T19:45:00",
          "2023-08-16T20:00:00",
          "2023-08-16T20:15:00",
          "2023-08-16T20:45:00",
          "2023-08-16T21:15:00",
          "2023-08-16T21:30:00",
          "2023-08-16T21:45:00",
          "2023-08-16T22:00:00",
          "2023-08-16T22:15:00",
          "2023-08-16T22:30:00",
          "2023-08-16T22:45:00",
          "2023-08-16T23:00:00",
          "2023-08-16T23:15:00",
          "2023-08-16T23:30:00",
          "2023-08-16T23:45:00",
          "2023-08-17T00:15:00",
          "2023-08-17T01:15:00",
          "2023-08-17T01:30:00",
          "2023-08-17T01:45:00",
          "2023-08-17T02:00:00",
          "2023-08-17T02:15:00",
          "2023-08-17T02:30:00",
          "2023-08-17T02:45:00",
          "2023-08-17T03:00:00",
          "2023-08-17T03:15:00",
          "2023-08-17T06:00:00",
          "2023-08-17T06:30:00",
          "2023-08-17T07:00:00",
          "2023-08-17T08:30:00",
          "2023-08-17T08:45:00",
          "2023-08-17T09:30:00",
          "2023-08-17T09:45:00",
          "2023-08-17T11:15:00",
          "2023-08-17T11:45:00",
          "2023-08-17T12:00:00",
          "2023-08-17T12:15:00",
          "2023-08-17T12:30:00",
          "2023-08-17T13:15:00",
          "2023-08-17T13:30:00",
          "2023-08-17T13:45:00",
          "2023-08-17T14:00:00",
          "2023-08-17T14:15:00",
          "2023-08-17T14:30:00",
          "2023-08-17T15:45:00",
          "2023-08-17T16:45:00",
          "2023-08-17T17:15:00",
          "2023-08-17T17:45:00",
          "2023-08-17T18:00:00",
          "2023-08-17T18:45:00",
          "2023-08-17T20:00:00",
          "2023-08-17T21:00:00",
          "2023-08-17T21:45:00",
          "2023-08-17T22:15:00",
          "2023-08-17T23:45:00",
          "2023-08-18T00:00:00"
         ],
         "xaxis": "x",
         "y": [
          100,
          100,
          100,
          100,
          100,
          100,
          100,
          100,
          100,
          100,
          100,
          100,
          100,
          100,
          100,
          50,
          100,
          100,
          100,
          100,
          50,
          100,
          100,
          100,
          100,
          100,
          75,
          100,
          100,
          100,
          100,
          33,
          100,
          100,
          33,
          67,
          100,
          100,
          100,
          100,
          67,
          100,
          100,
          100,
          100,
          100,
          100,
          100,
          50,
          100,
          100,
          67,
          100,
          100,
          100,
          33,
          100,
          100,
          100,
          100,
          50,
          100,
          50,
          100,
          50,
          33,
          50,
          100,
          67,
          50,
          100,
          100,
          50,
          100,
          50,
          100,
          100,
          33,
          50,
          50,
          50,
          33,
          40,
          100,
          100,
          33,
          67,
          100,
          50,
          20,
          50,
          100
         ],
         "yaxis": "y"
        },
        {
         "alignmentgroup": "True",
         "hovertemplate": "sentiment=Negative<br>all_utc_datetime=%{x}<br>count=%{y}<br>text=%{text}<extra></extra>",
         "legendgroup": "Negative",
         "marker": {
          "color": "#ff6961",
          "pattern": {
           "shape": ""
          }
         },
         "name": "Negative",
         "offsetgroup": "Negative",
         "orientation": "v",
         "showlegend": true,
         "text": [
          "100.0%",
          "100.0%",
          "100.0%",
          "100.0%",
          "100.0%",
          "100.0%",
          "100.0%",
          "100.0%",
          "100.0%",
          "100.0%",
          "50.0%",
          "100.0%",
          "100.0%",
          "67.0%",
          "100.0%",
          "100.0%",
          "50.0%",
          "67.0%",
          "100.0%",
          "100.0%",
          "40.0%",
          "100.0%",
          "33.0%",
          "100.0%",
          "33.0%",
          "100.0%",
          "100.0%",
          "100.0%",
          "67.0%",
          "50.0%",
          "100.0%",
          "100.0%",
          "100.0%",
          "100.0%",
          "100.0%",
          "100.0%",
          "100.0%",
          "100.0%",
          "100.0%",
          "100.0%",
          "50.0%",
          "100.0%",
          "100.0%",
          "100.0%",
          "100.0%",
          "100.0%",
          "100.0%",
          "100.0%",
          "67.0%",
          "50.0%",
          "50.0%",
          "33.0%",
          "100.0%",
          "100.0%",
          "100.0%",
          "100.0%",
          "100.0%",
          "50.0%",
          "100.0%",
          "100.0%",
          "50.0%",
          "33.0%",
          "50.0%",
          "50.0%",
          "50.0%",
          "100.0%",
          "100.0%",
          "100.0%",
          "100.0%",
          "100.0%",
          "33.0%",
          "100.0%",
          "100.0%",
          "33.0%",
          "50.0%",
          "100.0%",
          "100.0%",
          "100.0%",
          "33.0%",
          "100.0%",
          "100.0%",
          "100.0%",
          "100.0%",
          "100.0%",
          "50.0%",
          "100.0%",
          "80.0%",
          "100.0%",
          "100.0%",
          "100.0%",
          "100.0%",
          "100.0%",
          "50.0%"
         ],
         "textposition": "auto",
         "type": "bar",
         "x": [
          "2023-08-16T00:15:00",
          "2023-08-16T00:30:00",
          "2023-08-16T00:45:00",
          "2023-08-16T01:00:00",
          "2023-08-16T01:15:00",
          "2023-08-16T01:30:00",
          "2023-08-16T03:30:00",
          "2023-08-16T03:45:00",
          "2023-08-16T04:00:00",
          "2023-08-16T04:15:00",
          "2023-08-16T05:45:00",
          "2023-08-16T09:00:00",
          "2023-08-16T09:15:00",
          "2023-08-16T09:30:00",
          "2023-08-16T09:45:00",
          "2023-08-16T10:00:00",
          "2023-08-16T11:45:00",
          "2023-08-16T14:15:00",
          "2023-08-16T14:45:00",
          "2023-08-16T15:00:00",
          "2023-08-16T16:00:00",
          "2023-08-16T17:15:00",
          "2023-08-16T18:15:00",
          "2023-08-16T19:15:00",
          "2023-08-16T20:45:00",
          "2023-08-16T21:00:00",
          "2023-08-17T00:30:00",
          "2023-08-17T00:45:00",
          "2023-08-17T01:45:00",
          "2023-08-17T03:00:00",
          "2023-08-17T03:30:00",
          "2023-08-17T03:45:00",
          "2023-08-17T04:00:00",
          "2023-08-17T04:15:00",
          "2023-08-17T04:30:00",
          "2023-08-17T04:45:00",
          "2023-08-17T05:00:00",
          "2023-08-17T05:15:00",
          "2023-08-17T05:30:00",
          "2023-08-17T05:45:00",
          "2023-08-17T06:00:00",
          "2023-08-17T06:15:00",
          "2023-08-17T06:45:00",
          "2023-08-17T07:15:00",
          "2023-08-17T07:30:00",
          "2023-08-17T07:45:00",
          "2023-08-17T08:00:00",
          "2023-08-17T08:15:00",
          "2023-08-17T08:30:00",
          "2023-08-17T08:45:00",
          "2023-08-17T09:00:00",
          "2023-08-17T09:45:00",
          "2023-08-17T10:00:00",
          "2023-08-17T10:15:00",
          "2023-08-17T10:30:00",
          "2023-08-17T10:45:00",
          "2023-08-17T11:00:00",
          "2023-08-17T12:15:00",
          "2023-08-17T12:45:00",
          "2023-08-17T13:00:00",
          "2023-08-17T13:15:00",
          "2023-08-17T14:00:00",
          "2023-08-17T14:15:00",
          "2023-08-17T14:30:00",
          "2023-08-17T14:45:00",
          "2023-08-17T15:15:00",
          "2023-08-17T15:30:00",
          "2023-08-17T16:00:00",
          "2023-08-17T16:15:00",
          "2023-08-17T16:30:00",
          "2023-08-17T16:45:00",
          "2023-08-17T17:00:00",
          "2023-08-17T18:15:00",
          "2023-08-17T18:45:00",
          "2023-08-17T19:00:00",
          "2023-08-17T19:15:00",
          "2023-08-17T19:30:00",
          "2023-08-17T19:45:00",
          "2023-08-17T20:00:00",
          "2023-08-17T20:15:00",
          "2023-08-17T20:30:00",
          "2023-08-17T20:45:00",
          "2023-08-17T21:15:00",
          "2023-08-17T21:30:00",
          "2023-08-17T21:45:00",
          "2023-08-17T22:00:00",
          "2023-08-17T22:15:00",
          "2023-08-17T22:30:00",
          "2023-08-17T22:45:00",
          "2023-08-17T23:00:00",
          "2023-08-17T23:15:00",
          "2023-08-17T23:30:00",
          "2023-08-17T23:45:00"
         ],
         "xaxis": "x",
         "y": [
          100,
          100,
          100,
          100,
          100,
          100,
          100,
          100,
          100,
          100,
          50,
          100,
          100,
          67,
          100,
          100,
          50,
          67,
          100,
          100,
          40,
          100,
          33,
          100,
          33,
          100,
          100,
          100,
          67,
          50,
          100,
          100,
          100,
          100,
          100,
          100,
          100,
          100,
          100,
          100,
          50,
          100,
          100,
          100,
          100,
          100,
          100,
          100,
          67,
          50,
          50,
          33,
          100,
          100,
          100,
          100,
          100,
          50,
          100,
          100,
          50,
          33,
          50,
          50,
          50,
          100,
          100,
          100,
          100,
          100,
          33,
          100,
          100,
          33,
          50,
          100,
          100,
          100,
          33,
          100,
          100,
          100,
          100,
          100,
          50,
          100,
          80,
          100,
          100,
          100,
          100,
          100,
          50
         ],
         "yaxis": "y"
        },
        {
         "alignmentgroup": "True",
         "hovertemplate": "sentiment=Neutral<br>all_utc_datetime=%{x}<br>count=%{y}<br>text=%{text}<extra></extra>",
         "legendgroup": "Neutral",
         "marker": {
          "color": "#ffb347",
          "pattern": {
           "shape": ""
          }
         },
         "name": "Neutral",
         "offsetgroup": "Neutral",
         "orientation": "v",
         "showlegend": true,
         "text": [
          "100.0%",
          "100.0%",
          "50.0%",
          "100.0%",
          "100.0%",
          "100.0%",
          "100.0%",
          "50.0%",
          "33.0%",
          "50.0%",
          "50.0%",
          "25.0%",
          "100.0%",
          "100.0%",
          "100.0%",
          "100.0%",
          "100.0%",
          "60.0%",
          "67.0%",
          "100.0%",
          "100.0%",
          "100.0%",
          "100.0%",
          "100.0%",
          "100.0%",
          "100.0%",
          "100.0%",
          "100.0%",
          "100.0%",
          "50.0%",
          "33.0%",
          "100.0%",
          "100.0%",
          "50.0%",
          "50.0%",
          "100.0%",
          "50.0%",
          "100.0%",
          "33.0%",
          "50.0%",
          "100.0%",
          "50.0%",
          "33.0%",
          "60.0%",
          "100.0%",
          "100.0%",
          "33.0%",
          "50.0%"
         ],
         "textposition": "auto",
         "type": "bar",
         "x": [
          "2023-08-16T01:45:00",
          "2023-08-16T04:30:00",
          "2023-08-16T05:45:00",
          "2023-08-16T06:00:00",
          "2023-08-16T06:15:00",
          "2023-08-16T06:30:00",
          "2023-08-16T06:45:00",
          "2023-08-16T08:00:00",
          "2023-08-16T09:30:00",
          "2023-08-16T10:30:00",
          "2023-08-16T11:45:00",
          "2023-08-16T12:15:00",
          "2023-08-16T12:45:00",
          "2023-08-16T13:00:00",
          "2023-08-16T14:00:00",
          "2023-08-16T15:15:00",
          "2023-08-16T15:30:00",
          "2023-08-16T16:00:00",
          "2023-08-16T16:15:00",
          "2023-08-16T16:30:00",
          "2023-08-16T16:45:00",
          "2023-08-16T17:00:00",
          "2023-08-16T17:30:00",
          "2023-08-16T17:45:00",
          "2023-08-16T18:00:00",
          "2023-08-16T18:45:00",
          "2023-08-16T19:00:00",
          "2023-08-16T19:30:00",
          "2023-08-16T20:30:00",
          "2023-08-16T23:00:00",
          "2023-08-16T23:45:00",
          "2023-08-17T00:00:00",
          "2023-08-17T01:00:00",
          "2023-08-17T07:00:00",
          "2023-08-17T09:00:00",
          "2023-08-17T09:15:00",
          "2023-08-17T11:15:00",
          "2023-08-17T11:30:00",
          "2023-08-17T14:00:00",
          "2023-08-17T14:45:00",
          "2023-08-17T15:00:00",
          "2023-08-17T15:45:00",
          "2023-08-17T16:45:00",
          "2023-08-17T17:15:00",
          "2023-08-17T17:30:00",
          "2023-08-17T18:30:00",
          "2023-08-17T18:45:00",
          "2023-08-17T19:00:00"
         ],
         "xaxis": "x",
         "y": [
          100,
          100,
          50,
          100,
          100,
          100,
          100,
          50,
          33,
          50,
          50,
          25,
          100,
          100,
          100,
          100,
          100,
          60,
          67,
          100,
          100,
          100,
          100,
          100,
          100,
          100,
          100,
          100,
          100,
          50,
          33,
          100,
          100,
          50,
          50,
          100,
          50,
          100,
          33,
          50,
          100,
          50,
          33,
          60,
          100,
          100,
          33,
          50
         ],
         "yaxis": "y"
        }
       ],
       "layout": {
        "barmode": "relative",
        "legend": {
         "title": {
          "text": "sentiment"
         },
         "tracegroupgap": 0
        },
        "margin": {
         "t": 60
        },
        "shapes": [
         {
          "line": {
           "color": "black",
           "dash": "dash",
           "width": 4
          },
          "type": "line",
          "x0": "2023-08-17 21:30:00",
          "x1": "2023-08-17 21:30:00",
          "xref": "x",
          "y0": 0,
          "y1": 1,
          "yref": "y domain"
         }
        ],
        "template": {
         "data": {
          "bar": [
           {
            "error_x": {
             "color": "rgb(51,51,51)"
            },
            "error_y": {
             "color": "rgb(51,51,51)"
            },
            "marker": {
             "line": {
              "color": "rgb(237,237,237)",
              "width": 0.5
             },
             "pattern": {
              "fillmode": "overlay",
              "size": 10,
              "solidity": 0.2
             }
            },
            "type": "bar"
           }
          ],
          "barpolar": [
           {
            "marker": {
             "line": {
              "color": "rgb(237,237,237)",
              "width": 0.5
             },
             "pattern": {
              "fillmode": "overlay",
              "size": 10,
              "solidity": 0.2
             }
            },
            "type": "barpolar"
           }
          ],
          "carpet": [
           {
            "aaxis": {
             "endlinecolor": "rgb(51,51,51)",
             "gridcolor": "white",
             "linecolor": "white",
             "minorgridcolor": "white",
             "startlinecolor": "rgb(51,51,51)"
            },
            "baxis": {
             "endlinecolor": "rgb(51,51,51)",
             "gridcolor": "white",
             "linecolor": "white",
             "minorgridcolor": "white",
             "startlinecolor": "rgb(51,51,51)"
            },
            "type": "carpet"
           }
          ],
          "choropleth": [
           {
            "colorbar": {
             "outlinewidth": 0,
             "tickcolor": "rgb(237,237,237)",
             "ticklen": 6,
             "ticks": "inside"
            },
            "type": "choropleth"
           }
          ],
          "contour": [
           {
            "colorbar": {
             "outlinewidth": 0,
             "tickcolor": "rgb(237,237,237)",
             "ticklen": 6,
             "ticks": "inside"
            },
            "colorscale": [
             [
              0,
              "rgb(20,44,66)"
             ],
             [
              1,
              "rgb(90,179,244)"
             ]
            ],
            "type": "contour"
           }
          ],
          "contourcarpet": [
           {
            "colorbar": {
             "outlinewidth": 0,
             "tickcolor": "rgb(237,237,237)",
             "ticklen": 6,
             "ticks": "inside"
            },
            "type": "contourcarpet"
           }
          ],
          "heatmap": [
           {
            "colorbar": {
             "outlinewidth": 0,
             "tickcolor": "rgb(237,237,237)",
             "ticklen": 6,
             "ticks": "inside"
            },
            "colorscale": [
             [
              0,
              "rgb(20,44,66)"
             ],
             [
              1,
              "rgb(90,179,244)"
             ]
            ],
            "type": "heatmap"
           }
          ],
          "heatmapgl": [
           {
            "colorbar": {
             "outlinewidth": 0,
             "tickcolor": "rgb(237,237,237)",
             "ticklen": 6,
             "ticks": "inside"
            },
            "colorscale": [
             [
              0,
              "rgb(20,44,66)"
             ],
             [
              1,
              "rgb(90,179,244)"
             ]
            ],
            "type": "heatmapgl"
           }
          ],
          "histogram": [
           {
            "marker": {
             "pattern": {
              "fillmode": "overlay",
              "size": 10,
              "solidity": 0.2
             }
            },
            "type": "histogram"
           }
          ],
          "histogram2d": [
           {
            "colorbar": {
             "outlinewidth": 0,
             "tickcolor": "rgb(237,237,237)",
             "ticklen": 6,
             "ticks": "inside"
            },
            "colorscale": [
             [
              0,
              "rgb(20,44,66)"
             ],
             [
              1,
              "rgb(90,179,244)"
             ]
            ],
            "type": "histogram2d"
           }
          ],
          "histogram2dcontour": [
           {
            "colorbar": {
             "outlinewidth": 0,
             "tickcolor": "rgb(237,237,237)",
             "ticklen": 6,
             "ticks": "inside"
            },
            "colorscale": [
             [
              0,
              "rgb(20,44,66)"
             ],
             [
              1,
              "rgb(90,179,244)"
             ]
            ],
            "type": "histogram2dcontour"
           }
          ],
          "mesh3d": [
           {
            "colorbar": {
             "outlinewidth": 0,
             "tickcolor": "rgb(237,237,237)",
             "ticklen": 6,
             "ticks": "inside"
            },
            "type": "mesh3d"
           }
          ],
          "parcoords": [
           {
            "line": {
             "colorbar": {
              "outlinewidth": 0,
              "tickcolor": "rgb(237,237,237)",
              "ticklen": 6,
              "ticks": "inside"
             }
            },
            "type": "parcoords"
           }
          ],
          "pie": [
           {
            "automargin": true,
            "type": "pie"
           }
          ],
          "scatter": [
           {
            "fillpattern": {
             "fillmode": "overlay",
             "size": 10,
             "solidity": 0.2
            },
            "type": "scatter"
           }
          ],
          "scatter3d": [
           {
            "line": {
             "colorbar": {
              "outlinewidth": 0,
              "tickcolor": "rgb(237,237,237)",
              "ticklen": 6,
              "ticks": "inside"
             }
            },
            "marker": {
             "colorbar": {
              "outlinewidth": 0,
              "tickcolor": "rgb(237,237,237)",
              "ticklen": 6,
              "ticks": "inside"
             }
            },
            "type": "scatter3d"
           }
          ],
          "scattercarpet": [
           {
            "marker": {
             "colorbar": {
              "outlinewidth": 0,
              "tickcolor": "rgb(237,237,237)",
              "ticklen": 6,
              "ticks": "inside"
             }
            },
            "type": "scattercarpet"
           }
          ],
          "scattergeo": [
           {
            "marker": {
             "colorbar": {
              "outlinewidth": 0,
              "tickcolor": "rgb(237,237,237)",
              "ticklen": 6,
              "ticks": "inside"
             }
            },
            "type": "scattergeo"
           }
          ],
          "scattergl": [
           {
            "marker": {
             "colorbar": {
              "outlinewidth": 0,
              "tickcolor": "rgb(237,237,237)",
              "ticklen": 6,
              "ticks": "inside"
             }
            },
            "type": "scattergl"
           }
          ],
          "scattermapbox": [
           {
            "marker": {
             "colorbar": {
              "outlinewidth": 0,
              "tickcolor": "rgb(237,237,237)",
              "ticklen": 6,
              "ticks": "inside"
             }
            },
            "type": "scattermapbox"
           }
          ],
          "scatterpolar": [
           {
            "marker": {
             "colorbar": {
              "outlinewidth": 0,
              "tickcolor": "rgb(237,237,237)",
              "ticklen": 6,
              "ticks": "inside"
             }
            },
            "type": "scatterpolar"
           }
          ],
          "scatterpolargl": [
           {
            "marker": {
             "colorbar": {
              "outlinewidth": 0,
              "tickcolor": "rgb(237,237,237)",
              "ticklen": 6,
              "ticks": "inside"
             }
            },
            "type": "scatterpolargl"
           }
          ],
          "scatterternary": [
           {
            "marker": {
             "colorbar": {
              "outlinewidth": 0,
              "tickcolor": "rgb(237,237,237)",
              "ticklen": 6,
              "ticks": "inside"
             }
            },
            "type": "scatterternary"
           }
          ],
          "surface": [
           {
            "colorbar": {
             "outlinewidth": 0,
             "tickcolor": "rgb(237,237,237)",
             "ticklen": 6,
             "ticks": "inside"
            },
            "colorscale": [
             [
              0,
              "rgb(20,44,66)"
             ],
             [
              1,
              "rgb(90,179,244)"
             ]
            ],
            "type": "surface"
           }
          ],
          "table": [
           {
            "cells": {
             "fill": {
              "color": "rgb(237,237,237)"
             },
             "line": {
              "color": "white"
             }
            },
            "header": {
             "fill": {
              "color": "rgb(217,217,217)"
             },
             "line": {
              "color": "white"
             }
            },
            "type": "table"
           }
          ]
         },
         "layout": {
          "annotationdefaults": {
           "arrowhead": 0,
           "arrowwidth": 1
          },
          "autotypenumbers": "strict",
          "coloraxis": {
           "colorbar": {
            "outlinewidth": 0,
            "tickcolor": "rgb(237,237,237)",
            "ticklen": 6,
            "ticks": "inside"
           }
          },
          "colorscale": {
           "sequential": [
            [
             0,
             "rgb(20,44,66)"
            ],
            [
             1,
             "rgb(90,179,244)"
            ]
           ],
           "sequentialminus": [
            [
             0,
             "rgb(20,44,66)"
            ],
            [
             1,
             "rgb(90,179,244)"
            ]
           ]
          },
          "colorway": [
           "#F8766D",
           "#A3A500",
           "#00BF7D",
           "#00B0F6",
           "#E76BF3"
          ],
          "font": {
           "color": "rgb(51,51,51)"
          },
          "geo": {
           "bgcolor": "white",
           "lakecolor": "white",
           "landcolor": "rgb(237,237,237)",
           "showlakes": true,
           "showland": true,
           "subunitcolor": "white"
          },
          "hoverlabel": {
           "align": "left"
          },
          "hovermode": "closest",
          "paper_bgcolor": "white",
          "plot_bgcolor": "rgb(237,237,237)",
          "polar": {
           "angularaxis": {
            "gridcolor": "white",
            "linecolor": "white",
            "showgrid": true,
            "tickcolor": "rgb(51,51,51)",
            "ticks": "outside"
           },
           "bgcolor": "rgb(237,237,237)",
           "radialaxis": {
            "gridcolor": "white",
            "linecolor": "white",
            "showgrid": true,
            "tickcolor": "rgb(51,51,51)",
            "ticks": "outside"
           }
          },
          "scene": {
           "xaxis": {
            "backgroundcolor": "rgb(237,237,237)",
            "gridcolor": "white",
            "gridwidth": 2,
            "linecolor": "white",
            "showbackground": true,
            "showgrid": true,
            "tickcolor": "rgb(51,51,51)",
            "ticks": "outside",
            "zerolinecolor": "white"
           },
           "yaxis": {
            "backgroundcolor": "rgb(237,237,237)",
            "gridcolor": "white",
            "gridwidth": 2,
            "linecolor": "white",
            "showbackground": true,
            "showgrid": true,
            "tickcolor": "rgb(51,51,51)",
            "ticks": "outside",
            "zerolinecolor": "white"
           },
           "zaxis": {
            "backgroundcolor": "rgb(237,237,237)",
            "gridcolor": "white",
            "gridwidth": 2,
            "linecolor": "white",
            "showbackground": true,
            "showgrid": true,
            "tickcolor": "rgb(51,51,51)",
            "ticks": "outside",
            "zerolinecolor": "white"
           }
          },
          "shapedefaults": {
           "fillcolor": "black",
           "line": {
            "width": 0
           },
           "opacity": 0.3
          },
          "ternary": {
           "aaxis": {
            "gridcolor": "white",
            "linecolor": "white",
            "showgrid": true,
            "tickcolor": "rgb(51,51,51)",
            "ticks": "outside"
           },
           "baxis": {
            "gridcolor": "white",
            "linecolor": "white",
            "showgrid": true,
            "tickcolor": "rgb(51,51,51)",
            "ticks": "outside"
           },
           "bgcolor": "rgb(237,237,237)",
           "caxis": {
            "gridcolor": "white",
            "linecolor": "white",
            "showgrid": true,
            "tickcolor": "rgb(51,51,51)",
            "ticks": "outside"
           }
          },
          "xaxis": {
           "automargin": true,
           "gridcolor": "white",
           "linecolor": "white",
           "showgrid": true,
           "tickcolor": "rgb(51,51,51)",
           "ticks": "outside",
           "title": {
            "standoff": 15
           },
           "zerolinecolor": "white"
          },
          "yaxis": {
           "automargin": true,
           "gridcolor": "white",
           "linecolor": "white",
           "showgrid": true,
           "tickcolor": "rgb(51,51,51)",
           "ticks": "outside",
           "title": {
            "standoff": 15
           },
           "zerolinecolor": "white"
          }
         }
        },
        "title": {
         "text": "<b>Cryptonews Sentiment - August 2023</b>"
        },
        "xaxis": {
         "anchor": "y",
         "domain": [
          0,
          1
         ],
         "title": {
          "text": "Date"
         }
        },
        "yaxis": {
         "anchor": "x",
         "domain": [
          0,
          1
         ],
         "title": {
          "text": "Count per Sentiment"
         }
        }
       }
      }
     },
     "metadata": {},
     "output_type": "display_data"
    }
   ],
   "source": [
    "sents = all_date_news.groupby('all_utc_datetime')['sentiment'].value_counts(normalize=True).to_frame('count')\n",
    "sents['count'] = round(sents['count']*100)\n",
    "sents = sents.reset_index()\n",
    "\n",
    "fig = px.bar(\n",
    "    sents, \n",
    "    x='all_utc_datetime', \n",
    "    y='count', \n",
    "    text=[f'{c}%' for c in sents['count']],\n",
    "    color='sentiment', \n",
    "    color_discrete_map={'Positive': '#77dd77',\n",
    "                        'Negative': '#ff6961',\n",
    "                        'Neutral': '#ffb347'\n",
    "                        }\n",
    "    )\n",
    "\n",
    "fig.update_layout(\n",
    "     title=\"<b>Cryptonews Sentiment - August 2023</b>\",\n",
    "     yaxis_title=\"Count per Sentiment\",\n",
    "     xaxis_title=\"Date\",\n",
    "     template=\"ggplot2\"\n",
    "     )\n",
    "\n",
    "# fig.update_xaxes(type='category')\n",
    "fig.add_vline(x='2023-08-17 21:30:00',line_width=4, line_dash=\"dash\", line_color=\"black\")\n",
    "fig.show()"
   ]
  },
  {
   "cell_type": "code",
   "execution_count": 30,
   "metadata": {},
   "outputs": [
    {
     "data": {
      "application/vnd.plotly.v1+json": {
       "config": {
        "plotlyServerURL": "https://plot.ly"
       },
       "data": [
        {
         "alignmentgroup": "True",
         "hovertemplate": "sentiment=Positive<br>round_15min_utc_time=%{x}<br>count=%{y}<br>text=%{text}<extra></extra>",
         "legendgroup": "Positive",
         "marker": {
          "color": "#77dd77",
          "pattern": {
           "shape": ""
          }
         },
         "name": "Positive",
         "offsetgroup": "Positive",
         "orientation": "v",
         "showlegend": true,
         "text": [
          "100.0%",
          "100.0%",
          "100.0%",
          "100.0%",
          "100.0%",
          "50.0%",
          "100.0%",
          "100.0%",
          "100.0%",
          "50.0%",
          "100.0%",
          "100.0%",
          "75.0%",
          "100.0%",
          "100.0%",
          "33.0%",
          "100.0%",
          "100.0%",
          "33.0%",
          "67.0%",
          "100.0%",
          "100.0%",
          "100.0%",
          "100.0%",
          "67.0%",
          "100.0%",
          "100.0%",
          "50.0%",
          "67.0%",
          "100.0%",
          "100.0%",
          "100.0%",
          "33.0%",
          "50.0%",
          "50.0%",
          "100.0%",
          "50.0%",
          "33.0%",
          "50.0%",
          "100.0%",
          "67.0%",
          "50.0%",
          "100.0%",
          "100.0%",
          "50.0%",
          "50.0%",
          "100.0%",
          "33.0%",
          "50.0%",
          "50.0%",
          "50.0%",
          "33.0%",
          "40.0%",
          "100.0%",
          "33.0%",
          "67.0%",
          "100.0%",
          "50.0%",
          "20.0%",
          "50.0%"
         ],
         "textposition": "auto",
         "type": "bar",
         "x": [
          "2023-08-16T00:00:00",
          "2023-08-16T02:00:00",
          "2023-08-16T04:45:00",
          "2023-08-16T07:00:00",
          "2023-08-16T07:15:00",
          "2023-08-16T08:00:00",
          "2023-08-16T08:15:00",
          "2023-08-16T08:30:00",
          "2023-08-16T10:15:00",
          "2023-08-16T10:30:00",
          "2023-08-16T10:45:00",
          "2023-08-16T12:00:00",
          "2023-08-16T12:15:00",
          "2023-08-16T12:30:00",
          "2023-08-16T13:15:00",
          "2023-08-16T14:15:00",
          "2023-08-16T14:30:00",
          "2023-08-16T15:45:00",
          "2023-08-16T16:15:00",
          "2023-08-16T18:15:00",
          "2023-08-16T18:30:00",
          "2023-08-16T19:45:00",
          "2023-08-16T20:00:00",
          "2023-08-16T20:15:00",
          "2023-08-16T20:45:00",
          "2023-08-16T21:15:00",
          "2023-08-16T21:45:00",
          "2023-08-16T23:00:00",
          "2023-08-16T23:45:00",
          "2023-08-17T00:15:00",
          "2023-08-17T01:15:00",
          "2023-08-17T01:30:00",
          "2023-08-17T01:45:00",
          "2023-08-17T03:00:00",
          "2023-08-17T06:00:00",
          "2023-08-17T06:30:00",
          "2023-08-17T07:00:00",
          "2023-08-17T08:30:00",
          "2023-08-17T08:45:00",
          "2023-08-17T09:30:00",
          "2023-08-17T09:45:00",
          "2023-08-17T11:15:00",
          "2023-08-17T11:45:00",
          "2023-08-17T12:00:00",
          "2023-08-17T12:15:00",
          "2023-08-17T13:15:00",
          "2023-08-17T13:30:00",
          "2023-08-17T14:00:00",
          "2023-08-17T14:15:00",
          "2023-08-17T14:30:00",
          "2023-08-17T15:45:00",
          "2023-08-17T16:45:00",
          "2023-08-17T17:15:00",
          "2023-08-17T17:45:00",
          "2023-08-17T18:45:00",
          "2023-08-17T20:00:00",
          "2023-08-17T21:00:00",
          "2023-08-17T21:45:00",
          "2023-08-17T22:15:00",
          "2023-08-17T23:45:00"
         ],
         "xaxis": "x",
         "y": [
          100,
          100,
          100,
          100,
          100,
          50,
          100,
          100,
          100,
          50,
          100,
          100,
          75,
          100,
          100,
          33,
          100,
          100,
          33,
          67,
          100,
          100,
          100,
          100,
          67,
          100,
          100,
          50,
          67,
          100,
          100,
          100,
          33,
          50,
          50,
          100,
          50,
          33,
          50,
          100,
          67,
          50,
          100,
          100,
          50,
          50,
          100,
          33,
          50,
          50,
          50,
          33,
          40,
          100,
          33,
          67,
          100,
          50,
          20,
          50
         ],
         "yaxis": "y"
        },
        {
         "alignmentgroup": "True",
         "hovertemplate": "sentiment=Negative<br>round_15min_utc_time=%{x}<br>count=%{y}<br>text=%{text}<extra></extra>",
         "legendgroup": "Negative",
         "marker": {
          "color": "#ff6961",
          "pattern": {
           "shape": ""
          }
         },
         "name": "Negative",
         "offsetgroup": "Negative",
         "orientation": "v",
         "showlegend": true,
         "text": [
          "100.0%",
          "100.0%",
          "100.0%",
          "100.0%",
          "100.0%",
          "50.0%",
          "100.0%",
          "67.0%",
          "100.0%",
          "50.0%",
          "67.0%",
          "100.0%",
          "40.0%",
          "100.0%",
          "33.0%",
          "100.0%",
          "33.0%",
          "100.0%",
          "67.0%",
          "50.0%",
          "100.0%",
          "50.0%",
          "100.0%",
          "100.0%",
          "100.0%",
          "100.0%",
          "67.0%",
          "50.0%",
          "50.0%",
          "33.0%",
          "100.0%",
          "50.0%",
          "100.0%",
          "100.0%",
          "50.0%",
          "33.0%",
          "50.0%",
          "50.0%",
          "50.0%",
          "100.0%",
          "100.0%",
          "100.0%",
          "100.0%",
          "33.0%",
          "100.0%",
          "33.0%",
          "50.0%",
          "100.0%",
          "100.0%",
          "33.0%",
          "100.0%",
          "100.0%",
          "50.0%",
          "100.0%",
          "80.0%",
          "100.0%",
          "100.0%",
          "100.0%",
          "50.0%"
         ],
         "textposition": "auto",
         "type": "bar",
         "x": [
          "2023-08-16T00:15:00",
          "2023-08-16T01:30:00",
          "2023-08-16T03:30:00",
          "2023-08-16T04:00:00",
          "2023-08-16T04:15:00",
          "2023-08-16T05:45:00",
          "2023-08-16T09:00:00",
          "2023-08-16T09:30:00",
          "2023-08-16T10:00:00",
          "2023-08-16T11:45:00",
          "2023-08-16T14:15:00",
          "2023-08-16T14:45:00",
          "2023-08-16T16:00:00",
          "2023-08-16T17:15:00",
          "2023-08-16T18:15:00",
          "2023-08-16T19:15:00",
          "2023-08-16T20:45:00",
          "2023-08-17T00:30:00",
          "2023-08-17T01:45:00",
          "2023-08-17T03:00:00",
          "2023-08-17T03:30:00",
          "2023-08-17T06:00:00",
          "2023-08-17T06:15:00",
          "2023-08-17T06:45:00",
          "2023-08-17T07:15:00",
          "2023-08-17T08:00:00",
          "2023-08-17T08:30:00",
          "2023-08-17T08:45:00",
          "2023-08-17T09:00:00",
          "2023-08-17T09:45:00",
          "2023-08-17T10:00:00",
          "2023-08-17T12:15:00",
          "2023-08-17T12:45:00",
          "2023-08-17T13:00:00",
          "2023-08-17T13:15:00",
          "2023-08-17T14:00:00",
          "2023-08-17T14:15:00",
          "2023-08-17T14:30:00",
          "2023-08-17T14:45:00",
          "2023-08-17T15:15:00",
          "2023-08-17T15:30:00",
          "2023-08-17T16:00:00",
          "2023-08-17T16:15:00",
          "2023-08-17T16:45:00",
          "2023-08-17T18:15:00",
          "2023-08-17T18:45:00",
          "2023-08-17T19:00:00",
          "2023-08-17T19:15:00",
          "2023-08-17T19:45:00",
          "2023-08-17T20:00:00",
          "2023-08-17T20:15:00",
          "2023-08-17T21:15:00",
          "2023-08-17T21:45:00",
          "2023-08-17T22:00:00",
          "2023-08-17T22:15:00",
          "2023-08-17T22:45:00",
          "2023-08-17T23:00:00",
          "2023-08-17T23:30:00",
          "2023-08-17T23:45:00"
         ],
         "xaxis": "x",
         "y": [
          100,
          100,
          100,
          100,
          100,
          50,
          100,
          67,
          100,
          50,
          67,
          100,
          40,
          100,
          33,
          100,
          33,
          100,
          67,
          50,
          100,
          50,
          100,
          100,
          100,
          100,
          67,
          50,
          50,
          33,
          100,
          50,
          100,
          100,
          50,
          33,
          50,
          50,
          50,
          100,
          100,
          100,
          100,
          33,
          100,
          33,
          50,
          100,
          100,
          33,
          100,
          100,
          50,
          100,
          80,
          100,
          100,
          100,
          50
         ],
         "yaxis": "y"
        },
        {
         "alignmentgroup": "True",
         "hovertemplate": "sentiment=Neutral<br>round_15min_utc_time=%{x}<br>count=%{y}<br>text=%{text}<extra></extra>",
         "legendgroup": "Neutral",
         "marker": {
          "color": "#ffb347",
          "pattern": {
           "shape": ""
          }
         },
         "name": "Neutral",
         "offsetgroup": "Neutral",
         "orientation": "v",
         "showlegend": true,
         "text": [
          "100.0%",
          "100.0%",
          "50.0%",
          "100.0%",
          "50.0%",
          "33.0%",
          "50.0%",
          "50.0%",
          "25.0%",
          "100.0%",
          "100.0%",
          "100.0%",
          "100.0%",
          "60.0%",
          "67.0%",
          "100.0%",
          "100.0%",
          "100.0%",
          "100.0%",
          "100.0%",
          "50.0%",
          "33.0%",
          "100.0%",
          "50.0%",
          "50.0%",
          "50.0%",
          "33.0%",
          "50.0%",
          "50.0%",
          "33.0%",
          "60.0%",
          "100.0%",
          "33.0%",
          "50.0%"
         ],
         "textposition": "auto",
         "type": "bar",
         "x": [
          "2023-08-16T01:45:00",
          "2023-08-16T04:30:00",
          "2023-08-16T05:45:00",
          "2023-08-16T06:00:00",
          "2023-08-16T08:00:00",
          "2023-08-16T09:30:00",
          "2023-08-16T10:30:00",
          "2023-08-16T11:45:00",
          "2023-08-16T12:15:00",
          "2023-08-16T12:45:00",
          "2023-08-16T14:00:00",
          "2023-08-16T15:15:00",
          "2023-08-16T15:30:00",
          "2023-08-16T16:00:00",
          "2023-08-16T16:15:00",
          "2023-08-16T16:45:00",
          "2023-08-16T17:30:00",
          "2023-08-16T18:45:00",
          "2023-08-16T19:30:00",
          "2023-08-16T20:30:00",
          "2023-08-16T23:00:00",
          "2023-08-16T23:45:00",
          "2023-08-17T01:00:00",
          "2023-08-17T07:00:00",
          "2023-08-17T09:00:00",
          "2023-08-17T11:15:00",
          "2023-08-17T14:00:00",
          "2023-08-17T14:45:00",
          "2023-08-17T15:45:00",
          "2023-08-17T16:45:00",
          "2023-08-17T17:15:00",
          "2023-08-17T18:30:00",
          "2023-08-17T18:45:00",
          "2023-08-17T19:00:00"
         ],
         "xaxis": "x",
         "y": [
          100,
          100,
          50,
          100,
          50,
          33,
          50,
          50,
          25,
          100,
          100,
          100,
          100,
          60,
          67,
          100,
          100,
          100,
          100,
          100,
          50,
          33,
          100,
          50,
          50,
          50,
          33,
          50,
          50,
          33,
          60,
          100,
          33,
          50
         ],
         "yaxis": "y"
        }
       ],
       "layout": {
        "barmode": "relative",
        "legend": {
         "title": {
          "text": "sentiment"
         },
         "tracegroupgap": 0
        },
        "margin": {
         "t": 60
        },
        "shapes": [
         {
          "line": {
           "color": "black",
           "dash": "dash",
           "width": 4
          },
          "type": "line",
          "x0": "2023-08-17 21:30:00",
          "x1": "2023-08-17 21:30:00",
          "xref": "x",
          "y0": 0,
          "y1": 1,
          "yref": "y domain"
         }
        ],
        "template": {
         "data": {
          "bar": [
           {
            "error_x": {
             "color": "rgb(51,51,51)"
            },
            "error_y": {
             "color": "rgb(51,51,51)"
            },
            "marker": {
             "line": {
              "color": "rgb(237,237,237)",
              "width": 0.5
             },
             "pattern": {
              "fillmode": "overlay",
              "size": 10,
              "solidity": 0.2
             }
            },
            "type": "bar"
           }
          ],
          "barpolar": [
           {
            "marker": {
             "line": {
              "color": "rgb(237,237,237)",
              "width": 0.5
             },
             "pattern": {
              "fillmode": "overlay",
              "size": 10,
              "solidity": 0.2
             }
            },
            "type": "barpolar"
           }
          ],
          "carpet": [
           {
            "aaxis": {
             "endlinecolor": "rgb(51,51,51)",
             "gridcolor": "white",
             "linecolor": "white",
             "minorgridcolor": "white",
             "startlinecolor": "rgb(51,51,51)"
            },
            "baxis": {
             "endlinecolor": "rgb(51,51,51)",
             "gridcolor": "white",
             "linecolor": "white",
             "minorgridcolor": "white",
             "startlinecolor": "rgb(51,51,51)"
            },
            "type": "carpet"
           }
          ],
          "choropleth": [
           {
            "colorbar": {
             "outlinewidth": 0,
             "tickcolor": "rgb(237,237,237)",
             "ticklen": 6,
             "ticks": "inside"
            },
            "type": "choropleth"
           }
          ],
          "contour": [
           {
            "colorbar": {
             "outlinewidth": 0,
             "tickcolor": "rgb(237,237,237)",
             "ticklen": 6,
             "ticks": "inside"
            },
            "colorscale": [
             [
              0,
              "rgb(20,44,66)"
             ],
             [
              1,
              "rgb(90,179,244)"
             ]
            ],
            "type": "contour"
           }
          ],
          "contourcarpet": [
           {
            "colorbar": {
             "outlinewidth": 0,
             "tickcolor": "rgb(237,237,237)",
             "ticklen": 6,
             "ticks": "inside"
            },
            "type": "contourcarpet"
           }
          ],
          "heatmap": [
           {
            "colorbar": {
             "outlinewidth": 0,
             "tickcolor": "rgb(237,237,237)",
             "ticklen": 6,
             "ticks": "inside"
            },
            "colorscale": [
             [
              0,
              "rgb(20,44,66)"
             ],
             [
              1,
              "rgb(90,179,244)"
             ]
            ],
            "type": "heatmap"
           }
          ],
          "heatmapgl": [
           {
            "colorbar": {
             "outlinewidth": 0,
             "tickcolor": "rgb(237,237,237)",
             "ticklen": 6,
             "ticks": "inside"
            },
            "colorscale": [
             [
              0,
              "rgb(20,44,66)"
             ],
             [
              1,
              "rgb(90,179,244)"
             ]
            ],
            "type": "heatmapgl"
           }
          ],
          "histogram": [
           {
            "marker": {
             "pattern": {
              "fillmode": "overlay",
              "size": 10,
              "solidity": 0.2
             }
            },
            "type": "histogram"
           }
          ],
          "histogram2d": [
           {
            "colorbar": {
             "outlinewidth": 0,
             "tickcolor": "rgb(237,237,237)",
             "ticklen": 6,
             "ticks": "inside"
            },
            "colorscale": [
             [
              0,
              "rgb(20,44,66)"
             ],
             [
              1,
              "rgb(90,179,244)"
             ]
            ],
            "type": "histogram2d"
           }
          ],
          "histogram2dcontour": [
           {
            "colorbar": {
             "outlinewidth": 0,
             "tickcolor": "rgb(237,237,237)",
             "ticklen": 6,
             "ticks": "inside"
            },
            "colorscale": [
             [
              0,
              "rgb(20,44,66)"
             ],
             [
              1,
              "rgb(90,179,244)"
             ]
            ],
            "type": "histogram2dcontour"
           }
          ],
          "mesh3d": [
           {
            "colorbar": {
             "outlinewidth": 0,
             "tickcolor": "rgb(237,237,237)",
             "ticklen": 6,
             "ticks": "inside"
            },
            "type": "mesh3d"
           }
          ],
          "parcoords": [
           {
            "line": {
             "colorbar": {
              "outlinewidth": 0,
              "tickcolor": "rgb(237,237,237)",
              "ticklen": 6,
              "ticks": "inside"
             }
            },
            "type": "parcoords"
           }
          ],
          "pie": [
           {
            "automargin": true,
            "type": "pie"
           }
          ],
          "scatter": [
           {
            "fillpattern": {
             "fillmode": "overlay",
             "size": 10,
             "solidity": 0.2
            },
            "type": "scatter"
           }
          ],
          "scatter3d": [
           {
            "line": {
             "colorbar": {
              "outlinewidth": 0,
              "tickcolor": "rgb(237,237,237)",
              "ticklen": 6,
              "ticks": "inside"
             }
            },
            "marker": {
             "colorbar": {
              "outlinewidth": 0,
              "tickcolor": "rgb(237,237,237)",
              "ticklen": 6,
              "ticks": "inside"
             }
            },
            "type": "scatter3d"
           }
          ],
          "scattercarpet": [
           {
            "marker": {
             "colorbar": {
              "outlinewidth": 0,
              "tickcolor": "rgb(237,237,237)",
              "ticklen": 6,
              "ticks": "inside"
             }
            },
            "type": "scattercarpet"
           }
          ],
          "scattergeo": [
           {
            "marker": {
             "colorbar": {
              "outlinewidth": 0,
              "tickcolor": "rgb(237,237,237)",
              "ticklen": 6,
              "ticks": "inside"
             }
            },
            "type": "scattergeo"
           }
          ],
          "scattergl": [
           {
            "marker": {
             "colorbar": {
              "outlinewidth": 0,
              "tickcolor": "rgb(237,237,237)",
              "ticklen": 6,
              "ticks": "inside"
             }
            },
            "type": "scattergl"
           }
          ],
          "scattermapbox": [
           {
            "marker": {
             "colorbar": {
              "outlinewidth": 0,
              "tickcolor": "rgb(237,237,237)",
              "ticklen": 6,
              "ticks": "inside"
             }
            },
            "type": "scattermapbox"
           }
          ],
          "scatterpolar": [
           {
            "marker": {
             "colorbar": {
              "outlinewidth": 0,
              "tickcolor": "rgb(237,237,237)",
              "ticklen": 6,
              "ticks": "inside"
             }
            },
            "type": "scatterpolar"
           }
          ],
          "scatterpolargl": [
           {
            "marker": {
             "colorbar": {
              "outlinewidth": 0,
              "tickcolor": "rgb(237,237,237)",
              "ticklen": 6,
              "ticks": "inside"
             }
            },
            "type": "scatterpolargl"
           }
          ],
          "scatterternary": [
           {
            "marker": {
             "colorbar": {
              "outlinewidth": 0,
              "tickcolor": "rgb(237,237,237)",
              "ticklen": 6,
              "ticks": "inside"
             }
            },
            "type": "scatterternary"
           }
          ],
          "surface": [
           {
            "colorbar": {
             "outlinewidth": 0,
             "tickcolor": "rgb(237,237,237)",
             "ticklen": 6,
             "ticks": "inside"
            },
            "colorscale": [
             [
              0,
              "rgb(20,44,66)"
             ],
             [
              1,
              "rgb(90,179,244)"
             ]
            ],
            "type": "surface"
           }
          ],
          "table": [
           {
            "cells": {
             "fill": {
              "color": "rgb(237,237,237)"
             },
             "line": {
              "color": "white"
             }
            },
            "header": {
             "fill": {
              "color": "rgb(217,217,217)"
             },
             "line": {
              "color": "white"
             }
            },
            "type": "table"
           }
          ]
         },
         "layout": {
          "annotationdefaults": {
           "arrowhead": 0,
           "arrowwidth": 1
          },
          "autotypenumbers": "strict",
          "coloraxis": {
           "colorbar": {
            "outlinewidth": 0,
            "tickcolor": "rgb(237,237,237)",
            "ticklen": 6,
            "ticks": "inside"
           }
          },
          "colorscale": {
           "sequential": [
            [
             0,
             "rgb(20,44,66)"
            ],
            [
             1,
             "rgb(90,179,244)"
            ]
           ],
           "sequentialminus": [
            [
             0,
             "rgb(20,44,66)"
            ],
            [
             1,
             "rgb(90,179,244)"
            ]
           ]
          },
          "colorway": [
           "#F8766D",
           "#A3A500",
           "#00BF7D",
           "#00B0F6",
           "#E76BF3"
          ],
          "font": {
           "color": "rgb(51,51,51)"
          },
          "geo": {
           "bgcolor": "white",
           "lakecolor": "white",
           "landcolor": "rgb(237,237,237)",
           "showlakes": true,
           "showland": true,
           "subunitcolor": "white"
          },
          "hoverlabel": {
           "align": "left"
          },
          "hovermode": "closest",
          "paper_bgcolor": "white",
          "plot_bgcolor": "rgb(237,237,237)",
          "polar": {
           "angularaxis": {
            "gridcolor": "white",
            "linecolor": "white",
            "showgrid": true,
            "tickcolor": "rgb(51,51,51)",
            "ticks": "outside"
           },
           "bgcolor": "rgb(237,237,237)",
           "radialaxis": {
            "gridcolor": "white",
            "linecolor": "white",
            "showgrid": true,
            "tickcolor": "rgb(51,51,51)",
            "ticks": "outside"
           }
          },
          "scene": {
           "xaxis": {
            "backgroundcolor": "rgb(237,237,237)",
            "gridcolor": "white",
            "gridwidth": 2,
            "linecolor": "white",
            "showbackground": true,
            "showgrid": true,
            "tickcolor": "rgb(51,51,51)",
            "ticks": "outside",
            "zerolinecolor": "white"
           },
           "yaxis": {
            "backgroundcolor": "rgb(237,237,237)",
            "gridcolor": "white",
            "gridwidth": 2,
            "linecolor": "white",
            "showbackground": true,
            "showgrid": true,
            "tickcolor": "rgb(51,51,51)",
            "ticks": "outside",
            "zerolinecolor": "white"
           },
           "zaxis": {
            "backgroundcolor": "rgb(237,237,237)",
            "gridcolor": "white",
            "gridwidth": 2,
            "linecolor": "white",
            "showbackground": true,
            "showgrid": true,
            "tickcolor": "rgb(51,51,51)",
            "ticks": "outside",
            "zerolinecolor": "white"
           }
          },
          "shapedefaults": {
           "fillcolor": "black",
           "line": {
            "width": 0
           },
           "opacity": 0.3
          },
          "ternary": {
           "aaxis": {
            "gridcolor": "white",
            "linecolor": "white",
            "showgrid": true,
            "tickcolor": "rgb(51,51,51)",
            "ticks": "outside"
           },
           "baxis": {
            "gridcolor": "white",
            "linecolor": "white",
            "showgrid": true,
            "tickcolor": "rgb(51,51,51)",
            "ticks": "outside"
           },
           "bgcolor": "rgb(237,237,237)",
           "caxis": {
            "gridcolor": "white",
            "linecolor": "white",
            "showgrid": true,
            "tickcolor": "rgb(51,51,51)",
            "ticks": "outside"
           }
          },
          "xaxis": {
           "automargin": true,
           "gridcolor": "white",
           "linecolor": "white",
           "showgrid": true,
           "tickcolor": "rgb(51,51,51)",
           "ticks": "outside",
           "title": {
            "standoff": 15
           },
           "zerolinecolor": "white"
          },
          "yaxis": {
           "automargin": true,
           "gridcolor": "white",
           "linecolor": "white",
           "showgrid": true,
           "tickcolor": "rgb(51,51,51)",
           "ticks": "outside",
           "title": {
            "standoff": 15
           },
           "zerolinecolor": "white"
          }
         }
        },
        "title": {
         "text": "<b>Cryptonews Sentiment - August 2023</b>"
        },
        "xaxis": {
         "anchor": "y",
         "domain": [
          0,
          1
         ],
         "title": {
          "text": "Date"
         }
        },
        "yaxis": {
         "anchor": "x",
         "domain": [
          0,
          1
         ],
         "title": {
          "text": "Count per Sentiment"
         }
        }
       }
      }
     },
     "metadata": {},
     "output_type": "display_data"
    }
   ],
   "source": [
    "sents = news_.groupby('round_15min_utc_time')['sentiment'].value_counts(normalize=True).to_frame('count')\n",
    "sents['count'] = round(sents['count']*100)\n",
    "sents = sents.reset_index()\n",
    "\n",
    "fig = px.bar(\n",
    "    sents, \n",
    "    x='round_15min_utc_time', \n",
    "    y='count', \n",
    "    text=[f'{c}%' for c in sents['count']],\n",
    "    color='sentiment', \n",
    "    color_discrete_map={'Positive': '#77dd77',\n",
    "                        'Negative': '#ff6961',\n",
    "                        'Neutral': '#ffb347'\n",
    "                        }\n",
    "    )\n",
    "\n",
    "fig.update_layout(\n",
    "     title=\"<b>Cryptonews Sentiment - August 2023</b>\",\n",
    "     yaxis_title=\"Count per Sentiment\",\n",
    "     xaxis_title=\"Date\",\n",
    "     template=\"ggplot2\"\n",
    "     )\n",
    "\n",
    "# fig.update_xaxes(type='category')\n",
    "fig.add_vline(x='2023-08-17 21:30:00',line_width=4, line_dash=\"dash\", line_color=\"black\")\n",
    "fig.show()"
   ]
  },
  {
   "cell_type": "markdown",
   "metadata": {},
   "source": [
    "Which does not seem to predict the downward trend. \n",
    "\n",
    "* Which news are related to whales offloading?\n",
    "\n",
    "* What if we weight the sentiments based on rank?"
   ]
  },
  {
   "cell_type": "code",
   "execution_count": 31,
   "metadata": {},
   "outputs": [],
   "source": [
    "keywords = ['Elon', 'Musk', 'SpaceX', 'Whale', 'whale']\n",
    "kwstr = '|'.join(keywords)\n",
    "mask = all_date_news[['title', 'text']].stack().str.contains(kwstr).unstack().any(axis=1)\n"
   ]
  },
  {
   "cell_type": "code",
   "execution_count": 32,
   "metadata": {},
   "outputs": [],
   "source": [
    "whales = all_date_news[mask].sort_values('all_utc_datetime')\n",
    "whales_sent = whales.groupby('all_utc_datetime')['sentiment'].value_counts().to_frame('count').reset_index()"
   ]
  },
  {
   "cell_type": "code",
   "execution_count": 33,
   "metadata": {},
   "outputs": [
    {
     "data": {
      "application/vnd.plotly.v1+json": {
       "config": {
        "plotlyServerURL": "https://plot.ly"
       },
       "data": [
        {
         "alignmentgroup": "True",
         "hovertemplate": "sentiment=Neutral<br>all_utc_datetime=%{x}<br>count=%{y}<extra></extra>",
         "legendgroup": "Neutral",
         "marker": {
          "color": "#ffb347",
          "pattern": {
           "shape": ""
          }
         },
         "name": "Neutral",
         "offsetgroup": "Neutral",
         "orientation": "v",
         "showlegend": true,
         "textposition": "auto",
         "type": "bar",
         "x": [
          "2023-08-16T09:30:00"
         ],
         "xaxis": "x",
         "y": [
          1
         ],
         "yaxis": "y"
        },
        {
         "alignmentgroup": "True",
         "hovertemplate": "sentiment=Positive<br>all_utc_datetime=%{x}<br>count=%{y}<extra></extra>",
         "legendgroup": "Positive",
         "marker": {
          "color": "#77dd77",
          "pattern": {
           "shape": ""
          }
         },
         "name": "Positive",
         "offsetgroup": "Positive",
         "orientation": "v",
         "showlegend": true,
         "textposition": "auto",
         "type": "bar",
         "x": [
          "2023-08-16T16:15:00"
         ],
         "xaxis": "x",
         "y": [
          1
         ],
         "yaxis": "y"
        },
        {
         "alignmentgroup": "True",
         "hovertemplate": "sentiment=Negative<br>all_utc_datetime=%{x}<br>count=%{y}<extra></extra>",
         "legendgroup": "Negative",
         "marker": {
          "color": "#ff6961",
          "pattern": {
           "shape": ""
          }
         },
         "name": "Negative",
         "offsetgroup": "Negative",
         "orientation": "v",
         "showlegend": true,
         "textposition": "auto",
         "type": "bar",
         "x": [
          "2023-08-16T19:15:00",
          "2023-08-17T20:15:00",
          "2023-08-17T21:15:00",
          "2023-08-17T23:00:00",
          "2023-08-17T23:15:00",
          "2023-08-17T23:30:00"
         ],
         "xaxis": "x",
         "y": [
          1,
          1,
          1,
          1,
          1,
          1
         ],
         "yaxis": "y"
        }
       ],
       "layout": {
        "barmode": "relative",
        "legend": {
         "title": {
          "text": "sentiment"
         },
         "tracegroupgap": 0
        },
        "margin": {
         "t": 60
        },
        "shapes": [
         {
          "line": {
           "color": "black",
           "dash": "dash",
           "width": 2
          },
          "type": "line",
          "x0": "2023-08-17 21:30:00",
          "x1": "2023-08-17 21:30:00",
          "xref": "x",
          "y0": 0,
          "y1": 1,
          "yref": "y domain"
         }
        ],
        "template": {
         "data": {
          "bar": [
           {
            "error_x": {
             "color": "rgb(51,51,51)"
            },
            "error_y": {
             "color": "rgb(51,51,51)"
            },
            "marker": {
             "line": {
              "color": "rgb(237,237,237)",
              "width": 0.5
             },
             "pattern": {
              "fillmode": "overlay",
              "size": 10,
              "solidity": 0.2
             }
            },
            "type": "bar"
           }
          ],
          "barpolar": [
           {
            "marker": {
             "line": {
              "color": "rgb(237,237,237)",
              "width": 0.5
             },
             "pattern": {
              "fillmode": "overlay",
              "size": 10,
              "solidity": 0.2
             }
            },
            "type": "barpolar"
           }
          ],
          "carpet": [
           {
            "aaxis": {
             "endlinecolor": "rgb(51,51,51)",
             "gridcolor": "white",
             "linecolor": "white",
             "minorgridcolor": "white",
             "startlinecolor": "rgb(51,51,51)"
            },
            "baxis": {
             "endlinecolor": "rgb(51,51,51)",
             "gridcolor": "white",
             "linecolor": "white",
             "minorgridcolor": "white",
             "startlinecolor": "rgb(51,51,51)"
            },
            "type": "carpet"
           }
          ],
          "choropleth": [
           {
            "colorbar": {
             "outlinewidth": 0,
             "tickcolor": "rgb(237,237,237)",
             "ticklen": 6,
             "ticks": "inside"
            },
            "type": "choropleth"
           }
          ],
          "contour": [
           {
            "colorbar": {
             "outlinewidth": 0,
             "tickcolor": "rgb(237,237,237)",
             "ticklen": 6,
             "ticks": "inside"
            },
            "colorscale": [
             [
              0,
              "rgb(20,44,66)"
             ],
             [
              1,
              "rgb(90,179,244)"
             ]
            ],
            "type": "contour"
           }
          ],
          "contourcarpet": [
           {
            "colorbar": {
             "outlinewidth": 0,
             "tickcolor": "rgb(237,237,237)",
             "ticklen": 6,
             "ticks": "inside"
            },
            "type": "contourcarpet"
           }
          ],
          "heatmap": [
           {
            "colorbar": {
             "outlinewidth": 0,
             "tickcolor": "rgb(237,237,237)",
             "ticklen": 6,
             "ticks": "inside"
            },
            "colorscale": [
             [
              0,
              "rgb(20,44,66)"
             ],
             [
              1,
              "rgb(90,179,244)"
             ]
            ],
            "type": "heatmap"
           }
          ],
          "heatmapgl": [
           {
            "colorbar": {
             "outlinewidth": 0,
             "tickcolor": "rgb(237,237,237)",
             "ticklen": 6,
             "ticks": "inside"
            },
            "colorscale": [
             [
              0,
              "rgb(20,44,66)"
             ],
             [
              1,
              "rgb(90,179,244)"
             ]
            ],
            "type": "heatmapgl"
           }
          ],
          "histogram": [
           {
            "marker": {
             "pattern": {
              "fillmode": "overlay",
              "size": 10,
              "solidity": 0.2
             }
            },
            "type": "histogram"
           }
          ],
          "histogram2d": [
           {
            "colorbar": {
             "outlinewidth": 0,
             "tickcolor": "rgb(237,237,237)",
             "ticklen": 6,
             "ticks": "inside"
            },
            "colorscale": [
             [
              0,
              "rgb(20,44,66)"
             ],
             [
              1,
              "rgb(90,179,244)"
             ]
            ],
            "type": "histogram2d"
           }
          ],
          "histogram2dcontour": [
           {
            "colorbar": {
             "outlinewidth": 0,
             "tickcolor": "rgb(237,237,237)",
             "ticklen": 6,
             "ticks": "inside"
            },
            "colorscale": [
             [
              0,
              "rgb(20,44,66)"
             ],
             [
              1,
              "rgb(90,179,244)"
             ]
            ],
            "type": "histogram2dcontour"
           }
          ],
          "mesh3d": [
           {
            "colorbar": {
             "outlinewidth": 0,
             "tickcolor": "rgb(237,237,237)",
             "ticklen": 6,
             "ticks": "inside"
            },
            "type": "mesh3d"
           }
          ],
          "parcoords": [
           {
            "line": {
             "colorbar": {
              "outlinewidth": 0,
              "tickcolor": "rgb(237,237,237)",
              "ticklen": 6,
              "ticks": "inside"
             }
            },
            "type": "parcoords"
           }
          ],
          "pie": [
           {
            "automargin": true,
            "type": "pie"
           }
          ],
          "scatter": [
           {
            "fillpattern": {
             "fillmode": "overlay",
             "size": 10,
             "solidity": 0.2
            },
            "type": "scatter"
           }
          ],
          "scatter3d": [
           {
            "line": {
             "colorbar": {
              "outlinewidth": 0,
              "tickcolor": "rgb(237,237,237)",
              "ticklen": 6,
              "ticks": "inside"
             }
            },
            "marker": {
             "colorbar": {
              "outlinewidth": 0,
              "tickcolor": "rgb(237,237,237)",
              "ticklen": 6,
              "ticks": "inside"
             }
            },
            "type": "scatter3d"
           }
          ],
          "scattercarpet": [
           {
            "marker": {
             "colorbar": {
              "outlinewidth": 0,
              "tickcolor": "rgb(237,237,237)",
              "ticklen": 6,
              "ticks": "inside"
             }
            },
            "type": "scattercarpet"
           }
          ],
          "scattergeo": [
           {
            "marker": {
             "colorbar": {
              "outlinewidth": 0,
              "tickcolor": "rgb(237,237,237)",
              "ticklen": 6,
              "ticks": "inside"
             }
            },
            "type": "scattergeo"
           }
          ],
          "scattergl": [
           {
            "marker": {
             "colorbar": {
              "outlinewidth": 0,
              "tickcolor": "rgb(237,237,237)",
              "ticklen": 6,
              "ticks": "inside"
             }
            },
            "type": "scattergl"
           }
          ],
          "scattermapbox": [
           {
            "marker": {
             "colorbar": {
              "outlinewidth": 0,
              "tickcolor": "rgb(237,237,237)",
              "ticklen": 6,
              "ticks": "inside"
             }
            },
            "type": "scattermapbox"
           }
          ],
          "scatterpolar": [
           {
            "marker": {
             "colorbar": {
              "outlinewidth": 0,
              "tickcolor": "rgb(237,237,237)",
              "ticklen": 6,
              "ticks": "inside"
             }
            },
            "type": "scatterpolar"
           }
          ],
          "scatterpolargl": [
           {
            "marker": {
             "colorbar": {
              "outlinewidth": 0,
              "tickcolor": "rgb(237,237,237)",
              "ticklen": 6,
              "ticks": "inside"
             }
            },
            "type": "scatterpolargl"
           }
          ],
          "scatterternary": [
           {
            "marker": {
             "colorbar": {
              "outlinewidth": 0,
              "tickcolor": "rgb(237,237,237)",
              "ticklen": 6,
              "ticks": "inside"
             }
            },
            "type": "scatterternary"
           }
          ],
          "surface": [
           {
            "colorbar": {
             "outlinewidth": 0,
             "tickcolor": "rgb(237,237,237)",
             "ticklen": 6,
             "ticks": "inside"
            },
            "colorscale": [
             [
              0,
              "rgb(20,44,66)"
             ],
             [
              1,
              "rgb(90,179,244)"
             ]
            ],
            "type": "surface"
           }
          ],
          "table": [
           {
            "cells": {
             "fill": {
              "color": "rgb(237,237,237)"
             },
             "line": {
              "color": "white"
             }
            },
            "header": {
             "fill": {
              "color": "rgb(217,217,217)"
             },
             "line": {
              "color": "white"
             }
            },
            "type": "table"
           }
          ]
         },
         "layout": {
          "annotationdefaults": {
           "arrowhead": 0,
           "arrowwidth": 1
          },
          "autotypenumbers": "strict",
          "coloraxis": {
           "colorbar": {
            "outlinewidth": 0,
            "tickcolor": "rgb(237,237,237)",
            "ticklen": 6,
            "ticks": "inside"
           }
          },
          "colorscale": {
           "sequential": [
            [
             0,
             "rgb(20,44,66)"
            ],
            [
             1,
             "rgb(90,179,244)"
            ]
           ],
           "sequentialminus": [
            [
             0,
             "rgb(20,44,66)"
            ],
            [
             1,
             "rgb(90,179,244)"
            ]
           ]
          },
          "colorway": [
           "#F8766D",
           "#A3A500",
           "#00BF7D",
           "#00B0F6",
           "#E76BF3"
          ],
          "font": {
           "color": "rgb(51,51,51)"
          },
          "geo": {
           "bgcolor": "white",
           "lakecolor": "white",
           "landcolor": "rgb(237,237,237)",
           "showlakes": true,
           "showland": true,
           "subunitcolor": "white"
          },
          "hoverlabel": {
           "align": "left"
          },
          "hovermode": "closest",
          "paper_bgcolor": "white",
          "plot_bgcolor": "rgb(237,237,237)",
          "polar": {
           "angularaxis": {
            "gridcolor": "white",
            "linecolor": "white",
            "showgrid": true,
            "tickcolor": "rgb(51,51,51)",
            "ticks": "outside"
           },
           "bgcolor": "rgb(237,237,237)",
           "radialaxis": {
            "gridcolor": "white",
            "linecolor": "white",
            "showgrid": true,
            "tickcolor": "rgb(51,51,51)",
            "ticks": "outside"
           }
          },
          "scene": {
           "xaxis": {
            "backgroundcolor": "rgb(237,237,237)",
            "gridcolor": "white",
            "gridwidth": 2,
            "linecolor": "white",
            "showbackground": true,
            "showgrid": true,
            "tickcolor": "rgb(51,51,51)",
            "ticks": "outside",
            "zerolinecolor": "white"
           },
           "yaxis": {
            "backgroundcolor": "rgb(237,237,237)",
            "gridcolor": "white",
            "gridwidth": 2,
            "linecolor": "white",
            "showbackground": true,
            "showgrid": true,
            "tickcolor": "rgb(51,51,51)",
            "ticks": "outside",
            "zerolinecolor": "white"
           },
           "zaxis": {
            "backgroundcolor": "rgb(237,237,237)",
            "gridcolor": "white",
            "gridwidth": 2,
            "linecolor": "white",
            "showbackground": true,
            "showgrid": true,
            "tickcolor": "rgb(51,51,51)",
            "ticks": "outside",
            "zerolinecolor": "white"
           }
          },
          "shapedefaults": {
           "fillcolor": "black",
           "line": {
            "width": 0
           },
           "opacity": 0.3
          },
          "ternary": {
           "aaxis": {
            "gridcolor": "white",
            "linecolor": "white",
            "showgrid": true,
            "tickcolor": "rgb(51,51,51)",
            "ticks": "outside"
           },
           "baxis": {
            "gridcolor": "white",
            "linecolor": "white",
            "showgrid": true,
            "tickcolor": "rgb(51,51,51)",
            "ticks": "outside"
           },
           "bgcolor": "rgb(237,237,237)",
           "caxis": {
            "gridcolor": "white",
            "linecolor": "white",
            "showgrid": true,
            "tickcolor": "rgb(51,51,51)",
            "ticks": "outside"
           }
          },
          "xaxis": {
           "automargin": true,
           "gridcolor": "white",
           "linecolor": "white",
           "showgrid": true,
           "tickcolor": "rgb(51,51,51)",
           "ticks": "outside",
           "title": {
            "standoff": 15
           },
           "zerolinecolor": "white"
          },
          "yaxis": {
           "automargin": true,
           "gridcolor": "white",
           "linecolor": "white",
           "showgrid": true,
           "tickcolor": "rgb(51,51,51)",
           "ticks": "outside",
           "title": {
            "standoff": 15
           },
           "zerolinecolor": "white"
          }
         }
        },
        "title": {
         "text": "<b>Cryptonews Whales-Related Sentiment - August 2023</b>"
        },
        "xaxis": {
         "anchor": "y",
         "domain": [
          0,
          1
         ],
         "title": {
          "text": "Date"
         }
        },
        "yaxis": {
         "anchor": "x",
         "domain": [
          0,
          1
         ],
         "title": {
          "text": "Count per Sentiment"
         }
        }
       }
      }
     },
     "metadata": {},
     "output_type": "display_data"
    }
   ],
   "source": [
    "fig = px.bar(\n",
    "    whales_sent, \n",
    "    x='all_utc_datetime', \n",
    "    y='count', \n",
    "    # text=[f'{c}%' for c in sents['count']],\n",
    "    color='sentiment', \n",
    "    color_discrete_map={'Positive': '#77dd77',\n",
    "                        'Negative': '#ff6961',\n",
    "                        'Neutral': '#ffb347'\n",
    "                        }\n",
    "    )\n",
    "\n",
    "fig.update_layout(\n",
    "     title=\"<b>Cryptonews Whales-Related Sentiment - August 2023</b>\",\n",
    "     yaxis_title=\"Count per Sentiment\",\n",
    "     xaxis_title=\"Date\",\n",
    "     template=\"ggplot2\"\n",
    "     )\n",
    "\n",
    "# fig.update_xaxes(type='category')\n",
    "fig.add_vline(x='2023-08-17 21:30:00',line_width=2, line_dash=\"dash\", line_color=\"black\")\n",
    "fig.show()"
   ]
  },
  {
   "cell_type": "markdown",
   "metadata": {},
   "source": [
    "Still inconclusive."
   ]
  },
  {
   "cell_type": "code",
   "execution_count": 48,
   "metadata": {},
   "outputs": [],
   "source": [
    "news_2 = all_date_news.copy()\n",
    "\n",
    "condlist = [\n",
    "    news_2['sentiment']==\"Positive\",\n",
    "    news_2['sentiment']==\"Neutral\",\n",
    "    news_2['sentiment']==\"Negative\"\n",
    "]\n",
    "\n",
    "choices = [1, 0, -1]\n",
    "\n",
    "news_2['polarity'] = np.select(condlist,choices)\n",
    "\n",
    "news_2.rank_score = pd.to_numeric(news_2.rank_score)\n",
    "\n",
    "wm = lambda x: np.average(x, weights=news_2.loc[x.index, 'rank_score'])\n",
    "\n",
    "weighted = news_2.groupby(['all_utc_datetime']).agg(weighted_avg=('polarity', wm))"
   ]
  },
  {
   "cell_type": "code",
   "execution_count": 72,
   "metadata": {},
   "outputs": [],
   "source": [
    "# Create a column with the cumulative sum of the weighted average starting by 100\n",
    "weighted['weighted_avg_index'] = weighted['weighted_avg'].cumsum() + 100"
   ]
  },
  {
   "cell_type": "code",
   "execution_count": 73,
   "metadata": {},
   "outputs": [
    {
     "data": {
      "application/vnd.plotly.v1+json": {
       "config": {
        "plotlyServerURL": "https://plot.ly"
       },
       "data": [
        {
         "hovertemplate": "all_utc_datetime=%{x}<br>weighted_avg=%{y}<extra></extra>",
         "legendgroup": "",
         "line": {
          "color": "#636efa",
          "dash": "solid"
         },
         "marker": {
          "symbol": "circle"
         },
         "mode": "lines+markers",
         "name": "",
         "orientation": "v",
         "showlegend": false,
         "type": "scatter",
         "x": [
          "2023-08-16T00:15:00",
          "2023-08-16T00:30:00",
          "2023-08-16T00:45:00",
          "2023-08-16T01:00:00",
          "2023-08-16T01:15:00",
          "2023-08-16T01:30:00",
          "2023-08-16T01:45:00",
          "2023-08-16T02:00:00",
          "2023-08-16T02:15:00",
          "2023-08-16T02:30:00",
          "2023-08-16T02:45:00",
          "2023-08-16T03:00:00",
          "2023-08-16T03:15:00",
          "2023-08-16T03:30:00",
          "2023-08-16T03:45:00",
          "2023-08-16T04:00:00",
          "2023-08-16T04:15:00",
          "2023-08-16T04:30:00",
          "2023-08-16T04:45:00",
          "2023-08-16T05:00:00",
          "2023-08-16T05:15:00",
          "2023-08-16T05:30:00",
          "2023-08-16T05:45:00",
          "2023-08-16T06:00:00",
          "2023-08-16T06:15:00",
          "2023-08-16T06:30:00",
          "2023-08-16T06:45:00",
          "2023-08-16T07:00:00",
          "2023-08-16T07:15:00",
          "2023-08-16T07:30:00",
          "2023-08-16T07:45:00",
          "2023-08-16T08:00:00",
          "2023-08-16T08:15:00",
          "2023-08-16T08:30:00",
          "2023-08-16T08:45:00",
          "2023-08-16T09:00:00",
          "2023-08-16T09:15:00",
          "2023-08-16T09:30:00",
          "2023-08-16T09:45:00",
          "2023-08-16T10:00:00",
          "2023-08-16T10:15:00",
          "2023-08-16T10:30:00",
          "2023-08-16T10:45:00",
          "2023-08-16T11:00:00",
          "2023-08-16T11:15:00",
          "2023-08-16T11:30:00",
          "2023-08-16T11:45:00",
          "2023-08-16T12:00:00",
          "2023-08-16T12:15:00",
          "2023-08-16T12:30:00",
          "2023-08-16T12:45:00",
          "2023-08-16T13:00:00",
          "2023-08-16T13:15:00",
          "2023-08-16T13:30:00",
          "2023-08-16T13:45:00",
          "2023-08-16T14:00:00",
          "2023-08-16T14:15:00",
          "2023-08-16T14:30:00",
          "2023-08-16T14:45:00",
          "2023-08-16T15:00:00",
          "2023-08-16T15:15:00",
          "2023-08-16T15:30:00",
          "2023-08-16T15:45:00",
          "2023-08-16T16:00:00",
          "2023-08-16T16:15:00",
          "2023-08-16T16:30:00",
          "2023-08-16T16:45:00",
          "2023-08-16T17:00:00",
          "2023-08-16T17:15:00",
          "2023-08-16T17:30:00",
          "2023-08-16T17:45:00",
          "2023-08-16T18:00:00",
          "2023-08-16T18:15:00",
          "2023-08-16T18:30:00",
          "2023-08-16T18:45:00",
          "2023-08-16T19:00:00",
          "2023-08-16T19:15:00",
          "2023-08-16T19:30:00",
          "2023-08-16T19:45:00",
          "2023-08-16T20:00:00",
          "2023-08-16T20:15:00",
          "2023-08-16T20:30:00",
          "2023-08-16T20:45:00",
          "2023-08-16T21:00:00",
          "2023-08-16T21:15:00",
          "2023-08-16T21:30:00",
          "2023-08-16T21:45:00",
          "2023-08-16T22:00:00",
          "2023-08-16T22:15:00",
          "2023-08-16T22:30:00",
          "2023-08-16T22:45:00",
          "2023-08-16T23:00:00",
          "2023-08-16T23:15:00",
          "2023-08-16T23:30:00",
          "2023-08-16T23:45:00",
          "2023-08-17T00:00:00",
          "2023-08-17T00:15:00",
          "2023-08-17T00:30:00",
          "2023-08-17T00:45:00",
          "2023-08-17T01:00:00",
          "2023-08-17T01:15:00",
          "2023-08-17T01:30:00",
          "2023-08-17T01:45:00",
          "2023-08-17T02:00:00",
          "2023-08-17T02:15:00",
          "2023-08-17T02:30:00",
          "2023-08-17T02:45:00",
          "2023-08-17T03:00:00",
          "2023-08-17T03:15:00",
          "2023-08-17T03:30:00",
          "2023-08-17T03:45:00",
          "2023-08-17T04:00:00",
          "2023-08-17T04:15:00",
          "2023-08-17T04:30:00",
          "2023-08-17T04:45:00",
          "2023-08-17T05:00:00",
          "2023-08-17T05:15:00",
          "2023-08-17T05:30:00",
          "2023-08-17T05:45:00",
          "2023-08-17T06:00:00",
          "2023-08-17T06:15:00",
          "2023-08-17T06:30:00",
          "2023-08-17T06:45:00",
          "2023-08-17T07:00:00",
          "2023-08-17T07:15:00",
          "2023-08-17T07:30:00",
          "2023-08-17T07:45:00",
          "2023-08-17T08:00:00",
          "2023-08-17T08:15:00",
          "2023-08-17T08:30:00",
          "2023-08-17T08:45:00",
          "2023-08-17T09:00:00",
          "2023-08-17T09:15:00",
          "2023-08-17T09:30:00",
          "2023-08-17T09:45:00",
          "2023-08-17T10:00:00",
          "2023-08-17T10:15:00",
          "2023-08-17T10:30:00",
          "2023-08-17T10:45:00",
          "2023-08-17T11:00:00",
          "2023-08-17T11:15:00",
          "2023-08-17T11:30:00",
          "2023-08-17T11:45:00",
          "2023-08-17T12:00:00",
          "2023-08-17T12:15:00",
          "2023-08-17T12:30:00",
          "2023-08-17T12:45:00",
          "2023-08-17T13:00:00",
          "2023-08-17T13:15:00",
          "2023-08-17T13:30:00",
          "2023-08-17T13:45:00",
          "2023-08-17T14:00:00",
          "2023-08-17T14:15:00",
          "2023-08-17T14:30:00",
          "2023-08-17T14:45:00",
          "2023-08-17T15:00:00",
          "2023-08-17T15:15:00",
          "2023-08-17T15:30:00",
          "2023-08-17T15:45:00",
          "2023-08-17T16:00:00",
          "2023-08-17T16:15:00",
          "2023-08-17T16:30:00",
          "2023-08-17T16:45:00",
          "2023-08-17T17:00:00",
          "2023-08-17T17:15:00",
          "2023-08-17T17:30:00",
          "2023-08-17T17:45:00",
          "2023-08-17T18:00:00",
          "2023-08-17T18:15:00",
          "2023-08-17T18:30:00",
          "2023-08-17T18:45:00",
          "2023-08-17T19:00:00",
          "2023-08-17T19:15:00",
          "2023-08-17T19:30:00",
          "2023-08-17T19:45:00",
          "2023-08-17T20:00:00",
          "2023-08-17T20:15:00",
          "2023-08-17T20:30:00",
          "2023-08-17T20:45:00",
          "2023-08-17T21:00:00",
          "2023-08-17T21:15:00",
          "2023-08-17T21:30:00",
          "2023-08-17T21:45:00",
          "2023-08-17T22:00:00",
          "2023-08-17T22:15:00",
          "2023-08-17T22:30:00",
          "2023-08-17T22:45:00",
          "2023-08-17T23:00:00",
          "2023-08-17T23:15:00",
          "2023-08-17T23:30:00",
          "2023-08-17T23:45:00",
          "2023-08-18T00:00:00"
         ],
         "xaxis": "x",
         "y": [
          -1,
          -1,
          -1,
          -1,
          -1,
          -1,
          0,
          1,
          1,
          1,
          1,
          1,
          1,
          -1,
          -1,
          -1,
          -1,
          0,
          1,
          1,
          1,
          1,
          -0.4608208955223881,
          0,
          0,
          0,
          0,
          1,
          1,
          1,
          1,
          0.5554528650646949,
          1,
          1,
          1,
          -1,
          -1,
          -0.7051830718021874,
          -1,
          -1,
          1,
          0.5169491525423728,
          1,
          1,
          1,
          1,
          -0.4796934865900383,
          1,
          0.654434250764526,
          1,
          0,
          0,
          1,
          1,
          1,
          0,
          -0.31095406360424027,
          1,
          -1,
          -1,
          0,
          0,
          1,
          -0.3982174688057041,
          0.30129390018484287,
          0,
          0,
          0,
          -1,
          0,
          0,
          0,
          0.37275985663082434,
          1,
          0,
          0,
          -1,
          0,
          1,
          1,
          1,
          0,
          0.41927710843373484,
          -1,
          1,
          1,
          1,
          1,
          1,
          1,
          1,
          0.4916839916839917,
          1,
          1,
          0.7379421221864951,
          0,
          1,
          -1,
          -1,
          0,
          1,
          1,
          -0.3569651741293533,
          1,
          1,
          1,
          1,
          -0.043715846994535554,
          1,
          -1,
          -1,
          -1,
          -1,
          -1,
          -1,
          -1,
          -1,
          -1,
          -1,
          -0.028182701652089415,
          -1,
          1,
          -1,
          0.48747913188647746,
          -1,
          -1,
          -1,
          -1,
          -1,
          -0.2538552787663108,
          0.015115354017501949,
          -0.47465034965034963,
          0,
          1,
          0.34055224688684355,
          -1,
          -1,
          -1,
          -1,
          -1,
          0.4995083579154376,
          0,
          1,
          1,
          -0.05405405405405402,
          1,
          -1,
          -1,
          0.02840352595494613,
          1,
          1,
          -0.06622148024485255,
          -0.03067484662576684,
          0.033544877606527655,
          -0.4991721854304636,
          0,
          -1,
          -1,
          0.45261293179805145,
          -1,
          -1,
          -1,
          -0.001692047377326529,
          -1,
          0.41722086104305217,
          0,
          1,
          1,
          -1,
          0,
          0.062015503875969005,
          -0.4645476772616137,
          -1,
          -1,
          -1,
          0.41574279379157436,
          -1,
          -1,
          -1,
          1,
          -1,
          -1,
          0.010703363914373131,
          -1,
          -0.5971456373662017,
          -1,
          -1,
          -1,
          -1,
          -1,
          -0.052550231839258096,
          1
         ],
         "yaxis": "y"
        }
       ],
       "layout": {
        "legend": {
         "tracegroupgap": 0
        },
        "margin": {
         "t": 60
        },
        "shapes": [
         {
          "line": {
           "color": "black",
           "dash": "dash",
           "width": 2
          },
          "type": "line",
          "x0": "2023-08-17 21:30:00",
          "x1": "2023-08-17 21:30:00",
          "xref": "x",
          "y0": 0,
          "y1": 1,
          "yref": "y domain"
         }
        ],
        "template": {
         "data": {
          "bar": [
           {
            "error_x": {
             "color": "rgb(51,51,51)"
            },
            "error_y": {
             "color": "rgb(51,51,51)"
            },
            "marker": {
             "line": {
              "color": "rgb(237,237,237)",
              "width": 0.5
             },
             "pattern": {
              "fillmode": "overlay",
              "size": 10,
              "solidity": 0.2
             }
            },
            "type": "bar"
           }
          ],
          "barpolar": [
           {
            "marker": {
             "line": {
              "color": "rgb(237,237,237)",
              "width": 0.5
             },
             "pattern": {
              "fillmode": "overlay",
              "size": 10,
              "solidity": 0.2
             }
            },
            "type": "barpolar"
           }
          ],
          "carpet": [
           {
            "aaxis": {
             "endlinecolor": "rgb(51,51,51)",
             "gridcolor": "white",
             "linecolor": "white",
             "minorgridcolor": "white",
             "startlinecolor": "rgb(51,51,51)"
            },
            "baxis": {
             "endlinecolor": "rgb(51,51,51)",
             "gridcolor": "white",
             "linecolor": "white",
             "minorgridcolor": "white",
             "startlinecolor": "rgb(51,51,51)"
            },
            "type": "carpet"
           }
          ],
          "choropleth": [
           {
            "colorbar": {
             "outlinewidth": 0,
             "tickcolor": "rgb(237,237,237)",
             "ticklen": 6,
             "ticks": "inside"
            },
            "type": "choropleth"
           }
          ],
          "contour": [
           {
            "colorbar": {
             "outlinewidth": 0,
             "tickcolor": "rgb(237,237,237)",
             "ticklen": 6,
             "ticks": "inside"
            },
            "colorscale": [
             [
              0,
              "rgb(20,44,66)"
             ],
             [
              1,
              "rgb(90,179,244)"
             ]
            ],
            "type": "contour"
           }
          ],
          "contourcarpet": [
           {
            "colorbar": {
             "outlinewidth": 0,
             "tickcolor": "rgb(237,237,237)",
             "ticklen": 6,
             "ticks": "inside"
            },
            "type": "contourcarpet"
           }
          ],
          "heatmap": [
           {
            "colorbar": {
             "outlinewidth": 0,
             "tickcolor": "rgb(237,237,237)",
             "ticklen": 6,
             "ticks": "inside"
            },
            "colorscale": [
             [
              0,
              "rgb(20,44,66)"
             ],
             [
              1,
              "rgb(90,179,244)"
             ]
            ],
            "type": "heatmap"
           }
          ],
          "heatmapgl": [
           {
            "colorbar": {
             "outlinewidth": 0,
             "tickcolor": "rgb(237,237,237)",
             "ticklen": 6,
             "ticks": "inside"
            },
            "colorscale": [
             [
              0,
              "rgb(20,44,66)"
             ],
             [
              1,
              "rgb(90,179,244)"
             ]
            ],
            "type": "heatmapgl"
           }
          ],
          "histogram": [
           {
            "marker": {
             "pattern": {
              "fillmode": "overlay",
              "size": 10,
              "solidity": 0.2
             }
            },
            "type": "histogram"
           }
          ],
          "histogram2d": [
           {
            "colorbar": {
             "outlinewidth": 0,
             "tickcolor": "rgb(237,237,237)",
             "ticklen": 6,
             "ticks": "inside"
            },
            "colorscale": [
             [
              0,
              "rgb(20,44,66)"
             ],
             [
              1,
              "rgb(90,179,244)"
             ]
            ],
            "type": "histogram2d"
           }
          ],
          "histogram2dcontour": [
           {
            "colorbar": {
             "outlinewidth": 0,
             "tickcolor": "rgb(237,237,237)",
             "ticklen": 6,
             "ticks": "inside"
            },
            "colorscale": [
             [
              0,
              "rgb(20,44,66)"
             ],
             [
              1,
              "rgb(90,179,244)"
             ]
            ],
            "type": "histogram2dcontour"
           }
          ],
          "mesh3d": [
           {
            "colorbar": {
             "outlinewidth": 0,
             "tickcolor": "rgb(237,237,237)",
             "ticklen": 6,
             "ticks": "inside"
            },
            "type": "mesh3d"
           }
          ],
          "parcoords": [
           {
            "line": {
             "colorbar": {
              "outlinewidth": 0,
              "tickcolor": "rgb(237,237,237)",
              "ticklen": 6,
              "ticks": "inside"
             }
            },
            "type": "parcoords"
           }
          ],
          "pie": [
           {
            "automargin": true,
            "type": "pie"
           }
          ],
          "scatter": [
           {
            "fillpattern": {
             "fillmode": "overlay",
             "size": 10,
             "solidity": 0.2
            },
            "type": "scatter"
           }
          ],
          "scatter3d": [
           {
            "line": {
             "colorbar": {
              "outlinewidth": 0,
              "tickcolor": "rgb(237,237,237)",
              "ticklen": 6,
              "ticks": "inside"
             }
            },
            "marker": {
             "colorbar": {
              "outlinewidth": 0,
              "tickcolor": "rgb(237,237,237)",
              "ticklen": 6,
              "ticks": "inside"
             }
            },
            "type": "scatter3d"
           }
          ],
          "scattercarpet": [
           {
            "marker": {
             "colorbar": {
              "outlinewidth": 0,
              "tickcolor": "rgb(237,237,237)",
              "ticklen": 6,
              "ticks": "inside"
             }
            },
            "type": "scattercarpet"
           }
          ],
          "scattergeo": [
           {
            "marker": {
             "colorbar": {
              "outlinewidth": 0,
              "tickcolor": "rgb(237,237,237)",
              "ticklen": 6,
              "ticks": "inside"
             }
            },
            "type": "scattergeo"
           }
          ],
          "scattergl": [
           {
            "marker": {
             "colorbar": {
              "outlinewidth": 0,
              "tickcolor": "rgb(237,237,237)",
              "ticklen": 6,
              "ticks": "inside"
             }
            },
            "type": "scattergl"
           }
          ],
          "scattermapbox": [
           {
            "marker": {
             "colorbar": {
              "outlinewidth": 0,
              "tickcolor": "rgb(237,237,237)",
              "ticklen": 6,
              "ticks": "inside"
             }
            },
            "type": "scattermapbox"
           }
          ],
          "scatterpolar": [
           {
            "marker": {
             "colorbar": {
              "outlinewidth": 0,
              "tickcolor": "rgb(237,237,237)",
              "ticklen": 6,
              "ticks": "inside"
             }
            },
            "type": "scatterpolar"
           }
          ],
          "scatterpolargl": [
           {
            "marker": {
             "colorbar": {
              "outlinewidth": 0,
              "tickcolor": "rgb(237,237,237)",
              "ticklen": 6,
              "ticks": "inside"
             }
            },
            "type": "scatterpolargl"
           }
          ],
          "scatterternary": [
           {
            "marker": {
             "colorbar": {
              "outlinewidth": 0,
              "tickcolor": "rgb(237,237,237)",
              "ticklen": 6,
              "ticks": "inside"
             }
            },
            "type": "scatterternary"
           }
          ],
          "surface": [
           {
            "colorbar": {
             "outlinewidth": 0,
             "tickcolor": "rgb(237,237,237)",
             "ticklen": 6,
             "ticks": "inside"
            },
            "colorscale": [
             [
              0,
              "rgb(20,44,66)"
             ],
             [
              1,
              "rgb(90,179,244)"
             ]
            ],
            "type": "surface"
           }
          ],
          "table": [
           {
            "cells": {
             "fill": {
              "color": "rgb(237,237,237)"
             },
             "line": {
              "color": "white"
             }
            },
            "header": {
             "fill": {
              "color": "rgb(217,217,217)"
             },
             "line": {
              "color": "white"
             }
            },
            "type": "table"
           }
          ]
         },
         "layout": {
          "annotationdefaults": {
           "arrowhead": 0,
           "arrowwidth": 1
          },
          "autotypenumbers": "strict",
          "coloraxis": {
           "colorbar": {
            "outlinewidth": 0,
            "tickcolor": "rgb(237,237,237)",
            "ticklen": 6,
            "ticks": "inside"
           }
          },
          "colorscale": {
           "sequential": [
            [
             0,
             "rgb(20,44,66)"
            ],
            [
             1,
             "rgb(90,179,244)"
            ]
           ],
           "sequentialminus": [
            [
             0,
             "rgb(20,44,66)"
            ],
            [
             1,
             "rgb(90,179,244)"
            ]
           ]
          },
          "colorway": [
           "#F8766D",
           "#A3A500",
           "#00BF7D",
           "#00B0F6",
           "#E76BF3"
          ],
          "font": {
           "color": "rgb(51,51,51)"
          },
          "geo": {
           "bgcolor": "white",
           "lakecolor": "white",
           "landcolor": "rgb(237,237,237)",
           "showlakes": true,
           "showland": true,
           "subunitcolor": "white"
          },
          "hoverlabel": {
           "align": "left"
          },
          "hovermode": "closest",
          "paper_bgcolor": "white",
          "plot_bgcolor": "rgb(237,237,237)",
          "polar": {
           "angularaxis": {
            "gridcolor": "white",
            "linecolor": "white",
            "showgrid": true,
            "tickcolor": "rgb(51,51,51)",
            "ticks": "outside"
           },
           "bgcolor": "rgb(237,237,237)",
           "radialaxis": {
            "gridcolor": "white",
            "linecolor": "white",
            "showgrid": true,
            "tickcolor": "rgb(51,51,51)",
            "ticks": "outside"
           }
          },
          "scene": {
           "xaxis": {
            "backgroundcolor": "rgb(237,237,237)",
            "gridcolor": "white",
            "gridwidth": 2,
            "linecolor": "white",
            "showbackground": true,
            "showgrid": true,
            "tickcolor": "rgb(51,51,51)",
            "ticks": "outside",
            "zerolinecolor": "white"
           },
           "yaxis": {
            "backgroundcolor": "rgb(237,237,237)",
            "gridcolor": "white",
            "gridwidth": 2,
            "linecolor": "white",
            "showbackground": true,
            "showgrid": true,
            "tickcolor": "rgb(51,51,51)",
            "ticks": "outside",
            "zerolinecolor": "white"
           },
           "zaxis": {
            "backgroundcolor": "rgb(237,237,237)",
            "gridcolor": "white",
            "gridwidth": 2,
            "linecolor": "white",
            "showbackground": true,
            "showgrid": true,
            "tickcolor": "rgb(51,51,51)",
            "ticks": "outside",
            "zerolinecolor": "white"
           }
          },
          "shapedefaults": {
           "fillcolor": "black",
           "line": {
            "width": 0
           },
           "opacity": 0.3
          },
          "ternary": {
           "aaxis": {
            "gridcolor": "white",
            "linecolor": "white",
            "showgrid": true,
            "tickcolor": "rgb(51,51,51)",
            "ticks": "outside"
           },
           "baxis": {
            "gridcolor": "white",
            "linecolor": "white",
            "showgrid": true,
            "tickcolor": "rgb(51,51,51)",
            "ticks": "outside"
           },
           "bgcolor": "rgb(237,237,237)",
           "caxis": {
            "gridcolor": "white",
            "linecolor": "white",
            "showgrid": true,
            "tickcolor": "rgb(51,51,51)",
            "ticks": "outside"
           }
          },
          "xaxis": {
           "automargin": true,
           "gridcolor": "white",
           "linecolor": "white",
           "showgrid": true,
           "tickcolor": "rgb(51,51,51)",
           "ticks": "outside",
           "title": {
            "standoff": 15
           },
           "zerolinecolor": "white"
          },
          "yaxis": {
           "automargin": true,
           "gridcolor": "white",
           "linecolor": "white",
           "showgrid": true,
           "tickcolor": "rgb(51,51,51)",
           "ticks": "outside",
           "title": {
            "standoff": 15
           },
           "zerolinecolor": "white"
          }
         }
        },
        "title": {
         "text": "<b>Cryptonews Weighted Sentiment - August 2023</b>"
        },
        "xaxis": {
         "anchor": "y",
         "domain": [
          0,
          1
         ],
         "title": {
          "text": "Date"
         }
        },
        "yaxis": {
         "anchor": "x",
         "domain": [
          0,
          1
         ],
         "title": {
          "text": "Weighted Sentiment"
         }
        }
       }
      }
     },
     "metadata": {},
     "output_type": "display_data"
    }
   ],
   "source": [
    "fig = px.line(\n",
    "    weighted.reset_index()[1:],\n",
    "    x='all_utc_datetime',\n",
    "    y='weighted_avg',\n",
    "    markers=True\n",
    ")\n",
    "\n",
    "fig.update_layout(\n",
    "     title=\"<b>Cryptonews Weighted Sentiment - August 2023</b>\",\n",
    "     yaxis_title=\"Weighted Sentiment\",\n",
    "     xaxis_title=\"Date\",\n",
    "     template=\"ggplot2\"\n",
    "     )\n",
    "\n",
    "# fig.update_xaxes(type='category')\n",
    "fig.add_vline(x='2023-08-17 21:30:00',line_width=2, line_dash=\"dash\", line_color=\"black\")\n",
    "fig.show()"
   ]
  },
  {
   "cell_type": "code",
   "execution_count": 74,
   "metadata": {},
   "outputs": [
    {
     "data": {
      "application/vnd.plotly.v1+json": {
       "config": {
        "plotlyServerURL": "https://plot.ly"
       },
       "data": [
        {
         "hovertemplate": "all_utc_datetime=%{x}<br>weighted_avg_index=%{y}<extra></extra>",
         "legendgroup": "",
         "line": {
          "color": "#636efa",
          "dash": "solid"
         },
         "marker": {
          "symbol": "circle"
         },
         "mode": "lines+markers",
         "name": "",
         "orientation": "v",
         "showlegend": false,
         "type": "scatter",
         "x": [
          "2023-08-16T00:15:00",
          "2023-08-16T00:30:00",
          "2023-08-16T00:45:00",
          "2023-08-16T01:00:00",
          "2023-08-16T01:15:00",
          "2023-08-16T01:30:00",
          "2023-08-16T01:45:00",
          "2023-08-16T02:00:00",
          "2023-08-16T02:15:00",
          "2023-08-16T02:30:00",
          "2023-08-16T02:45:00",
          "2023-08-16T03:00:00",
          "2023-08-16T03:15:00",
          "2023-08-16T03:30:00",
          "2023-08-16T03:45:00",
          "2023-08-16T04:00:00",
          "2023-08-16T04:15:00",
          "2023-08-16T04:30:00",
          "2023-08-16T04:45:00",
          "2023-08-16T05:00:00",
          "2023-08-16T05:15:00",
          "2023-08-16T05:30:00",
          "2023-08-16T05:45:00",
          "2023-08-16T06:00:00",
          "2023-08-16T06:15:00",
          "2023-08-16T06:30:00",
          "2023-08-16T06:45:00",
          "2023-08-16T07:00:00",
          "2023-08-16T07:15:00",
          "2023-08-16T07:30:00",
          "2023-08-16T07:45:00",
          "2023-08-16T08:00:00",
          "2023-08-16T08:15:00",
          "2023-08-16T08:30:00",
          "2023-08-16T08:45:00",
          "2023-08-16T09:00:00",
          "2023-08-16T09:15:00",
          "2023-08-16T09:30:00",
          "2023-08-16T09:45:00",
          "2023-08-16T10:00:00",
          "2023-08-16T10:15:00",
          "2023-08-16T10:30:00",
          "2023-08-16T10:45:00",
          "2023-08-16T11:00:00",
          "2023-08-16T11:15:00",
          "2023-08-16T11:30:00",
          "2023-08-16T11:45:00",
          "2023-08-16T12:00:00",
          "2023-08-16T12:15:00",
          "2023-08-16T12:30:00",
          "2023-08-16T12:45:00",
          "2023-08-16T13:00:00",
          "2023-08-16T13:15:00",
          "2023-08-16T13:30:00",
          "2023-08-16T13:45:00",
          "2023-08-16T14:00:00",
          "2023-08-16T14:15:00",
          "2023-08-16T14:30:00",
          "2023-08-16T14:45:00",
          "2023-08-16T15:00:00",
          "2023-08-16T15:15:00",
          "2023-08-16T15:30:00",
          "2023-08-16T15:45:00",
          "2023-08-16T16:00:00",
          "2023-08-16T16:15:00",
          "2023-08-16T16:30:00",
          "2023-08-16T16:45:00",
          "2023-08-16T17:00:00",
          "2023-08-16T17:15:00",
          "2023-08-16T17:30:00",
          "2023-08-16T17:45:00",
          "2023-08-16T18:00:00",
          "2023-08-16T18:15:00",
          "2023-08-16T18:30:00",
          "2023-08-16T18:45:00",
          "2023-08-16T19:00:00",
          "2023-08-16T19:15:00",
          "2023-08-16T19:30:00",
          "2023-08-16T19:45:00",
          "2023-08-16T20:00:00",
          "2023-08-16T20:15:00",
          "2023-08-16T20:30:00",
          "2023-08-16T20:45:00",
          "2023-08-16T21:00:00",
          "2023-08-16T21:15:00",
          "2023-08-16T21:30:00",
          "2023-08-16T21:45:00",
          "2023-08-16T22:00:00",
          "2023-08-16T22:15:00",
          "2023-08-16T22:30:00",
          "2023-08-16T22:45:00",
          "2023-08-16T23:00:00",
          "2023-08-16T23:15:00",
          "2023-08-16T23:30:00",
          "2023-08-16T23:45:00",
          "2023-08-17T00:00:00",
          "2023-08-17T00:15:00",
          "2023-08-17T00:30:00",
          "2023-08-17T00:45:00",
          "2023-08-17T01:00:00",
          "2023-08-17T01:15:00",
          "2023-08-17T01:30:00",
          "2023-08-17T01:45:00",
          "2023-08-17T02:00:00",
          "2023-08-17T02:15:00",
          "2023-08-17T02:30:00",
          "2023-08-17T02:45:00",
          "2023-08-17T03:00:00",
          "2023-08-17T03:15:00",
          "2023-08-17T03:30:00",
          "2023-08-17T03:45:00",
          "2023-08-17T04:00:00",
          "2023-08-17T04:15:00",
          "2023-08-17T04:30:00",
          "2023-08-17T04:45:00",
          "2023-08-17T05:00:00",
          "2023-08-17T05:15:00",
          "2023-08-17T05:30:00",
          "2023-08-17T05:45:00",
          "2023-08-17T06:00:00",
          "2023-08-17T06:15:00",
          "2023-08-17T06:30:00",
          "2023-08-17T06:45:00",
          "2023-08-17T07:00:00",
          "2023-08-17T07:15:00",
          "2023-08-17T07:30:00",
          "2023-08-17T07:45:00",
          "2023-08-17T08:00:00",
          "2023-08-17T08:15:00",
          "2023-08-17T08:30:00",
          "2023-08-17T08:45:00",
          "2023-08-17T09:00:00",
          "2023-08-17T09:15:00",
          "2023-08-17T09:30:00",
          "2023-08-17T09:45:00",
          "2023-08-17T10:00:00",
          "2023-08-17T10:15:00",
          "2023-08-17T10:30:00",
          "2023-08-17T10:45:00",
          "2023-08-17T11:00:00",
          "2023-08-17T11:15:00",
          "2023-08-17T11:30:00",
          "2023-08-17T11:45:00",
          "2023-08-17T12:00:00",
          "2023-08-17T12:15:00",
          "2023-08-17T12:30:00",
          "2023-08-17T12:45:00",
          "2023-08-17T13:00:00",
          "2023-08-17T13:15:00",
          "2023-08-17T13:30:00",
          "2023-08-17T13:45:00",
          "2023-08-17T14:00:00",
          "2023-08-17T14:15:00",
          "2023-08-17T14:30:00",
          "2023-08-17T14:45:00",
          "2023-08-17T15:00:00",
          "2023-08-17T15:15:00",
          "2023-08-17T15:30:00",
          "2023-08-17T15:45:00",
          "2023-08-17T16:00:00",
          "2023-08-17T16:15:00",
          "2023-08-17T16:30:00",
          "2023-08-17T16:45:00",
          "2023-08-17T17:00:00",
          "2023-08-17T17:15:00",
          "2023-08-17T17:30:00",
          "2023-08-17T17:45:00",
          "2023-08-17T18:00:00",
          "2023-08-17T18:15:00",
          "2023-08-17T18:30:00",
          "2023-08-17T18:45:00",
          "2023-08-17T19:00:00",
          "2023-08-17T19:15:00",
          "2023-08-17T19:30:00",
          "2023-08-17T19:45:00",
          "2023-08-17T20:00:00",
          "2023-08-17T20:15:00",
          "2023-08-17T20:30:00",
          "2023-08-17T20:45:00",
          "2023-08-17T21:00:00",
          "2023-08-17T21:15:00",
          "2023-08-17T21:30:00",
          "2023-08-17T21:45:00",
          "2023-08-17T22:00:00",
          "2023-08-17T22:15:00",
          "2023-08-17T22:30:00",
          "2023-08-17T22:45:00",
          "2023-08-17T23:00:00",
          "2023-08-17T23:15:00",
          "2023-08-17T23:30:00",
          "2023-08-17T23:45:00",
          "2023-08-18T00:00:00"
         ],
         "xaxis": "x",
         "y": [
          100,
          99,
          98,
          97,
          96,
          95,
          95,
          96,
          97,
          98,
          99,
          100,
          101,
          100,
          99,
          98,
          97,
          97,
          98,
          99,
          100,
          101,
          100.53917910447761,
          100.53917910447761,
          100.53917910447761,
          100.53917910447761,
          100.53917910447761,
          101.53917910447761,
          102.53917910447761,
          103.53917910447761,
          104.53917910447761,
          105.0946319695423,
          106.0946319695423,
          107.0946319695423,
          108.0946319695423,
          107.0946319695423,
          106.0946319695423,
          105.38944889774012,
          104.38944889774012,
          103.38944889774012,
          104.38944889774012,
          104.90639805028249,
          105.90639805028249,
          106.90639805028249,
          107.90639805028249,
          108.90639805028249,
          108.42670456369245,
          109.42670456369245,
          110.08113881445698,
          111.08113881445698,
          111.08113881445698,
          111.08113881445698,
          112.08113881445698,
          113.08113881445698,
          114.08113881445698,
          114.08113881445698,
          113.77018475085274,
          114.77018475085274,
          113.77018475085274,
          112.77018475085274,
          112.77018475085274,
          112.77018475085274,
          113.77018475085274,
          113.37196728204704,
          113.67326118223188,
          113.67326118223188,
          113.67326118223188,
          113.67326118223188,
          112.67326118223188,
          112.67326118223188,
          112.67326118223188,
          112.67326118223188,
          113.0460210388627,
          114.0460210388627,
          114.0460210388627,
          114.0460210388627,
          113.0460210388627,
          113.0460210388627,
          114.0460210388627,
          115.0460210388627,
          116.0460210388627,
          116.0460210388627,
          116.46529814729644,
          115.46529814729644,
          116.46529814729644,
          117.46529814729644,
          118.46529814729644,
          119.46529814729644,
          120.46529814729644,
          121.46529814729644,
          122.46529814729644,
          122.95698213898044,
          123.95698213898044,
          124.95698213898044,
          125.69492426116693,
          125.69492426116693,
          126.69492426116693,
          125.69492426116693,
          124.69492426116693,
          124.69492426116693,
          125.69492426116693,
          126.69492426116693,
          126.33795908703758,
          127.33795908703758,
          128.33795908703758,
          129.33795908703758,
          130.33795908703758,
          130.29424324004304,
          131.29424324004304,
          130.29424324004304,
          129.29424324004304,
          128.29424324004304,
          127.29424324004304,
          126.29424324004304,
          125.29424324004304,
          124.29424324004304,
          123.29424324004304,
          122.29424324004304,
          121.29424324004304,
          121.26606053839095,
          120.26606053839095,
          121.26606053839095,
          120.26606053839095,
          120.75353967027743,
          119.75353967027743,
          118.75353967027743,
          117.75353967027743,
          116.75353967027743,
          115.75353967027743,
          115.49968439151112,
          115.51479974552862,
          115.04014939587827,
          115.04014939587827,
          116.04014939587827,
          116.38070164276512,
          115.38070164276512,
          114.38070164276512,
          113.38070164276512,
          112.38070164276512,
          111.38070164276512,
          111.88021000068055,
          111.88021000068055,
          112.88021000068055,
          113.88021000068055,
          113.8261559466265,
          114.8261559466265,
          113.8261559466265,
          112.8261559466265,
          112.85455947258144,
          113.85455947258144,
          114.85455947258144,
          114.7883379923366,
          114.75766314571082,
          114.79120802331735,
          114.29203583788689,
          114.29203583788689,
          113.29203583788689,
          112.29203583788689,
          112.74464876968494,
          111.74464876968494,
          110.74464876968494,
          109.74464876968494,
          109.74295672230761,
          108.74295672230761,
          109.16017758335067,
          109.16017758335067,
          110.16017758335067,
          111.16017758335067,
          110.16017758335067,
          110.16017758335067,
          110.22219308722663,
          109.75764540996502,
          108.75764540996502,
          107.75764540996502,
          106.75764540996502,
          107.1733882037566,
          106.1733882037566,
          105.1733882037566,
          104.1733882037566,
          105.1733882037566,
          104.1733882037566,
          103.1733882037566,
          103.18409156767098,
          102.18409156767098,
          101.58694593030476,
          100.58694593030476,
          99.58694593030476,
          98.58694593030476,
          97.58694593030476,
          96.58694593030476,
          96.53439569846552,
          97.53439569846552
         ],
         "yaxis": "y"
        }
       ],
       "layout": {
        "legend": {
         "tracegroupgap": 0
        },
        "margin": {
         "t": 60
        },
        "shapes": [
         {
          "line": {
           "color": "black",
           "dash": "dash",
           "width": 2
          },
          "type": "line",
          "x0": "2023-08-17 21:30:00",
          "x1": "2023-08-17 21:30:00",
          "xref": "x",
          "y0": 0,
          "y1": 1,
          "yref": "y domain"
         }
        ],
        "template": {
         "data": {
          "bar": [
           {
            "error_x": {
             "color": "rgb(51,51,51)"
            },
            "error_y": {
             "color": "rgb(51,51,51)"
            },
            "marker": {
             "line": {
              "color": "rgb(237,237,237)",
              "width": 0.5
             },
             "pattern": {
              "fillmode": "overlay",
              "size": 10,
              "solidity": 0.2
             }
            },
            "type": "bar"
           }
          ],
          "barpolar": [
           {
            "marker": {
             "line": {
              "color": "rgb(237,237,237)",
              "width": 0.5
             },
             "pattern": {
              "fillmode": "overlay",
              "size": 10,
              "solidity": 0.2
             }
            },
            "type": "barpolar"
           }
          ],
          "carpet": [
           {
            "aaxis": {
             "endlinecolor": "rgb(51,51,51)",
             "gridcolor": "white",
             "linecolor": "white",
             "minorgridcolor": "white",
             "startlinecolor": "rgb(51,51,51)"
            },
            "baxis": {
             "endlinecolor": "rgb(51,51,51)",
             "gridcolor": "white",
             "linecolor": "white",
             "minorgridcolor": "white",
             "startlinecolor": "rgb(51,51,51)"
            },
            "type": "carpet"
           }
          ],
          "choropleth": [
           {
            "colorbar": {
             "outlinewidth": 0,
             "tickcolor": "rgb(237,237,237)",
             "ticklen": 6,
             "ticks": "inside"
            },
            "type": "choropleth"
           }
          ],
          "contour": [
           {
            "colorbar": {
             "outlinewidth": 0,
             "tickcolor": "rgb(237,237,237)",
             "ticklen": 6,
             "ticks": "inside"
            },
            "colorscale": [
             [
              0,
              "rgb(20,44,66)"
             ],
             [
              1,
              "rgb(90,179,244)"
             ]
            ],
            "type": "contour"
           }
          ],
          "contourcarpet": [
           {
            "colorbar": {
             "outlinewidth": 0,
             "tickcolor": "rgb(237,237,237)",
             "ticklen": 6,
             "ticks": "inside"
            },
            "type": "contourcarpet"
           }
          ],
          "heatmap": [
           {
            "colorbar": {
             "outlinewidth": 0,
             "tickcolor": "rgb(237,237,237)",
             "ticklen": 6,
             "ticks": "inside"
            },
            "colorscale": [
             [
              0,
              "rgb(20,44,66)"
             ],
             [
              1,
              "rgb(90,179,244)"
             ]
            ],
            "type": "heatmap"
           }
          ],
          "heatmapgl": [
           {
            "colorbar": {
             "outlinewidth": 0,
             "tickcolor": "rgb(237,237,237)",
             "ticklen": 6,
             "ticks": "inside"
            },
            "colorscale": [
             [
              0,
              "rgb(20,44,66)"
             ],
             [
              1,
              "rgb(90,179,244)"
             ]
            ],
            "type": "heatmapgl"
           }
          ],
          "histogram": [
           {
            "marker": {
             "pattern": {
              "fillmode": "overlay",
              "size": 10,
              "solidity": 0.2
             }
            },
            "type": "histogram"
           }
          ],
          "histogram2d": [
           {
            "colorbar": {
             "outlinewidth": 0,
             "tickcolor": "rgb(237,237,237)",
             "ticklen": 6,
             "ticks": "inside"
            },
            "colorscale": [
             [
              0,
              "rgb(20,44,66)"
             ],
             [
              1,
              "rgb(90,179,244)"
             ]
            ],
            "type": "histogram2d"
           }
          ],
          "histogram2dcontour": [
           {
            "colorbar": {
             "outlinewidth": 0,
             "tickcolor": "rgb(237,237,237)",
             "ticklen": 6,
             "ticks": "inside"
            },
            "colorscale": [
             [
              0,
              "rgb(20,44,66)"
             ],
             [
              1,
              "rgb(90,179,244)"
             ]
            ],
            "type": "histogram2dcontour"
           }
          ],
          "mesh3d": [
           {
            "colorbar": {
             "outlinewidth": 0,
             "tickcolor": "rgb(237,237,237)",
             "ticklen": 6,
             "ticks": "inside"
            },
            "type": "mesh3d"
           }
          ],
          "parcoords": [
           {
            "line": {
             "colorbar": {
              "outlinewidth": 0,
              "tickcolor": "rgb(237,237,237)",
              "ticklen": 6,
              "ticks": "inside"
             }
            },
            "type": "parcoords"
           }
          ],
          "pie": [
           {
            "automargin": true,
            "type": "pie"
           }
          ],
          "scatter": [
           {
            "fillpattern": {
             "fillmode": "overlay",
             "size": 10,
             "solidity": 0.2
            },
            "type": "scatter"
           }
          ],
          "scatter3d": [
           {
            "line": {
             "colorbar": {
              "outlinewidth": 0,
              "tickcolor": "rgb(237,237,237)",
              "ticklen": 6,
              "ticks": "inside"
             }
            },
            "marker": {
             "colorbar": {
              "outlinewidth": 0,
              "tickcolor": "rgb(237,237,237)",
              "ticklen": 6,
              "ticks": "inside"
             }
            },
            "type": "scatter3d"
           }
          ],
          "scattercarpet": [
           {
            "marker": {
             "colorbar": {
              "outlinewidth": 0,
              "tickcolor": "rgb(237,237,237)",
              "ticklen": 6,
              "ticks": "inside"
             }
            },
            "type": "scattercarpet"
           }
          ],
          "scattergeo": [
           {
            "marker": {
             "colorbar": {
              "outlinewidth": 0,
              "tickcolor": "rgb(237,237,237)",
              "ticklen": 6,
              "ticks": "inside"
             }
            },
            "type": "scattergeo"
           }
          ],
          "scattergl": [
           {
            "marker": {
             "colorbar": {
              "outlinewidth": 0,
              "tickcolor": "rgb(237,237,237)",
              "ticklen": 6,
              "ticks": "inside"
             }
            },
            "type": "scattergl"
           }
          ],
          "scattermapbox": [
           {
            "marker": {
             "colorbar": {
              "outlinewidth": 0,
              "tickcolor": "rgb(237,237,237)",
              "ticklen": 6,
              "ticks": "inside"
             }
            },
            "type": "scattermapbox"
           }
          ],
          "scatterpolar": [
           {
            "marker": {
             "colorbar": {
              "outlinewidth": 0,
              "tickcolor": "rgb(237,237,237)",
              "ticklen": 6,
              "ticks": "inside"
             }
            },
            "type": "scatterpolar"
           }
          ],
          "scatterpolargl": [
           {
            "marker": {
             "colorbar": {
              "outlinewidth": 0,
              "tickcolor": "rgb(237,237,237)",
              "ticklen": 6,
              "ticks": "inside"
             }
            },
            "type": "scatterpolargl"
           }
          ],
          "scatterternary": [
           {
            "marker": {
             "colorbar": {
              "outlinewidth": 0,
              "tickcolor": "rgb(237,237,237)",
              "ticklen": 6,
              "ticks": "inside"
             }
            },
            "type": "scatterternary"
           }
          ],
          "surface": [
           {
            "colorbar": {
             "outlinewidth": 0,
             "tickcolor": "rgb(237,237,237)",
             "ticklen": 6,
             "ticks": "inside"
            },
            "colorscale": [
             [
              0,
              "rgb(20,44,66)"
             ],
             [
              1,
              "rgb(90,179,244)"
             ]
            ],
            "type": "surface"
           }
          ],
          "table": [
           {
            "cells": {
             "fill": {
              "color": "rgb(237,237,237)"
             },
             "line": {
              "color": "white"
             }
            },
            "header": {
             "fill": {
              "color": "rgb(217,217,217)"
             },
             "line": {
              "color": "white"
             }
            },
            "type": "table"
           }
          ]
         },
         "layout": {
          "annotationdefaults": {
           "arrowhead": 0,
           "arrowwidth": 1
          },
          "autotypenumbers": "strict",
          "coloraxis": {
           "colorbar": {
            "outlinewidth": 0,
            "tickcolor": "rgb(237,237,237)",
            "ticklen": 6,
            "ticks": "inside"
           }
          },
          "colorscale": {
           "sequential": [
            [
             0,
             "rgb(20,44,66)"
            ],
            [
             1,
             "rgb(90,179,244)"
            ]
           ],
           "sequentialminus": [
            [
             0,
             "rgb(20,44,66)"
            ],
            [
             1,
             "rgb(90,179,244)"
            ]
           ]
          },
          "colorway": [
           "#F8766D",
           "#A3A500",
           "#00BF7D",
           "#00B0F6",
           "#E76BF3"
          ],
          "font": {
           "color": "rgb(51,51,51)"
          },
          "geo": {
           "bgcolor": "white",
           "lakecolor": "white",
           "landcolor": "rgb(237,237,237)",
           "showlakes": true,
           "showland": true,
           "subunitcolor": "white"
          },
          "hoverlabel": {
           "align": "left"
          },
          "hovermode": "closest",
          "paper_bgcolor": "white",
          "plot_bgcolor": "rgb(237,237,237)",
          "polar": {
           "angularaxis": {
            "gridcolor": "white",
            "linecolor": "white",
            "showgrid": true,
            "tickcolor": "rgb(51,51,51)",
            "ticks": "outside"
           },
           "bgcolor": "rgb(237,237,237)",
           "radialaxis": {
            "gridcolor": "white",
            "linecolor": "white",
            "showgrid": true,
            "tickcolor": "rgb(51,51,51)",
            "ticks": "outside"
           }
          },
          "scene": {
           "xaxis": {
            "backgroundcolor": "rgb(237,237,237)",
            "gridcolor": "white",
            "gridwidth": 2,
            "linecolor": "white",
            "showbackground": true,
            "showgrid": true,
            "tickcolor": "rgb(51,51,51)",
            "ticks": "outside",
            "zerolinecolor": "white"
           },
           "yaxis": {
            "backgroundcolor": "rgb(237,237,237)",
            "gridcolor": "white",
            "gridwidth": 2,
            "linecolor": "white",
            "showbackground": true,
            "showgrid": true,
            "tickcolor": "rgb(51,51,51)",
            "ticks": "outside",
            "zerolinecolor": "white"
           },
           "zaxis": {
            "backgroundcolor": "rgb(237,237,237)",
            "gridcolor": "white",
            "gridwidth": 2,
            "linecolor": "white",
            "showbackground": true,
            "showgrid": true,
            "tickcolor": "rgb(51,51,51)",
            "ticks": "outside",
            "zerolinecolor": "white"
           }
          },
          "shapedefaults": {
           "fillcolor": "black",
           "line": {
            "width": 0
           },
           "opacity": 0.3
          },
          "ternary": {
           "aaxis": {
            "gridcolor": "white",
            "linecolor": "white",
            "showgrid": true,
            "tickcolor": "rgb(51,51,51)",
            "ticks": "outside"
           },
           "baxis": {
            "gridcolor": "white",
            "linecolor": "white",
            "showgrid": true,
            "tickcolor": "rgb(51,51,51)",
            "ticks": "outside"
           },
           "bgcolor": "rgb(237,237,237)",
           "caxis": {
            "gridcolor": "white",
            "linecolor": "white",
            "showgrid": true,
            "tickcolor": "rgb(51,51,51)",
            "ticks": "outside"
           }
          },
          "xaxis": {
           "automargin": true,
           "gridcolor": "white",
           "linecolor": "white",
           "showgrid": true,
           "tickcolor": "rgb(51,51,51)",
           "ticks": "outside",
           "title": {
            "standoff": 15
           },
           "zerolinecolor": "white"
          },
          "yaxis": {
           "automargin": true,
           "gridcolor": "white",
           "linecolor": "white",
           "showgrid": true,
           "tickcolor": "rgb(51,51,51)",
           "ticks": "outside",
           "title": {
            "standoff": 15
           },
           "zerolinecolor": "white"
          }
         }
        },
        "title": {
         "text": "<b>Cryptonews Weighted Index Sentiment - August 2023</b>"
        },
        "xaxis": {
         "anchor": "y",
         "domain": [
          0,
          1
         ],
         "title": {
          "text": "Date"
         }
        },
        "yaxis": {
         "anchor": "x",
         "domain": [
          0,
          1
         ],
         "title": {
          "text": "Weighted Sentiment"
         }
        }
       }
      }
     },
     "metadata": {},
     "output_type": "display_data"
    }
   ],
   "source": [
    "fig = px.line(\n",
    "    weighted.reset_index()[1:],\n",
    "    x='all_utc_datetime',\n",
    "    y='weighted_avg_index',\n",
    "    markers=True\n",
    ")\n",
    "\n",
    "fig.update_layout(\n",
    "     title=\"<b>Cryptonews Weighted Index Sentiment - August 2023</b>\",\n",
    "     yaxis_title=\"Weighted Sentiment\",\n",
    "     xaxis_title=\"Date\",\n",
    "     template=\"ggplot2\"\n",
    "     )\n",
    "\n",
    "# fig.update_xaxes(type='category')\n",
    "fig.add_vline(x='2023-08-17 21:30:00',line_width=2, line_dash=\"dash\", line_color=\"black\")\n",
    "fig.show()"
   ]
  },
  {
   "cell_type": "code",
   "execution_count": 75,
   "metadata": {},
   "outputs": [],
   "source": [
    "# What about pct change?\n",
    "weighted['pct_chg'] = weighted['weighted_avg_index'].pct_change()\n",
    "weighted['pct_chg'] = weighted['pct_chg'].fillna(0)"
   ]
  },
  {
   "cell_type": "code",
   "execution_count": 80,
   "metadata": {},
   "outputs": [
    {
     "data": {
      "application/vnd.plotly.v1+json": {
       "config": {
        "plotlyServerURL": "https://plot.ly"
       },
       "data": [
        {
         "hovertemplate": "all_utc_datetime=%{x}<br>pct_chg=%{y}<extra></extra>",
         "legendgroup": "",
         "line": {
          "color": "#636efa",
          "dash": "solid"
         },
         "marker": {
          "symbol": "circle"
         },
         "mode": "lines+markers",
         "name": "",
         "orientation": "v",
         "showlegend": false,
         "type": "scatter",
         "x": [
          "2023-08-16T00:30:00",
          "2023-08-16T00:45:00",
          "2023-08-16T01:00:00",
          "2023-08-16T01:15:00",
          "2023-08-16T01:30:00",
          "2023-08-16T01:45:00",
          "2023-08-16T02:00:00",
          "2023-08-16T02:15:00",
          "2023-08-16T02:30:00",
          "2023-08-16T02:45:00",
          "2023-08-16T03:00:00",
          "2023-08-16T03:15:00",
          "2023-08-16T03:30:00",
          "2023-08-16T03:45:00",
          "2023-08-16T04:00:00",
          "2023-08-16T04:15:00",
          "2023-08-16T04:30:00",
          "2023-08-16T04:45:00",
          "2023-08-16T05:00:00",
          "2023-08-16T05:15:00",
          "2023-08-16T05:30:00",
          "2023-08-16T05:45:00",
          "2023-08-16T06:00:00",
          "2023-08-16T06:15:00",
          "2023-08-16T06:30:00",
          "2023-08-16T06:45:00",
          "2023-08-16T07:00:00",
          "2023-08-16T07:15:00",
          "2023-08-16T07:30:00",
          "2023-08-16T07:45:00",
          "2023-08-16T08:00:00",
          "2023-08-16T08:15:00",
          "2023-08-16T08:30:00",
          "2023-08-16T08:45:00",
          "2023-08-16T09:00:00",
          "2023-08-16T09:15:00",
          "2023-08-16T09:30:00",
          "2023-08-16T09:45:00",
          "2023-08-16T10:00:00",
          "2023-08-16T10:15:00",
          "2023-08-16T10:30:00",
          "2023-08-16T10:45:00",
          "2023-08-16T11:00:00",
          "2023-08-16T11:15:00",
          "2023-08-16T11:30:00",
          "2023-08-16T11:45:00",
          "2023-08-16T12:00:00",
          "2023-08-16T12:15:00",
          "2023-08-16T12:30:00",
          "2023-08-16T12:45:00",
          "2023-08-16T13:00:00",
          "2023-08-16T13:15:00",
          "2023-08-16T13:30:00",
          "2023-08-16T13:45:00",
          "2023-08-16T14:00:00",
          "2023-08-16T14:15:00",
          "2023-08-16T14:30:00",
          "2023-08-16T14:45:00",
          "2023-08-16T15:00:00",
          "2023-08-16T15:15:00",
          "2023-08-16T15:30:00",
          "2023-08-16T15:45:00",
          "2023-08-16T16:00:00",
          "2023-08-16T16:15:00",
          "2023-08-16T16:30:00",
          "2023-08-16T16:45:00",
          "2023-08-16T17:00:00",
          "2023-08-16T17:15:00",
          "2023-08-16T17:30:00",
          "2023-08-16T17:45:00",
          "2023-08-16T18:00:00",
          "2023-08-16T18:15:00",
          "2023-08-16T18:30:00",
          "2023-08-16T18:45:00",
          "2023-08-16T19:00:00",
          "2023-08-16T19:15:00",
          "2023-08-16T19:30:00",
          "2023-08-16T19:45:00",
          "2023-08-16T20:00:00",
          "2023-08-16T20:15:00",
          "2023-08-16T20:30:00",
          "2023-08-16T20:45:00",
          "2023-08-16T21:00:00",
          "2023-08-16T21:15:00",
          "2023-08-16T21:30:00",
          "2023-08-16T21:45:00",
          "2023-08-16T22:00:00",
          "2023-08-16T22:15:00",
          "2023-08-16T22:30:00",
          "2023-08-16T22:45:00",
          "2023-08-16T23:00:00",
          "2023-08-16T23:15:00",
          "2023-08-16T23:30:00",
          "2023-08-16T23:45:00",
          "2023-08-17T00:00:00",
          "2023-08-17T00:15:00",
          "2023-08-17T00:30:00",
          "2023-08-17T00:45:00",
          "2023-08-17T01:00:00",
          "2023-08-17T01:15:00",
          "2023-08-17T01:30:00",
          "2023-08-17T01:45:00",
          "2023-08-17T02:00:00",
          "2023-08-17T02:15:00",
          "2023-08-17T02:30:00",
          "2023-08-17T02:45:00",
          "2023-08-17T03:00:00",
          "2023-08-17T03:15:00",
          "2023-08-17T03:30:00",
          "2023-08-17T03:45:00",
          "2023-08-17T04:00:00",
          "2023-08-17T04:15:00",
          "2023-08-17T04:30:00",
          "2023-08-17T04:45:00",
          "2023-08-17T05:00:00",
          "2023-08-17T05:15:00",
          "2023-08-17T05:30:00",
          "2023-08-17T05:45:00",
          "2023-08-17T06:00:00",
          "2023-08-17T06:15:00",
          "2023-08-17T06:30:00",
          "2023-08-17T06:45:00",
          "2023-08-17T07:00:00",
          "2023-08-17T07:15:00",
          "2023-08-17T07:30:00",
          "2023-08-17T07:45:00",
          "2023-08-17T08:00:00",
          "2023-08-17T08:15:00",
          "2023-08-17T08:30:00",
          "2023-08-17T08:45:00",
          "2023-08-17T09:00:00",
          "2023-08-17T09:15:00",
          "2023-08-17T09:30:00",
          "2023-08-17T09:45:00",
          "2023-08-17T10:00:00",
          "2023-08-17T10:15:00",
          "2023-08-17T10:30:00",
          "2023-08-17T10:45:00",
          "2023-08-17T11:00:00",
          "2023-08-17T11:15:00",
          "2023-08-17T11:30:00",
          "2023-08-17T11:45:00",
          "2023-08-17T12:00:00",
          "2023-08-17T12:15:00",
          "2023-08-17T12:30:00",
          "2023-08-17T12:45:00",
          "2023-08-17T13:00:00",
          "2023-08-17T13:15:00",
          "2023-08-17T13:30:00",
          "2023-08-17T13:45:00",
          "2023-08-17T14:00:00",
          "2023-08-17T14:15:00",
          "2023-08-17T14:30:00",
          "2023-08-17T14:45:00",
          "2023-08-17T15:00:00",
          "2023-08-17T15:15:00",
          "2023-08-17T15:30:00",
          "2023-08-17T15:45:00",
          "2023-08-17T16:00:00",
          "2023-08-17T16:15:00",
          "2023-08-17T16:30:00",
          "2023-08-17T16:45:00",
          "2023-08-17T17:00:00",
          "2023-08-17T17:15:00",
          "2023-08-17T17:30:00",
          "2023-08-17T17:45:00",
          "2023-08-17T18:00:00",
          "2023-08-17T18:15:00",
          "2023-08-17T18:30:00",
          "2023-08-17T18:45:00",
          "2023-08-17T19:00:00",
          "2023-08-17T19:15:00",
          "2023-08-17T19:30:00",
          "2023-08-17T19:45:00",
          "2023-08-17T20:00:00",
          "2023-08-17T20:15:00",
          "2023-08-17T20:30:00",
          "2023-08-17T20:45:00",
          "2023-08-17T21:00:00",
          "2023-08-17T21:15:00",
          "2023-08-17T21:30:00",
          "2023-08-17T21:45:00",
          "2023-08-17T22:00:00",
          "2023-08-17T22:15:00",
          "2023-08-17T22:30:00",
          "2023-08-17T22:45:00",
          "2023-08-17T23:00:00",
          "2023-08-17T23:15:00",
          "2023-08-17T23:30:00",
          "2023-08-17T23:45:00",
          "2023-08-18T00:00:00"
         ],
         "xaxis": "x",
         "y": [
          -0.010000000000000009,
          -0.010101010101010055,
          -0.010204081632653073,
          -0.010309278350515427,
          -0.01041666666666663,
          0,
          0.010526315789473717,
          0.01041666666666674,
          0.010309278350515427,
          0.010204081632652962,
          0.010101010101010166,
          0.010000000000000009,
          -0.00990099009900991,
          -0.010000000000000009,
          -0.010101010101010055,
          -0.010204081632653073,
          0,
          0.010309278350515427,
          0.010204081632652962,
          0.010101010101010166,
          0.010000000000000009,
          -0.004562583123984054,
          0,
          0,
          0,
          0,
          0.009946371244595298,
          0.009848415250344411,
          0.009752369862265908,
          0.009658179721426352,
          0.005313346343666758,
          0.009515233854092697,
          0.009425547564810621,
          0.009337536173469552,
          -0.009251153195856787,
          -0.00933753617346944,
          -0.006646736585170787,
          -0.009488615895224095,
          -0.009579512207020024,
          0.00967216684740313,
          0.004952120717188313,
          0.009532307071687729,
          0.009442300167032514,
          0.00935397710742869,
          0.009267291078829398,
          -0.004404640087064093,
          0.009222820190136538,
          0.005980571683794178,
          0.009084208346404443,
          0,
          0,
          0.009002428411094554,
          0.008922107774577803,
          0.008843207722207369,
          0,
          -0.0027257272046519176,
          0.008789649082401763,
          -0.008713064304730622,
          -0.008789649082401652,
          0,
          0,
          0.008867592105212374,
          -0.003500191809284292,
          0.0026575696568384988,
          0,
          0,
          0,
          -0.008797143581522504,
          0,
          0,
          0,
          0.003308325797262146,
          0.008845954866967265,
          0,
          0,
          -0.008768390084027855,
          0,
          0.008845954866967265,
          0.008768390084027855,
          0.008692173714223372,
          0,
          0.0036130244249676924,
          -0.008586248572817645,
          0.008660610729332108,
          0.008586248572817645,
          0.008513152529064705,
          0.008441290535196488,
          0.008370631601881895,
          0.008301145768777829,
          0.008232804062171972,
          0.0040148842090157455,
          0.008132925699735338,
          0.008067314827645555,
          0.0059055693371798945,
          0,
          0.007955770735198708,
          -0.007892976027505383,
          -0.007955770735198597,
          0,
          0.008019572616328352,
          0.007955770735198708,
          -0.002817517562057281,
          0.007915277460759595,
          0.007853117854013103,
          0.0077919269334945085,
          0.007731682230481596,
          -0.0003354038017837624,
          0.007674936168574176,
          -0.007616480169444384,
          -0.007674936168574065,
          -0.007734296399750984,
          -0.00779458200730776,
          -0.007855814800000527,
          -0.007918017277314338,
          -0.00798121265702656,
          -0.008045424904102316,
          -0.008110678760995249,
          -0.008176999779434979,
          -0.00023234987002906937,
          -0.008246330387581269,
          0.008314897781829256,
          -0.008246330387581269,
          0.004053339152410906,
          -0.008281330739707826,
          -0.008350483858375668,
          -0.008420801626431773,
          -0.008492313715580124,
          -0.008565050814083208,
          -0.002193067093148149,
          0.00013086922355776132,
          -0.004109000324598822,
          0,
          0.008692617362298316,
          0.0029347794591769727,
          -0.008592489870610454,
          -0.008666960642137012,
          -0.00874273356989197,
          -0.008819843108316183,
          -0.008898324938197977,
          0.004484693942021556,
          0,
          0.008938131238705349,
          0.008858948791767629,
          -0.0004746571336119443,
          0.008785326989948716,
          -0.008708817183297635,
          -0.008785326989948605,
          0.0002517459335260597,
          0.008860962327737809,
          0.008783135296754008,
          -0.0005765681445206727,
          -0.0002672296433791077,
          0.00029231056721612525,
          -0.004348522800884491,
          0,
          -0.008749516032931726,
          -0.008826745786711165,
          0.004030677050431919,
          -0.008869600561200897,
          -0.008948974389467956,
          -0.009029781674414705,
          -0.000015418039934544936,
          -0.009112202093573885,
          0.0038367621556263387,
          0,
          0.00916084988260879,
          0.009077690522451887,
          -0.008996027370055004,
          0,
          0.0005629575517798191,
          -0.004214647379534364,
          -0.009110982622347774,
          -0.009194755883418337,
          -0.00928008399028668,
          0.0038942671711714727,
          -0.009330674496348057,
          -0.009418555976389409,
          -0.009508108629748269,
          0.009599380583110717,
          -0.009508108629748269,
          -0.009599380583110717,
          0.00010374151804759535,
          -0.009691416426767407,
          -0.005843821951196371,
          -0.009843784463075211,
          -0.00994164790223262,
          -0.010041476728283705,
          -0.010143330747936385,
          -0.01024727221932109,
          -0.0005440717825073715,
          0.01035900201958695
         ],
         "yaxis": "y"
        }
       ],
       "layout": {
        "height": 500,
        "legend": {
         "tracegroupgap": 0
        },
        "margin": {
         "t": 60
        },
        "shapes": [
         {
          "line": {
           "color": "black",
           "dash": "dash",
           "width": 2
          },
          "type": "line",
          "x0": "2023-08-17 21:30:00",
          "x1": "2023-08-17 21:30:00",
          "xref": "x",
          "y0": 0,
          "y1": 1,
          "yref": "y domain"
         },
         {
          "line": {
           "color": "black",
           "width": 2
          },
          "type": "line",
          "x0": 0,
          "x1": 1,
          "xref": "x domain",
          "y0": 0,
          "y1": 0,
          "yref": "y"
         }
        ],
        "template": {
         "data": {
          "bar": [
           {
            "error_x": {
             "color": "rgb(51,51,51)"
            },
            "error_y": {
             "color": "rgb(51,51,51)"
            },
            "marker": {
             "line": {
              "color": "rgb(237,237,237)",
              "width": 0.5
             },
             "pattern": {
              "fillmode": "overlay",
              "size": 10,
              "solidity": 0.2
             }
            },
            "type": "bar"
           }
          ],
          "barpolar": [
           {
            "marker": {
             "line": {
              "color": "rgb(237,237,237)",
              "width": 0.5
             },
             "pattern": {
              "fillmode": "overlay",
              "size": 10,
              "solidity": 0.2
             }
            },
            "type": "barpolar"
           }
          ],
          "carpet": [
           {
            "aaxis": {
             "endlinecolor": "rgb(51,51,51)",
             "gridcolor": "white",
             "linecolor": "white",
             "minorgridcolor": "white",
             "startlinecolor": "rgb(51,51,51)"
            },
            "baxis": {
             "endlinecolor": "rgb(51,51,51)",
             "gridcolor": "white",
             "linecolor": "white",
             "minorgridcolor": "white",
             "startlinecolor": "rgb(51,51,51)"
            },
            "type": "carpet"
           }
          ],
          "choropleth": [
           {
            "colorbar": {
             "outlinewidth": 0,
             "tickcolor": "rgb(237,237,237)",
             "ticklen": 6,
             "ticks": "inside"
            },
            "type": "choropleth"
           }
          ],
          "contour": [
           {
            "colorbar": {
             "outlinewidth": 0,
             "tickcolor": "rgb(237,237,237)",
             "ticklen": 6,
             "ticks": "inside"
            },
            "colorscale": [
             [
              0,
              "rgb(20,44,66)"
             ],
             [
              1,
              "rgb(90,179,244)"
             ]
            ],
            "type": "contour"
           }
          ],
          "contourcarpet": [
           {
            "colorbar": {
             "outlinewidth": 0,
             "tickcolor": "rgb(237,237,237)",
             "ticklen": 6,
             "ticks": "inside"
            },
            "type": "contourcarpet"
           }
          ],
          "heatmap": [
           {
            "colorbar": {
             "outlinewidth": 0,
             "tickcolor": "rgb(237,237,237)",
             "ticklen": 6,
             "ticks": "inside"
            },
            "colorscale": [
             [
              0,
              "rgb(20,44,66)"
             ],
             [
              1,
              "rgb(90,179,244)"
             ]
            ],
            "type": "heatmap"
           }
          ],
          "heatmapgl": [
           {
            "colorbar": {
             "outlinewidth": 0,
             "tickcolor": "rgb(237,237,237)",
             "ticklen": 6,
             "ticks": "inside"
            },
            "colorscale": [
             [
              0,
              "rgb(20,44,66)"
             ],
             [
              1,
              "rgb(90,179,244)"
             ]
            ],
            "type": "heatmapgl"
           }
          ],
          "histogram": [
           {
            "marker": {
             "pattern": {
              "fillmode": "overlay",
              "size": 10,
              "solidity": 0.2
             }
            },
            "type": "histogram"
           }
          ],
          "histogram2d": [
           {
            "colorbar": {
             "outlinewidth": 0,
             "tickcolor": "rgb(237,237,237)",
             "ticklen": 6,
             "ticks": "inside"
            },
            "colorscale": [
             [
              0,
              "rgb(20,44,66)"
             ],
             [
              1,
              "rgb(90,179,244)"
             ]
            ],
            "type": "histogram2d"
           }
          ],
          "histogram2dcontour": [
           {
            "colorbar": {
             "outlinewidth": 0,
             "tickcolor": "rgb(237,237,237)",
             "ticklen": 6,
             "ticks": "inside"
            },
            "colorscale": [
             [
              0,
              "rgb(20,44,66)"
             ],
             [
              1,
              "rgb(90,179,244)"
             ]
            ],
            "type": "histogram2dcontour"
           }
          ],
          "mesh3d": [
           {
            "colorbar": {
             "outlinewidth": 0,
             "tickcolor": "rgb(237,237,237)",
             "ticklen": 6,
             "ticks": "inside"
            },
            "type": "mesh3d"
           }
          ],
          "parcoords": [
           {
            "line": {
             "colorbar": {
              "outlinewidth": 0,
              "tickcolor": "rgb(237,237,237)",
              "ticklen": 6,
              "ticks": "inside"
             }
            },
            "type": "parcoords"
           }
          ],
          "pie": [
           {
            "automargin": true,
            "type": "pie"
           }
          ],
          "scatter": [
           {
            "fillpattern": {
             "fillmode": "overlay",
             "size": 10,
             "solidity": 0.2
            },
            "type": "scatter"
           }
          ],
          "scatter3d": [
           {
            "line": {
             "colorbar": {
              "outlinewidth": 0,
              "tickcolor": "rgb(237,237,237)",
              "ticklen": 6,
              "ticks": "inside"
             }
            },
            "marker": {
             "colorbar": {
              "outlinewidth": 0,
              "tickcolor": "rgb(237,237,237)",
              "ticklen": 6,
              "ticks": "inside"
             }
            },
            "type": "scatter3d"
           }
          ],
          "scattercarpet": [
           {
            "marker": {
             "colorbar": {
              "outlinewidth": 0,
              "tickcolor": "rgb(237,237,237)",
              "ticklen": 6,
              "ticks": "inside"
             }
            },
            "type": "scattercarpet"
           }
          ],
          "scattergeo": [
           {
            "marker": {
             "colorbar": {
              "outlinewidth": 0,
              "tickcolor": "rgb(237,237,237)",
              "ticklen": 6,
              "ticks": "inside"
             }
            },
            "type": "scattergeo"
           }
          ],
          "scattergl": [
           {
            "marker": {
             "colorbar": {
              "outlinewidth": 0,
              "tickcolor": "rgb(237,237,237)",
              "ticklen": 6,
              "ticks": "inside"
             }
            },
            "type": "scattergl"
           }
          ],
          "scattermapbox": [
           {
            "marker": {
             "colorbar": {
              "outlinewidth": 0,
              "tickcolor": "rgb(237,237,237)",
              "ticklen": 6,
              "ticks": "inside"
             }
            },
            "type": "scattermapbox"
           }
          ],
          "scatterpolar": [
           {
            "marker": {
             "colorbar": {
              "outlinewidth": 0,
              "tickcolor": "rgb(237,237,237)",
              "ticklen": 6,
              "ticks": "inside"
             }
            },
            "type": "scatterpolar"
           }
          ],
          "scatterpolargl": [
           {
            "marker": {
             "colorbar": {
              "outlinewidth": 0,
              "tickcolor": "rgb(237,237,237)",
              "ticklen": 6,
              "ticks": "inside"
             }
            },
            "type": "scatterpolargl"
           }
          ],
          "scatterternary": [
           {
            "marker": {
             "colorbar": {
              "outlinewidth": 0,
              "tickcolor": "rgb(237,237,237)",
              "ticklen": 6,
              "ticks": "inside"
             }
            },
            "type": "scatterternary"
           }
          ],
          "surface": [
           {
            "colorbar": {
             "outlinewidth": 0,
             "tickcolor": "rgb(237,237,237)",
             "ticklen": 6,
             "ticks": "inside"
            },
            "colorscale": [
             [
              0,
              "rgb(20,44,66)"
             ],
             [
              1,
              "rgb(90,179,244)"
             ]
            ],
            "type": "surface"
           }
          ],
          "table": [
           {
            "cells": {
             "fill": {
              "color": "rgb(237,237,237)"
             },
             "line": {
              "color": "white"
             }
            },
            "header": {
             "fill": {
              "color": "rgb(217,217,217)"
             },
             "line": {
              "color": "white"
             }
            },
            "type": "table"
           }
          ]
         },
         "layout": {
          "annotationdefaults": {
           "arrowhead": 0,
           "arrowwidth": 1
          },
          "autotypenumbers": "strict",
          "coloraxis": {
           "colorbar": {
            "outlinewidth": 0,
            "tickcolor": "rgb(237,237,237)",
            "ticklen": 6,
            "ticks": "inside"
           }
          },
          "colorscale": {
           "sequential": [
            [
             0,
             "rgb(20,44,66)"
            ],
            [
             1,
             "rgb(90,179,244)"
            ]
           ],
           "sequentialminus": [
            [
             0,
             "rgb(20,44,66)"
            ],
            [
             1,
             "rgb(90,179,244)"
            ]
           ]
          },
          "colorway": [
           "#F8766D",
           "#A3A500",
           "#00BF7D",
           "#00B0F6",
           "#E76BF3"
          ],
          "font": {
           "color": "rgb(51,51,51)"
          },
          "geo": {
           "bgcolor": "white",
           "lakecolor": "white",
           "landcolor": "rgb(237,237,237)",
           "showlakes": true,
           "showland": true,
           "subunitcolor": "white"
          },
          "hoverlabel": {
           "align": "left"
          },
          "hovermode": "closest",
          "paper_bgcolor": "white",
          "plot_bgcolor": "rgb(237,237,237)",
          "polar": {
           "angularaxis": {
            "gridcolor": "white",
            "linecolor": "white",
            "showgrid": true,
            "tickcolor": "rgb(51,51,51)",
            "ticks": "outside"
           },
           "bgcolor": "rgb(237,237,237)",
           "radialaxis": {
            "gridcolor": "white",
            "linecolor": "white",
            "showgrid": true,
            "tickcolor": "rgb(51,51,51)",
            "ticks": "outside"
           }
          },
          "scene": {
           "xaxis": {
            "backgroundcolor": "rgb(237,237,237)",
            "gridcolor": "white",
            "gridwidth": 2,
            "linecolor": "white",
            "showbackground": true,
            "showgrid": true,
            "tickcolor": "rgb(51,51,51)",
            "ticks": "outside",
            "zerolinecolor": "white"
           },
           "yaxis": {
            "backgroundcolor": "rgb(237,237,237)",
            "gridcolor": "white",
            "gridwidth": 2,
            "linecolor": "white",
            "showbackground": true,
            "showgrid": true,
            "tickcolor": "rgb(51,51,51)",
            "ticks": "outside",
            "zerolinecolor": "white"
           },
           "zaxis": {
            "backgroundcolor": "rgb(237,237,237)",
            "gridcolor": "white",
            "gridwidth": 2,
            "linecolor": "white",
            "showbackground": true,
            "showgrid": true,
            "tickcolor": "rgb(51,51,51)",
            "ticks": "outside",
            "zerolinecolor": "white"
           }
          },
          "shapedefaults": {
           "fillcolor": "black",
           "line": {
            "width": 0
           },
           "opacity": 0.3
          },
          "ternary": {
           "aaxis": {
            "gridcolor": "white",
            "linecolor": "white",
            "showgrid": true,
            "tickcolor": "rgb(51,51,51)",
            "ticks": "outside"
           },
           "baxis": {
            "gridcolor": "white",
            "linecolor": "white",
            "showgrid": true,
            "tickcolor": "rgb(51,51,51)",
            "ticks": "outside"
           },
           "bgcolor": "rgb(237,237,237)",
           "caxis": {
            "gridcolor": "white",
            "linecolor": "white",
            "showgrid": true,
            "tickcolor": "rgb(51,51,51)",
            "ticks": "outside"
           }
          },
          "xaxis": {
           "automargin": true,
           "gridcolor": "white",
           "linecolor": "white",
           "showgrid": true,
           "tickcolor": "rgb(51,51,51)",
           "ticks": "outside",
           "title": {
            "standoff": 15
           },
           "zerolinecolor": "white"
          },
          "yaxis": {
           "automargin": true,
           "gridcolor": "white",
           "linecolor": "white",
           "showgrid": true,
           "tickcolor": "rgb(51,51,51)",
           "ticks": "outside",
           "title": {
            "standoff": 15
           },
           "zerolinecolor": "white"
          }
         }
        },
        "title": {
         "text": "<b>Cryptonews Weighted Sentiment Percentual Change - August 2023</b>"
        },
        "width": 1500,
        "xaxis": {
         "anchor": "y",
         "domain": [
          0,
          1
         ],
         "title": {
          "text": "Date"
         }
        },
        "yaxis": {
         "anchor": "x",
         "domain": [
          0,
          1
         ],
         "title": {
          "text": "Weighted Sentiment"
         }
        }
       }
      }
     },
     "metadata": {},
     "output_type": "display_data"
    }
   ],
   "source": [
    "fig = px.line(\n",
    "    weighted.reset_index()[2:],\n",
    "    x='all_utc_datetime',\n",
    "    y='pct_chg',\n",
    "    # text=[f'{int(round(p*100,0))}%' for p in weighted['pct_chg'][2:]],\n",
    "    markers=True\n",
    ")\n",
    "\n",
    "fig.update_layout(\n",
    "     title=\"<b>Cryptonews Weighted Sentiment Percentual Change - August 2023</b>\",\n",
    "     yaxis_title=\"Weighted Sentiment\",\n",
    "     xaxis_title=\"Date\",\n",
    "     template=\"ggplot2\",\n",
    "     width=1500,\n",
    "     height=500\n",
    "     )\n",
    "\n",
    "# fig.update_xaxes(type='category')\n",
    "\n",
    "# fig.update_traces(marker={'size':18, 'symbol':'square'})\n",
    "# fig.update_traces(textposition='middle center', textfont_size=6, textfont_color='white')\n",
    "fig.add_vline(x='2023-08-17 21:30:00',line_width=2, line_dash=\"dash\", line_color=\"black\")\n",
    "fig.add_hline(y=0,line_width=2, line_color=\"black\")\n",
    "fig.show()"
   ]
  },
  {
   "cell_type": "markdown",
   "metadata": {},
   "source": [
    "Weighted sentiment seems to work better somewhat. Further conclusions would require going beyond analysis."
   ]
  }
 ],
 "metadata": {
  "kernelspec": {
   "display_name": "base",
   "language": "python",
   "name": "python3"
  },
  "language_info": {
   "codemirror_mode": {
    "name": "ipython",
    "version": 3
   },
   "file_extension": ".py",
   "mimetype": "text/x-python",
   "name": "python",
   "nbconvert_exporter": "python",
   "pygments_lexer": "ipython3",
   "version": "3.11.3"
  },
  "orig_nbformat": 4
 },
 "nbformat": 4,
 "nbformat_minor": 2
}
